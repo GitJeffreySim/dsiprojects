{
 "cells": [
  {
   "cell_type": "markdown",
   "metadata": {},
   "source": [
    "# MODEL BENCHMARKING AND TUNING"
   ]
  },
  {
   "cell_type": "markdown",
   "metadata": {},
   "source": [
    "# Importing packages"
   ]
  },
  {
   "cell_type": "code",
   "execution_count": 1,
   "metadata": {},
   "outputs": [],
   "source": [
    "import pandas as pd\n",
    "import seaborn as sns\n",
    "import numpy as np\n",
    "import matplotlib.pyplot as plt\n",
    "\n",
    "from sklearn.linear_model import LinearRegression\n",
    "from sklearn.model_selection import train_test_split, cross_val_score\n",
    "from sklearn.preprocessing import StandardScaler, PolynomialFeatures\n",
    "\n",
    "from sklearn.feature_selection import RFE\n",
    "from sklearn.linear_model import RidgeCV, LassoCV, ElasticNetCV, Ridge, Lasso, ElasticNet\n",
    "from sklearn.metrics import mean_squared_error, r2_score\n",
    "\n",
    "\n",
    "# setting some parameters\n",
    "pd.options.display.max_columns = 100\n",
    "pd.options.display.max_rows = 200"
   ]
  },
  {
   "cell_type": "markdown",
   "metadata": {},
   "source": [
    "# Importing data"
   ]
  },
  {
   "cell_type": "code",
   "execution_count": 2,
   "metadata": {},
   "outputs": [
    {
     "name": "stdout",
     "output_type": "stream",
     "text": [
      "(2050, 31)\n"
     ]
    },
    {
     "data": {
      "text/html": [
       "<div>\n",
       "<style scoped>\n",
       "    .dataframe tbody tr th:only-of-type {\n",
       "        vertical-align: middle;\n",
       "    }\n",
       "\n",
       "    .dataframe tbody tr th {\n",
       "        vertical-align: top;\n",
       "    }\n",
       "\n",
       "    .dataframe thead th {\n",
       "        text-align: right;\n",
       "    }\n",
       "</style>\n",
       "<table border=\"1\" class=\"dataframe\">\n",
       "  <thead>\n",
       "    <tr style=\"text-align: right;\">\n",
       "      <th></th>\n",
       "      <th>OverallQual</th>\n",
       "      <th>ExterQual</th>\n",
       "      <th>KitchenQual</th>\n",
       "      <th>GarageCars</th>\n",
       "      <th>GrLivArea</th>\n",
       "      <th>BsmtQual</th>\n",
       "      <th>GarageArea</th>\n",
       "      <th>1stFlrSF</th>\n",
       "      <th>fe_Age</th>\n",
       "      <th>GarageFinish</th>\n",
       "      <th>FireplaceQu</th>\n",
       "      <th>FullBath</th>\n",
       "      <th>Foundation_PConc</th>\n",
       "      <th>TotRmsAbvGrd</th>\n",
       "      <th>HeatingQC</th>\n",
       "      <th>Neighborhood_NridgHt</th>\n",
       "      <th>MasVnrType_None</th>\n",
       "      <th>GarageType_Detchd</th>\n",
       "      <th>GarageType_Attchd</th>\n",
       "      <th>MSSubClass_60</th>\n",
       "      <th>Foundation_CBlock</th>\n",
       "      <th>BsmtFinType1</th>\n",
       "      <th>Exterior1st_VinylSd</th>\n",
       "      <th>Exterior2nd_VinylSd</th>\n",
       "      <th>MasVnrType_Stone</th>\n",
       "      <th>LotShape</th>\n",
       "      <th>MSZoning_RM</th>\n",
       "      <th>Neighborhood_NoRidge</th>\n",
       "      <th>MasVnrType_BrkFace</th>\n",
       "      <th>Neighborhood_StoneBr</th>\n",
       "      <th>SalePrice</th>\n",
       "    </tr>\n",
       "  </thead>\n",
       "  <tbody>\n",
       "    <tr>\n",
       "      <th>0</th>\n",
       "      <td>6</td>\n",
       "      <td>4</td>\n",
       "      <td>4</td>\n",
       "      <td>2.0</td>\n",
       "      <td>1479.0</td>\n",
       "      <td>4</td>\n",
       "      <td>475.0</td>\n",
       "      <td>725.0</td>\n",
       "      <td>44</td>\n",
       "      <td>3</td>\n",
       "      <td>1</td>\n",
       "      <td>2</td>\n",
       "      <td>0</td>\n",
       "      <td>6</td>\n",
       "      <td>5</td>\n",
       "      <td>0</td>\n",
       "      <td>0</td>\n",
       "      <td>0</td>\n",
       "      <td>1</td>\n",
       "      <td>1</td>\n",
       "      <td>1</td>\n",
       "      <td>7</td>\n",
       "      <td>0</td>\n",
       "      <td>0</td>\n",
       "      <td>0</td>\n",
       "      <td>3</td>\n",
       "      <td>0</td>\n",
       "      <td>0</td>\n",
       "      <td>1</td>\n",
       "      <td>0</td>\n",
       "      <td>130500</td>\n",
       "    </tr>\n",
       "    <tr>\n",
       "      <th>1</th>\n",
       "      <td>7</td>\n",
       "      <td>4</td>\n",
       "      <td>4</td>\n",
       "      <td>2.0</td>\n",
       "      <td>2122.0</td>\n",
       "      <td>5</td>\n",
       "      <td>559.0</td>\n",
       "      <td>913.0</td>\n",
       "      <td>24</td>\n",
       "      <td>3</td>\n",
       "      <td>4</td>\n",
       "      <td>2</td>\n",
       "      <td>1</td>\n",
       "      <td>8</td>\n",
       "      <td>5</td>\n",
       "      <td>0</td>\n",
       "      <td>0</td>\n",
       "      <td>0</td>\n",
       "      <td>1</td>\n",
       "      <td>1</td>\n",
       "      <td>0</td>\n",
       "      <td>7</td>\n",
       "      <td>1</td>\n",
       "      <td>1</td>\n",
       "      <td>0</td>\n",
       "      <td>3</td>\n",
       "      <td>0</td>\n",
       "      <td>0</td>\n",
       "      <td>1</td>\n",
       "      <td>0</td>\n",
       "      <td>220000</td>\n",
       "    </tr>\n",
       "    <tr>\n",
       "      <th>2</th>\n",
       "      <td>5</td>\n",
       "      <td>3</td>\n",
       "      <td>4</td>\n",
       "      <td>1.0</td>\n",
       "      <td>1057.0</td>\n",
       "      <td>4</td>\n",
       "      <td>246.0</td>\n",
       "      <td>1057.0</td>\n",
       "      <td>67</td>\n",
       "      <td>2</td>\n",
       "      <td>1</td>\n",
       "      <td>1</td>\n",
       "      <td>0</td>\n",
       "      <td>5</td>\n",
       "      <td>3</td>\n",
       "      <td>0</td>\n",
       "      <td>1</td>\n",
       "      <td>1</td>\n",
       "      <td>0</td>\n",
       "      <td>0</td>\n",
       "      <td>1</td>\n",
       "      <td>7</td>\n",
       "      <td>1</td>\n",
       "      <td>1</td>\n",
       "      <td>0</td>\n",
       "      <td>4</td>\n",
       "      <td>0</td>\n",
       "      <td>0</td>\n",
       "      <td>0</td>\n",
       "      <td>0</td>\n",
       "      <td>109000</td>\n",
       "    </tr>\n",
       "    <tr>\n",
       "      <th>3</th>\n",
       "      <td>5</td>\n",
       "      <td>3</td>\n",
       "      <td>3</td>\n",
       "      <td>2.0</td>\n",
       "      <td>1444.0</td>\n",
       "      <td>5</td>\n",
       "      <td>400.0</td>\n",
       "      <td>744.0</td>\n",
       "      <td>14</td>\n",
       "      <td>4</td>\n",
       "      <td>1</td>\n",
       "      <td>2</td>\n",
       "      <td>1</td>\n",
       "      <td>7</td>\n",
       "      <td>4</td>\n",
       "      <td>0</td>\n",
       "      <td>1</td>\n",
       "      <td>0</td>\n",
       "      <td>0</td>\n",
       "      <td>1</td>\n",
       "      <td>0</td>\n",
       "      <td>2</td>\n",
       "      <td>1</td>\n",
       "      <td>1</td>\n",
       "      <td>0</td>\n",
       "      <td>4</td>\n",
       "      <td>0</td>\n",
       "      <td>0</td>\n",
       "      <td>0</td>\n",
       "      <td>0</td>\n",
       "      <td>174000</td>\n",
       "    </tr>\n",
       "    <tr>\n",
       "      <th>4</th>\n",
       "      <td>6</td>\n",
       "      <td>3</td>\n",
       "      <td>3</td>\n",
       "      <td>2.0</td>\n",
       "      <td>1445.0</td>\n",
       "      <td>3</td>\n",
       "      <td>484.0</td>\n",
       "      <td>831.0</td>\n",
       "      <td>120</td>\n",
       "      <td>2</td>\n",
       "      <td>1</td>\n",
       "      <td>2</td>\n",
       "      <td>1</td>\n",
       "      <td>6</td>\n",
       "      <td>3</td>\n",
       "      <td>0</td>\n",
       "      <td>1</td>\n",
       "      <td>1</td>\n",
       "      <td>0</td>\n",
       "      <td>0</td>\n",
       "      <td>0</td>\n",
       "      <td>2</td>\n",
       "      <td>0</td>\n",
       "      <td>0</td>\n",
       "      <td>0</td>\n",
       "      <td>3</td>\n",
       "      <td>0</td>\n",
       "      <td>0</td>\n",
       "      <td>0</td>\n",
       "      <td>0</td>\n",
       "      <td>138500</td>\n",
       "    </tr>\n",
       "  </tbody>\n",
       "</table>\n",
       "</div>"
      ],
      "text/plain": [
       "   OverallQual  ExterQual  KitchenQual  GarageCars  GrLivArea  BsmtQual  \\\n",
       "0            6          4            4         2.0     1479.0         4   \n",
       "1            7          4            4         2.0     2122.0         5   \n",
       "2            5          3            4         1.0     1057.0         4   \n",
       "3            5          3            3         2.0     1444.0         5   \n",
       "4            6          3            3         2.0     1445.0         3   \n",
       "\n",
       "   GarageArea  1stFlrSF  fe_Age  GarageFinish  FireplaceQu  FullBath  \\\n",
       "0       475.0     725.0      44             3            1         2   \n",
       "1       559.0     913.0      24             3            4         2   \n",
       "2       246.0    1057.0      67             2            1         1   \n",
       "3       400.0     744.0      14             4            1         2   \n",
       "4       484.0     831.0     120             2            1         2   \n",
       "\n",
       "   Foundation_PConc  TotRmsAbvGrd  HeatingQC  Neighborhood_NridgHt  \\\n",
       "0                 0             6          5                     0   \n",
       "1                 1             8          5                     0   \n",
       "2                 0             5          3                     0   \n",
       "3                 1             7          4                     0   \n",
       "4                 1             6          3                     0   \n",
       "\n",
       "   MasVnrType_None  GarageType_Detchd  GarageType_Attchd  MSSubClass_60  \\\n",
       "0                0                  0                  1              1   \n",
       "1                0                  0                  1              1   \n",
       "2                1                  1                  0              0   \n",
       "3                1                  0                  0              1   \n",
       "4                1                  1                  0              0   \n",
       "\n",
       "   Foundation_CBlock  BsmtFinType1  Exterior1st_VinylSd  Exterior2nd_VinylSd  \\\n",
       "0                  1             7                    0                    0   \n",
       "1                  0             7                    1                    1   \n",
       "2                  1             7                    1                    1   \n",
       "3                  0             2                    1                    1   \n",
       "4                  0             2                    0                    0   \n",
       "\n",
       "   MasVnrType_Stone  LotShape  MSZoning_RM  Neighborhood_NoRidge  \\\n",
       "0                 0         3            0                     0   \n",
       "1                 0         3            0                     0   \n",
       "2                 0         4            0                     0   \n",
       "3                 0         4            0                     0   \n",
       "4                 0         3            0                     0   \n",
       "\n",
       "   MasVnrType_BrkFace  Neighborhood_StoneBr  SalePrice  \n",
       "0                   1                     0     130500  \n",
       "1                   1                     0     220000  \n",
       "2                   0                     0     109000  \n",
       "3                   0                     0     174000  \n",
       "4                   0                     0     138500  "
      ]
     },
     "execution_count": 2,
     "metadata": {},
     "output_type": "execute_result"
    }
   ],
   "source": [
    "final_train_df = pd.read_csv('../datasets/final_train_df.csv')\n",
    "print(final_train_df.shape)\n",
    "final_train_df.head()"
   ]
  },
  {
   "cell_type": "markdown",
   "metadata": {},
   "source": [
    "# Model Preparation on Kaggle's train data"
   ]
  },
  {
   "cell_type": "markdown",
   "metadata": {},
   "source": [
    "## Model Prep: Train-Test-Split of Kaggle's train data set using Scikit-Learn's `train_test_split` function\n",
    "\n",
    "Here we applied Train-Test-Split to the Kaggles's train data set."
   ]
  },
  {
   "cell_type": "code",
   "execution_count": 3,
   "metadata": {},
   "outputs": [
    {
     "name": "stdout",
     "output_type": "stream",
     "text": [
      "(2050,)\n",
      "(2050, 30)\n"
     ]
    }
   ],
   "source": [
    "# Set up X and y\n",
    "X =  final_train_df.drop([\"SalePrice\"], axis=1, inplace=False)\n",
    "y =  final_train_df[\"SalePrice\"]\n",
    "print(y.shape)\n",
    "print(X.shape)"
   ]
  },
  {
   "cell_type": "code",
   "execution_count": 4,
   "metadata": {},
   "outputs": [],
   "source": [
    "# train test split\n",
    "X_train, X_test, y_train, y_test = train_test_split(X, y, random_state=42)"
   ]
  },
  {
   "cell_type": "code",
   "execution_count": 5,
   "metadata": {},
   "outputs": [
    {
     "name": "stdout",
     "output_type": "stream",
     "text": [
      "(1537, 30)\n",
      "(513, 30)\n"
     ]
    },
    {
     "data": {
      "text/html": [
       "<div>\n",
       "<style scoped>\n",
       "    .dataframe tbody tr th:only-of-type {\n",
       "        vertical-align: middle;\n",
       "    }\n",
       "\n",
       "    .dataframe tbody tr th {\n",
       "        vertical-align: top;\n",
       "    }\n",
       "\n",
       "    .dataframe thead th {\n",
       "        text-align: right;\n",
       "    }\n",
       "</style>\n",
       "<table border=\"1\" class=\"dataframe\">\n",
       "  <thead>\n",
       "    <tr style=\"text-align: right;\">\n",
       "      <th></th>\n",
       "      <th>OverallQual</th>\n",
       "      <th>ExterQual</th>\n",
       "      <th>KitchenQual</th>\n",
       "      <th>GarageCars</th>\n",
       "      <th>GrLivArea</th>\n",
       "      <th>BsmtQual</th>\n",
       "      <th>GarageArea</th>\n",
       "      <th>1stFlrSF</th>\n",
       "      <th>fe_Age</th>\n",
       "      <th>GarageFinish</th>\n",
       "      <th>FireplaceQu</th>\n",
       "      <th>FullBath</th>\n",
       "      <th>Foundation_PConc</th>\n",
       "      <th>TotRmsAbvGrd</th>\n",
       "      <th>HeatingQC</th>\n",
       "      <th>Neighborhood_NridgHt</th>\n",
       "      <th>MasVnrType_None</th>\n",
       "      <th>GarageType_Detchd</th>\n",
       "      <th>GarageType_Attchd</th>\n",
       "      <th>MSSubClass_60</th>\n",
       "      <th>Foundation_CBlock</th>\n",
       "      <th>BsmtFinType1</th>\n",
       "      <th>Exterior1st_VinylSd</th>\n",
       "      <th>Exterior2nd_VinylSd</th>\n",
       "      <th>MasVnrType_Stone</th>\n",
       "      <th>LotShape</th>\n",
       "      <th>MSZoning_RM</th>\n",
       "      <th>Neighborhood_NoRidge</th>\n",
       "      <th>MasVnrType_BrkFace</th>\n",
       "      <th>Neighborhood_StoneBr</th>\n",
       "    </tr>\n",
       "  </thead>\n",
       "  <tbody>\n",
       "    <tr>\n",
       "      <th>415</th>\n",
       "      <td>7</td>\n",
       "      <td>3</td>\n",
       "      <td>3</td>\n",
       "      <td>2.0</td>\n",
       "      <td>2267.0</td>\n",
       "      <td>4</td>\n",
       "      <td>498.0</td>\n",
       "      <td>1262.0</td>\n",
       "      <td>83</td>\n",
       "      <td>4</td>\n",
       "      <td>5</td>\n",
       "      <td>1</td>\n",
       "      <td>0</td>\n",
       "      <td>7</td>\n",
       "      <td>3</td>\n",
       "      <td>0</td>\n",
       "      <td>1</td>\n",
       "      <td>0</td>\n",
       "      <td>1</td>\n",
       "      <td>0</td>\n",
       "      <td>1</td>\n",
       "      <td>6</td>\n",
       "      <td>0</td>\n",
       "      <td>0</td>\n",
       "      <td>0</td>\n",
       "      <td>4</td>\n",
       "      <td>0</td>\n",
       "      <td>0</td>\n",
       "      <td>0</td>\n",
       "      <td>0</td>\n",
       "    </tr>\n",
       "    <tr>\n",
       "      <th>273</th>\n",
       "      <td>5</td>\n",
       "      <td>3</td>\n",
       "      <td>4</td>\n",
       "      <td>2.0</td>\n",
       "      <td>864.0</td>\n",
       "      <td>4</td>\n",
       "      <td>720.0</td>\n",
       "      <td>864.0</td>\n",
       "      <td>70</td>\n",
       "      <td>3</td>\n",
       "      <td>1</td>\n",
       "      <td>1</td>\n",
       "      <td>0</td>\n",
       "      <td>5</td>\n",
       "      <td>4</td>\n",
       "      <td>0</td>\n",
       "      <td>1</td>\n",
       "      <td>1</td>\n",
       "      <td>0</td>\n",
       "      <td>0</td>\n",
       "      <td>1</td>\n",
       "      <td>6</td>\n",
       "      <td>1</td>\n",
       "      <td>1</td>\n",
       "      <td>0</td>\n",
       "      <td>4</td>\n",
       "      <td>0</td>\n",
       "      <td>0</td>\n",
       "      <td>0</td>\n",
       "      <td>0</td>\n",
       "    </tr>\n",
       "    <tr>\n",
       "      <th>1146</th>\n",
       "      <td>6</td>\n",
       "      <td>3</td>\n",
       "      <td>3</td>\n",
       "      <td>2.0</td>\n",
       "      <td>1465.0</td>\n",
       "      <td>5</td>\n",
       "      <td>393.0</td>\n",
       "      <td>789.0</td>\n",
       "      <td>22</td>\n",
       "      <td>4</td>\n",
       "      <td>5</td>\n",
       "      <td>2</td>\n",
       "      <td>1</td>\n",
       "      <td>7</td>\n",
       "      <td>4</td>\n",
       "      <td>0</td>\n",
       "      <td>1</td>\n",
       "      <td>0</td>\n",
       "      <td>1</td>\n",
       "      <td>1</td>\n",
       "      <td>0</td>\n",
       "      <td>2</td>\n",
       "      <td>1</td>\n",
       "      <td>1</td>\n",
       "      <td>0</td>\n",
       "      <td>3</td>\n",
       "      <td>0</td>\n",
       "      <td>0</td>\n",
       "      <td>0</td>\n",
       "      <td>0</td>\n",
       "    </tr>\n",
       "    <tr>\n",
       "      <th>250</th>\n",
       "      <td>8</td>\n",
       "      <td>4</td>\n",
       "      <td>4</td>\n",
       "      <td>3.0</td>\n",
       "      <td>2501.0</td>\n",
       "      <td>5</td>\n",
       "      <td>751.0</td>\n",
       "      <td>1251.0</td>\n",
       "      <td>25</td>\n",
       "      <td>3</td>\n",
       "      <td>4</td>\n",
       "      <td>2</td>\n",
       "      <td>1</td>\n",
       "      <td>9</td>\n",
       "      <td>5</td>\n",
       "      <td>0</td>\n",
       "      <td>0</td>\n",
       "      <td>0</td>\n",
       "      <td>1</td>\n",
       "      <td>1</td>\n",
       "      <td>0</td>\n",
       "      <td>2</td>\n",
       "      <td>1</td>\n",
       "      <td>1</td>\n",
       "      <td>0</td>\n",
       "      <td>3</td>\n",
       "      <td>0</td>\n",
       "      <td>1</td>\n",
       "      <td>1</td>\n",
       "      <td>0</td>\n",
       "    </tr>\n",
       "    <tr>\n",
       "      <th>413</th>\n",
       "      <td>6</td>\n",
       "      <td>3</td>\n",
       "      <td>3</td>\n",
       "      <td>1.0</td>\n",
       "      <td>1489.0</td>\n",
       "      <td>4</td>\n",
       "      <td>240.0</td>\n",
       "      <td>944.0</td>\n",
       "      <td>80</td>\n",
       "      <td>2</td>\n",
       "      <td>5</td>\n",
       "      <td>2</td>\n",
       "      <td>0</td>\n",
       "      <td>7</td>\n",
       "      <td>3</td>\n",
       "      <td>0</td>\n",
       "      <td>1</td>\n",
       "      <td>1</td>\n",
       "      <td>0</td>\n",
       "      <td>0</td>\n",
       "      <td>0</td>\n",
       "      <td>2</td>\n",
       "      <td>1</td>\n",
       "      <td>1</td>\n",
       "      <td>0</td>\n",
       "      <td>4</td>\n",
       "      <td>0</td>\n",
       "      <td>0</td>\n",
       "      <td>0</td>\n",
       "      <td>0</td>\n",
       "    </tr>\n",
       "  </tbody>\n",
       "</table>\n",
       "</div>"
      ],
      "text/plain": [
       "      OverallQual  ExterQual  KitchenQual  GarageCars  GrLivArea  BsmtQual  \\\n",
       "415             7          3            3         2.0     2267.0         4   \n",
       "273             5          3            4         2.0      864.0         4   \n",
       "1146            6          3            3         2.0     1465.0         5   \n",
       "250             8          4            4         3.0     2501.0         5   \n",
       "413             6          3            3         1.0     1489.0         4   \n",
       "\n",
       "      GarageArea  1stFlrSF  fe_Age  GarageFinish  FireplaceQu  FullBath  \\\n",
       "415        498.0    1262.0      83             4            5         1   \n",
       "273        720.0     864.0      70             3            1         1   \n",
       "1146       393.0     789.0      22             4            5         2   \n",
       "250        751.0    1251.0      25             3            4         2   \n",
       "413        240.0     944.0      80             2            5         2   \n",
       "\n",
       "      Foundation_PConc  TotRmsAbvGrd  HeatingQC  Neighborhood_NridgHt  \\\n",
       "415                  0             7          3                     0   \n",
       "273                  0             5          4                     0   \n",
       "1146                 1             7          4                     0   \n",
       "250                  1             9          5                     0   \n",
       "413                  0             7          3                     0   \n",
       "\n",
       "      MasVnrType_None  GarageType_Detchd  GarageType_Attchd  MSSubClass_60  \\\n",
       "415                 1                  0                  1              0   \n",
       "273                 1                  1                  0              0   \n",
       "1146                1                  0                  1              1   \n",
       "250                 0                  0                  1              1   \n",
       "413                 1                  1                  0              0   \n",
       "\n",
       "      Foundation_CBlock  BsmtFinType1  Exterior1st_VinylSd  \\\n",
       "415                   1             6                    0   \n",
       "273                   1             6                    1   \n",
       "1146                  0             2                    1   \n",
       "250                   0             2                    1   \n",
       "413                   0             2                    1   \n",
       "\n",
       "      Exterior2nd_VinylSd  MasVnrType_Stone  LotShape  MSZoning_RM  \\\n",
       "415                     0                 0         4            0   \n",
       "273                     1                 0         4            0   \n",
       "1146                    1                 0         3            0   \n",
       "250                     1                 0         3            0   \n",
       "413                     1                 0         4            0   \n",
       "\n",
       "      Neighborhood_NoRidge  MasVnrType_BrkFace  Neighborhood_StoneBr  \n",
       "415                      0                   0                     0  \n",
       "273                      0                   0                     0  \n",
       "1146                     0                   0                     0  \n",
       "250                      1                   1                     0  \n",
       "413                      0                   0                     0  "
      ]
     },
     "execution_count": 5,
     "metadata": {},
     "output_type": "execute_result"
    }
   ],
   "source": [
    "# checking\n",
    "print(X_train.shape)\n",
    "print(X_test.shape)\n",
    "X_train.head()"
   ]
  },
  {
   "cell_type": "code",
   "execution_count": 6,
   "metadata": {},
   "outputs": [
    {
     "name": "stdout",
     "output_type": "stream",
     "text": [
      "(1537,)\n",
      "(513,)\n"
     ]
    },
    {
     "data": {
      "text/plain": [
       "415     219000\n",
       "273     129000\n",
       "1146    180400\n",
       "250     290000\n",
       "413     139500\n",
       "Name: SalePrice, dtype: int64"
      ]
     },
     "execution_count": 6,
     "metadata": {},
     "output_type": "execute_result"
    }
   ],
   "source": [
    "# checking\n",
    "print(y_train.shape)\n",
    "print(y_test.shape)\n",
    "y_train.head()"
   ]
  },
  {
   "cell_type": "markdown",
   "metadata": {},
   "source": [
    "## Model Prep: Scaling using sklearn StandardScaler\n",
    "\n",
    "Here we ensured that the data were scaled correctly."
   ]
  },
  {
   "cell_type": "code",
   "execution_count": 7,
   "metadata": {},
   "outputs": [
    {
     "data": {
      "text/plain": [
       "StandardScaler()"
      ]
     },
     "execution_count": 7,
     "metadata": {},
     "output_type": "execute_result"
    }
   ],
   "source": [
    "# instantiate\n",
    "ss = StandardScaler()\n",
    "\n",
    "# fit X\n",
    "ss.fit(X_train)"
   ]
  },
  {
   "cell_type": "code",
   "execution_count": 8,
   "metadata": {},
   "outputs": [],
   "source": [
    "X_train_scaled = ss.transform(X_train)\n",
    "X_test_scaled = ss.transform(X_test)"
   ]
  },
  {
   "cell_type": "markdown",
   "metadata": {},
   "source": [
    "## Model Prep: Instantiate our model\n",
    "\n",
    "Here we instantiated all the models that we used in model evalaution."
   ]
  },
  {
   "cell_type": "code",
   "execution_count": 9,
   "metadata": {},
   "outputs": [],
   "source": [
    "# Linear Model\n",
    "lr = LinearRegression()"
   ]
  },
  {
   "cell_type": "code",
   "execution_count": 10,
   "metadata": {},
   "outputs": [],
   "source": [
    "# Ridge Model\n",
    "ridge = RidgeCV(alphas=np.linspace(1,1000,100)) # specifiy the range of iterations"
   ]
  },
  {
   "cell_type": "code",
   "execution_count": 11,
   "metadata": {},
   "outputs": [],
   "source": [
    "# Lasso Model\n",
    "lasso = LassoCV(n_alphas=100) # specifiy the range of iterations"
   ]
  },
  {
   "cell_type": "code",
   "execution_count": 12,
   "metadata": {},
   "outputs": [],
   "source": [
    "# ElasticNet Model\n",
    "enet_alphas = np.arange(0.1, 1.0, 0.01) # elasticnet range usually very small scale\n",
    "enet_ratio = 0.5\n",
    "enet = ElasticNetCV(alphas=enet_alphas, l1_ratio=enet_ratio, cv=5)"
   ]
  },
  {
   "cell_type": "markdown",
   "metadata": {},
   "source": [
    "## Model Cross Validation\n",
    "\n",
    "Here we used cross_val_score to evaluate our models.\n",
    "- train data set = data set given by kaggle that was cleaned and processed in previous steps.\n",
    "- train bloc = portion of the train data set use to train the model\n",
    "- test bloc = portion of the train data set use to validate the model"
   ]
  },
  {
   "cell_type": "code",
   "execution_count": 13,
   "metadata": {},
   "outputs": [
    {
     "name": "stdout",
     "output_type": "stream",
     "text": [
      "(1537, 30)\n",
      "(1537,)\n"
     ]
    }
   ],
   "source": [
    "print(X_train_scaled.shape)\n",
    "print(y_train.shape)"
   ]
  },
  {
   "cell_type": "markdown",
   "metadata": {},
   "source": [
    "### Model Linear Regression"
   ]
  },
  {
   "cell_type": "code",
   "execution_count": 14,
   "metadata": {},
   "outputs": [
    {
     "name": "stdout",
     "output_type": "stream",
     "text": [
      "Model train bloc R2 (LR) = 0.8107690149061488\n",
      "Model train bloc RMSE (LR) = 34415.40003234928\n"
     ]
    }
   ],
   "source": [
    "# Estimate of model using LR cross validation\n",
    "print(\"Model train bloc R2 (LR) =\", cross_val_score(lr, X_train_scaled, y_train, cv=5).mean())\n",
    "#print(\"Model train bloc MSE(LR) =\", -cross_val_score(lr, X_train_scaled, y_train, cv=5, scoring='neg_mean_squared_error').mean())\n",
    "print(\"Model train bloc RMSE (LR) =\", np.sqrt(-cross_val_score(lr, X_train_scaled, y_train, cv=5, scoring='neg_mean_squared_error').mean()))\n",
    "\n",
    "# variable for referencing use later\n",
    "lr_cv_mean_mse = np.sqrt(-cross_val_score(lr, X_train_scaled, y_train, cv=5, scoring='neg_mean_squared_error').mean())"
   ]
  },
  {
   "cell_type": "markdown",
   "metadata": {},
   "source": [
    "### Model Ridge Regression"
   ]
  },
  {
   "cell_type": "code",
   "execution_count": 15,
   "metadata": {},
   "outputs": [
    {
     "name": "stdout",
     "output_type": "stream",
     "text": [
      "Model train bloc R2 (Ridge) = 0.8133603258983501\n",
      "Model train bloc RMSE (Ridge) = 34206.37785187109\n"
     ]
    }
   ],
   "source": [
    "# Ridge R2 of train set\n",
    "print(\"Model train bloc R2 (Ridge) =\", cross_val_score(ridge,X_train_scaled,y_train,cv=5).mean())\n",
    "#print(\"Model train bloc MSE (Ridge) =\", -cross_val_score(ridge,X_train_scaled,y_train,cv=5, scoring ='neg_mean_squared_error').mean()\n",
    "print(\"Model train bloc RMSE (Ridge) =\", np.sqrt(-cross_val_score(ridge,X_train_scaled,y_train,cv=5, scoring ='neg_mean_squared_error').mean()))"
   ]
  },
  {
   "cell_type": "markdown",
   "metadata": {},
   "source": [
    "### Model Lasso Regression"
   ]
  },
  {
   "cell_type": "code",
   "execution_count": 16,
   "metadata": {},
   "outputs": [
    {
     "name": "stdout",
     "output_type": "stream",
     "text": [
      "Model train bloc R2 (Lasso) = 0.8125403506859149\n",
      "Model train bloc RMSE (Lasso) = 34274.42157554937\n"
     ]
    }
   ],
   "source": [
    "# Lasso R2 of train set\n",
    "print(\"Model train bloc R2 (Lasso) =\", cross_val_score(lasso,X_train_scaled,y_train,cv=5).mean())\n",
    "#print(\"Model train bloc MSE (Lasso) =\", -cross_val_score(lasso,X_train_scaled,y_train,cv=5, scoring ='neg_mean_squared_error').mean()\n",
    "print(\"Model train bloc RMSE (Lasso) =\", np.sqrt(-cross_val_score(lasso,X_train_scaled,y_train,cv=5, scoring ='neg_mean_squared_error').mean()))"
   ]
  },
  {
   "cell_type": "markdown",
   "metadata": {},
   "source": [
    "### Model ElasticNet Regression"
   ]
  },
  {
   "cell_type": "code",
   "execution_count": 17,
   "metadata": {},
   "outputs": [
    {
     "name": "stdout",
     "output_type": "stream",
     "text": [
      "Model train bloc R2 (ENet) = 0.8130629487010985\n",
      "Model train bloc RMSE (ENet) = 34233.06226200021\n"
     ]
    }
   ],
   "source": [
    "# Lasso R2 of train set\n",
    "print(\"Model train bloc R2 (ENet) =\", cross_val_score(enet,X_train_scaled,y_train,cv=5).mean())\n",
    "#print(\"Model train block MSE (ENet) =\", -cross_val_score(enet,X_train_scaled,y_train,cv=5, scoring ='neg_mean_squared_error').mean()\n",
    "print(\"Model train bloc RMSE (ENet) =\", np.sqrt(-cross_val_score(enet,X_train_scaled,y_train,cv=5, scoring ='neg_mean_squared_error').mean()))"
   ]
  },
  {
   "cell_type": "markdown",
   "metadata": {},
   "source": [
    "### Interpretation of model's cross validation scores\n",
    "\n",
    "\n",
    "|Model Type|Validation Method|R2|RMSE|R2 var +/- 5%|RMSE better?|Remarks|\n",
    "|:---|:---|:---|:---|:---:|:---:|:---|\n",
    "|Baseline (Unseen data)|LR cross validation|       0.8248| \t  33,261|---|---|---|\n",
    "|---|---|---|---|---|---|---|\n",
    "|Train bloc|LR cross validation|\t  0.8108| \t 34,415|Yes|No|Lower bias, Increase variance|\n",
    "|Train bloc|Ridge cross validation|\t 0.8134| \t 34,206|Yes|No|Lower bias, Increase variance|\n",
    "|Train bloc|Lasso cross validation|\t 0.8125| \t 34,274|Yes|No|Lower bias, Increase variance|\n",
    "|Train bloc|ElasticNet cross validation|\t 0.8131| \t 34,233|Yes|No|Lower bias, Increase variance|\n",
    "\n"
   ]
  },
  {
   "cell_type": "markdown",
   "metadata": {},
   "source": [
    "**Observation**\n",
    "\n",
    "When we applied the basic models (without tuning) to the train bloc and comparing it against the baseline. We saw that all the models had lower bias (R2) but it is within the tolerance (+/- 5%) that we set. We also saw an increase in variance (RMSE) but not by a large margin. This was more or less expected as the number of rows had decreased by almost 1/3 of the total train data set with 2050 rows.\n",
    "\n",
    "This was a typical case of overfitting where the models matches the training data \"too closely”. Learning from the noise in the data, rather than just the signal. This happened because we are evaluating the models by testing it on the same data that was used to train it. Hence, creating a model that is \"too complex\".\n",
    "\n",
    "The impact of overfitting was that the models will do well on the training data, but won't generalize to out-of-sample\n",
    "data. The models will have low bias, but high variance which is exactly what we had observed here.\n",
    "\n",
    "This observation brought out the need for Regularization. Regularization is a method for \"constraining\" or \"regularizing\" the size of the coefficients, thus \"shrinking\" them towards zero. It reduces model variance and thus minimizes overfitting.\n",
    "If the model is too complex, it tends to reduce variance more than it increases bias, resulting in a model that is more likely to generalize. Our goal was to locate the optimum model complexity, and thus regularization is useful when we believe our model is too complex. We shall observed this in the next step.\n",
    "\n",
    "Note: we added ElasticNet here as we intent to determine in next step if it will produce a better result."
   ]
  },
  {
   "cell_type": "markdown",
   "metadata": {},
   "source": [
    "## Model Fitting, Evaluation and Tuning\n",
    "\n",
    "Fit the model to the train bloc, and evaluate the train and test bloc scores."
   ]
  },
  {
   "cell_type": "code",
   "execution_count": 18,
   "metadata": {},
   "outputs": [
    {
     "name": "stdout",
     "output_type": "stream",
     "text": [
      "(1537, 30)\n",
      "(1537,)\n",
      "(513, 30)\n",
      "(513,)\n"
     ]
    }
   ],
   "source": [
    "print(X_train_scaled.shape)\n",
    "print(y_train.shape)\n",
    "print(X_test_scaled.shape)\n",
    "print(y_test.shape)"
   ]
  },
  {
   "cell_type": "markdown",
   "metadata": {},
   "source": [
    "### Model Linear Regression"
   ]
  },
  {
   "cell_type": "code",
   "execution_count": 19,
   "metadata": {},
   "outputs": [
    {
     "name": "stdout",
     "output_type": "stream",
     "text": [
      "R2 (LR) of train bloc 0.8282075639366577\n",
      "R2 (LR) of test bloc 0.8344031868143972\n"
     ]
    }
   ],
   "source": [
    "# fit to linear regression model\n",
    "lr.fit(X_train_scaled,y_train)\n",
    "\n",
    "# evaluate R2 of linear regression model\n",
    "print(\"R2 (LR) of train bloc \" + str(lr.score(X_train_scaled,y_train)))\n",
    "print(\"R2 (LR) of test bloc \" + str(lr.score(X_test_scaled,y_test)))\n",
    "#print(\"R2 (LR) estimate of model using train bloc \" + str(lr_cv_scores.mean()))"
   ]
  },
  {
   "cell_type": "code",
   "execution_count": 20,
   "metadata": {},
   "outputs": [],
   "source": [
    "# evaluate MSE of linear regression model\n",
    "# print(\"MSE (LR) of train bloc \" + str(mean_squared_error(y_train, lr.predict(X_train_scaled))))\n",
    "# print(\"MSE (LR) of test bloc \" + str(mean_squared_error(y_test,lr.predict(X_test_scaled))))\n",
    "# print(\"MSE (LR) estimate of model using train bloc \" + str(lr_cv_mse_scores.mean()))"
   ]
  },
  {
   "cell_type": "code",
   "execution_count": 21,
   "metadata": {},
   "outputs": [
    {
     "name": "stdout",
     "output_type": "stream",
     "text": [
      "RMSE (LR) of train bloc 32850.370869256905\n",
      "RMSE (LR) of test bloc 32216.175249466887\n"
     ]
    }
   ],
   "source": [
    "# evaluate RMSE of linear regression model\n",
    "print(\"RMSE (LR) of train bloc \" + str(np.sqrt(mean_squared_error(y_train, lr.predict(X_train_scaled)))))\n",
    "print(\"RMSE (LR) of test bloc \" + str(np.sqrt(mean_squared_error(y_test,lr.predict(X_test_scaled)))))\n",
    "# print(\"RMSE (LR) estimate of model using train bloc \" + str(np.sqrt(lr_cv_mse_scores.mean())))"
   ]
  },
  {
   "cell_type": "markdown",
   "metadata": {},
   "source": [
    "### Ridge Regression"
   ]
  },
  {
   "cell_type": "code",
   "execution_count": 22,
   "metadata": {},
   "outputs": [
    {
     "data": {
      "text/plain": [
       "RidgeCV(alphas=array([   1.        ,   11.09090909,   21.18181818,   31.27272727,\n",
       "         41.36363636,   51.45454545,   61.54545455,   71.63636364,\n",
       "         81.72727273,   91.81818182,  101.90909091,  112.        ,\n",
       "        122.09090909,  132.18181818,  142.27272727,  152.36363636,\n",
       "        162.45454545,  172.54545455,  182.63636364,  192.72727273,\n",
       "        202.81818182,  212.90909091,  223.        ,  233.09090909,\n",
       "        243.18181818,  253.27272727,  263.36363636,  273.45454545...\n",
       "        687.18181818,  697.27272727,  707.36363636,  717.45454545,\n",
       "        727.54545455,  737.63636364,  747.72727273,  757.81818182,\n",
       "        767.90909091,  778.        ,  788.09090909,  798.18181818,\n",
       "        808.27272727,  818.36363636,  828.45454545,  838.54545455,\n",
       "        848.63636364,  858.72727273,  868.81818182,  878.90909091,\n",
       "        889.        ,  899.09090909,  909.18181818,  919.27272727,\n",
       "        929.36363636,  939.45454545,  949.54545455,  959.63636364,\n",
       "        969.72727273,  979.81818182,  989.90909091, 1000.        ]))"
      ]
     },
     "execution_count": 22,
     "metadata": {},
     "output_type": "execute_result"
    }
   ],
   "source": [
    "# fit to ridge regression model\n",
    "ridge.fit(X_train_scaled,y_train)"
   ]
  },
  {
   "cell_type": "code",
   "execution_count": 23,
   "metadata": {},
   "outputs": [
    {
     "data": {
      "text/plain": [
       "132.1818181818182"
      ]
     },
     "execution_count": 23,
     "metadata": {},
     "output_type": "execute_result"
    }
   ],
   "source": [
    "ridge.alpha_ # optimal alpha based on range specified"
   ]
  },
  {
   "cell_type": "code",
   "execution_count": 24,
   "metadata": {},
   "outputs": [
    {
     "name": "stdout",
     "output_type": "stream",
     "text": [
      "R2 (Ridge) of train bloc 0.8271922212106602\n",
      "R2 (Ridge) of test bloc 0.8342819187835657\n"
     ]
    }
   ],
   "source": [
    "# evaluate R2 of ridge regression model\n",
    "print(\"R2 (Ridge) of train bloc \" + str(ridge.score(X_train_scaled,y_train)))\n",
    "print(\"R2 (Ridge) of test bloc \" + str(ridge.score(X_test_scaled,y_test)))\n",
    "#print(\"R2(Ridge) estimate of model using train bloc \" + str(ridge_cv_scores.mean()))"
   ]
  },
  {
   "cell_type": "code",
   "execution_count": 25,
   "metadata": {},
   "outputs": [],
   "source": [
    "# evaluate MSE of ridge regression model\n",
    "# print(\"MSE (Ridge) of train bloc \" + str(mean_squared_error(y_train, ridge.predict(X_train_scaled))))\n",
    "# print(\"MSE (Ridge) of test bloc \" + str(mean_squared_error(y_test,ridge.predict(X_test_scaled))))\n",
    "# print(\"MSE(Ridge) estimate of model using train bloc \" + str(ridge_cv_mse_scores.mean()))"
   ]
  },
  {
   "cell_type": "code",
   "execution_count": 26,
   "metadata": {},
   "outputs": [
    {
     "name": "stdout",
     "output_type": "stream",
     "text": [
      "RMSE(Ridge) of train bloc 32947.30542432953\n",
      "RMSE(Ridge) of test bloc 32227.96918763311\n"
     ]
    }
   ],
   "source": [
    "# evaluate RMSE of ridge regression model\n",
    "print(\"RMSE(Ridge) of train bloc \" + str(np.sqrt(mean_squared_error(y_train, ridge.predict(X_train_scaled)))))\n",
    "print(\"RMSE(Ridge) of test bloc \" + str(np.sqrt(mean_squared_error(y_test,ridge.predict(X_test_scaled)))))\n",
    "#print(\"RMSE(Ridge) estimate of model using train bloc \" + str(np.sqrt(ridge_cv_mse_scores.mean())))"
   ]
  },
  {
   "cell_type": "code",
   "execution_count": 27,
   "metadata": {},
   "outputs": [
    {
     "data": {
      "image/png": "[encoded data removed]",
      "text/plain": [
       "<Figure size 1080x504 with 1 Axes>"
      ]
     },
     "metadata": {
      "needs_background": "light"
     },
     "output_type": "display_data"
    }
   ],
   "source": [
    "# features with higher scores are more useful in predicting, sorting will be easier to see\n",
    "col_names = X_train.columns.tolist()\n",
    "pd.Series(ridge.coef_, index=col_names).sort_values(ascending=False).plot.bar(figsize=(15,7)).grid(zorder=0);"
   ]
  },
  {
   "cell_type": "markdown",
   "metadata": {},
   "source": [
    "**Observation**\n",
    "\n",
    "Ridge regression penalizes the model for having large coefficients. It shrinks the regression coefficients where as alpha increases, coefficients decreases. Ridge alpha acts as a \"tuning\" parameter\". From the plot above, features such as `OverallQual``1stFlrSF``GrLivArea` would be penalized the most."
   ]
  },
  {
   "cell_type": "code",
   "execution_count": 28,
   "metadata": {},
   "outputs": [
    {
     "data": {
      "text/plain": [
       "array([14402.24485388,  8774.44101518,  7809.65475815,  4287.76068967,\n",
       "        5907.21814361,  5059.19512189,  5472.94362638,  9881.53866701,\n",
       "        -408.39369527,  1865.33069339,  6866.74452076,   533.37010027,\n",
       "        -364.96409819,  9850.77919484,  3190.70538128,  8388.70985592,\n",
       "         969.95816916,   -50.91166985,   182.59585148,  2597.16146806,\n",
       "        1016.89900687,  6081.92599972,  -828.98179992,   -25.83938514,\n",
       "        2114.21036725, -1556.12008147, -1598.31122762,  6063.62104358,\n",
       "         294.01349368,  8635.10338123])"
      ]
     },
     "execution_count": 28,
     "metadata": {},
     "output_type": "execute_result"
    }
   ],
   "source": [
    "ridge_coefficients = ridge.coef_\n",
    "ridge_coefficients"
   ]
  },
  {
   "cell_type": "code",
   "execution_count": 29,
   "metadata": {},
   "outputs": [
    {
     "data": {
      "text/html": [
       "<div>\n",
       "<style scoped>\n",
       "    .dataframe tbody tr th:only-of-type {\n",
       "        vertical-align: middle;\n",
       "    }\n",
       "\n",
       "    .dataframe tbody tr th {\n",
       "        vertical-align: top;\n",
       "    }\n",
       "\n",
       "    .dataframe thead th {\n",
       "        text-align: right;\n",
       "    }\n",
       "</style>\n",
       "<table border=\"1\" class=\"dataframe\">\n",
       "  <thead>\n",
       "    <tr style=\"text-align: right;\">\n",
       "      <th></th>\n",
       "      <th>predictors</th>\n",
       "      <th>coefficients</th>\n",
       "    </tr>\n",
       "  </thead>\n",
       "  <tbody>\n",
       "    <tr>\n",
       "      <th>0</th>\n",
       "      <td>OverallQual</td>\n",
       "      <td>14402.244854</td>\n",
       "    </tr>\n",
       "    <tr>\n",
       "      <th>1</th>\n",
       "      <td>ExterQual</td>\n",
       "      <td>8774.441015</td>\n",
       "    </tr>\n",
       "    <tr>\n",
       "      <th>2</th>\n",
       "      <td>KitchenQual</td>\n",
       "      <td>7809.654758</td>\n",
       "    </tr>\n",
       "    <tr>\n",
       "      <th>3</th>\n",
       "      <td>GarageCars</td>\n",
       "      <td>4287.760690</td>\n",
       "    </tr>\n",
       "    <tr>\n",
       "      <th>4</th>\n",
       "      <td>GrLivArea</td>\n",
       "      <td>5907.218144</td>\n",
       "    </tr>\n",
       "    <tr>\n",
       "      <th>5</th>\n",
       "      <td>BsmtQual</td>\n",
       "      <td>5059.195122</td>\n",
       "    </tr>\n",
       "    <tr>\n",
       "      <th>6</th>\n",
       "      <td>GarageArea</td>\n",
       "      <td>5472.943626</td>\n",
       "    </tr>\n",
       "    <tr>\n",
       "      <th>7</th>\n",
       "      <td>1stFlrSF</td>\n",
       "      <td>9881.538667</td>\n",
       "    </tr>\n",
       "    <tr>\n",
       "      <th>8</th>\n",
       "      <td>fe_Age</td>\n",
       "      <td>-408.393695</td>\n",
       "    </tr>\n",
       "    <tr>\n",
       "      <th>9</th>\n",
       "      <td>GarageFinish</td>\n",
       "      <td>1865.330693</td>\n",
       "    </tr>\n",
       "    <tr>\n",
       "      <th>10</th>\n",
       "      <td>FireplaceQu</td>\n",
       "      <td>6866.744521</td>\n",
       "    </tr>\n",
       "    <tr>\n",
       "      <th>11</th>\n",
       "      <td>FullBath</td>\n",
       "      <td>533.370100</td>\n",
       "    </tr>\n",
       "    <tr>\n",
       "      <th>12</th>\n",
       "      <td>Foundation_PConc</td>\n",
       "      <td>-364.964098</td>\n",
       "    </tr>\n",
       "    <tr>\n",
       "      <th>13</th>\n",
       "      <td>TotRmsAbvGrd</td>\n",
       "      <td>9850.779195</td>\n",
       "    </tr>\n",
       "    <tr>\n",
       "      <th>14</th>\n",
       "      <td>HeatingQC</td>\n",
       "      <td>3190.705381</td>\n",
       "    </tr>\n",
       "    <tr>\n",
       "      <th>15</th>\n",
       "      <td>Neighborhood_NridgHt</td>\n",
       "      <td>8388.709856</td>\n",
       "    </tr>\n",
       "    <tr>\n",
       "      <th>16</th>\n",
       "      <td>MasVnrType_None</td>\n",
       "      <td>969.958169</td>\n",
       "    </tr>\n",
       "    <tr>\n",
       "      <th>17</th>\n",
       "      <td>GarageType_Detchd</td>\n",
       "      <td>-50.911670</td>\n",
       "    </tr>\n",
       "    <tr>\n",
       "      <th>18</th>\n",
       "      <td>GarageType_Attchd</td>\n",
       "      <td>182.595851</td>\n",
       "    </tr>\n",
       "    <tr>\n",
       "      <th>19</th>\n",
       "      <td>MSSubClass_60</td>\n",
       "      <td>2597.161468</td>\n",
       "    </tr>\n",
       "    <tr>\n",
       "      <th>20</th>\n",
       "      <td>Foundation_CBlock</td>\n",
       "      <td>1016.899007</td>\n",
       "    </tr>\n",
       "    <tr>\n",
       "      <th>21</th>\n",
       "      <td>BsmtFinType1</td>\n",
       "      <td>6081.926000</td>\n",
       "    </tr>\n",
       "    <tr>\n",
       "      <th>22</th>\n",
       "      <td>Exterior1st_VinylSd</td>\n",
       "      <td>-828.981800</td>\n",
       "    </tr>\n",
       "    <tr>\n",
       "      <th>23</th>\n",
       "      <td>Exterior2nd_VinylSd</td>\n",
       "      <td>-25.839385</td>\n",
       "    </tr>\n",
       "    <tr>\n",
       "      <th>24</th>\n",
       "      <td>MasVnrType_Stone</td>\n",
       "      <td>2114.210367</td>\n",
       "    </tr>\n",
       "    <tr>\n",
       "      <th>25</th>\n",
       "      <td>LotShape</td>\n",
       "      <td>-1556.120081</td>\n",
       "    </tr>\n",
       "    <tr>\n",
       "      <th>26</th>\n",
       "      <td>MSZoning_RM</td>\n",
       "      <td>-1598.311228</td>\n",
       "    </tr>\n",
       "    <tr>\n",
       "      <th>27</th>\n",
       "      <td>Neighborhood_NoRidge</td>\n",
       "      <td>6063.621044</td>\n",
       "    </tr>\n",
       "    <tr>\n",
       "      <th>28</th>\n",
       "      <td>MasVnrType_BrkFace</td>\n",
       "      <td>294.013494</td>\n",
       "    </tr>\n",
       "    <tr>\n",
       "      <th>29</th>\n",
       "      <td>Neighborhood_StoneBr</td>\n",
       "      <td>8635.103381</td>\n",
       "    </tr>\n",
       "  </tbody>\n",
       "</table>\n",
       "</div>"
      ],
      "text/plain": [
       "              predictors  coefficients\n",
       "0            OverallQual  14402.244854\n",
       "1              ExterQual   8774.441015\n",
       "2            KitchenQual   7809.654758\n",
       "3             GarageCars   4287.760690\n",
       "4              GrLivArea   5907.218144\n",
       "5               BsmtQual   5059.195122\n",
       "6             GarageArea   5472.943626\n",
       "7               1stFlrSF   9881.538667\n",
       "8                 fe_Age   -408.393695\n",
       "9           GarageFinish   1865.330693\n",
       "10           FireplaceQu   6866.744521\n",
       "11              FullBath    533.370100\n",
       "12      Foundation_PConc   -364.964098\n",
       "13          TotRmsAbvGrd   9850.779195\n",
       "14             HeatingQC   3190.705381\n",
       "15  Neighborhood_NridgHt   8388.709856\n",
       "16       MasVnrType_None    969.958169\n",
       "17     GarageType_Detchd    -50.911670\n",
       "18     GarageType_Attchd    182.595851\n",
       "19         MSSubClass_60   2597.161468\n",
       "20     Foundation_CBlock   1016.899007\n",
       "21          BsmtFinType1   6081.926000\n",
       "22   Exterior1st_VinylSd   -828.981800\n",
       "23   Exterior2nd_VinylSd    -25.839385\n",
       "24      MasVnrType_Stone   2114.210367\n",
       "25              LotShape  -1556.120081\n",
       "26           MSZoning_RM  -1598.311228\n",
       "27  Neighborhood_NoRidge   6063.621044\n",
       "28    MasVnrType_BrkFace    294.013494\n",
       "29  Neighborhood_StoneBr   8635.103381"
      ]
     },
     "execution_count": 29,
     "metadata": {},
     "output_type": "execute_result"
    }
   ],
   "source": [
    "ridge_coef_df = pd.DataFrame({'predictors': [col for col in col_names],\n",
    "                              'coefficients': ridge_coefficients})\n",
    "ridge_coef_df"
   ]
  },
  {
   "cell_type": "markdown",
   "metadata": {},
   "source": [
    "### Lasso Regression"
   ]
  },
  {
   "cell_type": "code",
   "execution_count": 30,
   "metadata": {},
   "outputs": [
    {
     "data": {
      "text/plain": [
       "LassoCV()"
      ]
     },
     "execution_count": 30,
     "metadata": {},
     "output_type": "execute_result"
    }
   ],
   "source": [
    "# fit to lasso regression model\n",
    "lasso.fit(X_train_scaled,y_train)"
   ]
  },
  {
   "cell_type": "code",
   "execution_count": 31,
   "metadata": {},
   "outputs": [
    {
     "data": {
      "text/plain": [
       "413.95204779853304"
      ]
     },
     "execution_count": 31,
     "metadata": {},
     "output_type": "execute_result"
    }
   ],
   "source": [
    "# optimal alpha based on range specified\n",
    "lasso_optimal_alpha = lasso.alpha_\n",
    "lasso_optimal_alpha"
   ]
  },
  {
   "cell_type": "code",
   "execution_count": 32,
   "metadata": {},
   "outputs": [
    {
     "name": "stdout",
     "output_type": "stream",
     "text": [
      "R2 (Lasso) of train set 0.8274350476797823\n",
      "R2 (Lasso) of test set 0.8345976828595714\n"
     ]
    }
   ],
   "source": [
    "# evaluate R2 of Lasso regression model\n",
    "print(\"R2 (Lasso) of train set \" + str(lasso.score(X_train_scaled,y_train)))\n",
    "print(\"R2 (Lasso) of test set \" + str(lasso.score(X_test_scaled,y_test)))\n",
    "#print(\"R2 (Lasso) estimate of model using train set \" + str(lasso_cv_scores.mean()))"
   ]
  },
  {
   "cell_type": "code",
   "execution_count": 33,
   "metadata": {},
   "outputs": [],
   "source": [
    "# evaluate MSE of Lasso regression model\n",
    "# print(\"MSE (Lasso) of train set \" + str(mean_squared_error(y_train, lasso.predict(X_train_scaled))))\n",
    "# print(\"MSE (Lasso) of test set \" + str(mean_squared_error(y_test,lasso.predict(X_test_scaled))))\n",
    "# print(\"MSE (Lasso) estimate of model using train set \" + str(lasso_cv_mse_scores.mean()))"
   ]
  },
  {
   "cell_type": "code",
   "execution_count": 34,
   "metadata": {},
   "outputs": [
    {
     "name": "stdout",
     "output_type": "stream",
     "text": [
      "RMSE (Lasso) of train set 32924.148797907284\n",
      "RMSE (Lasso) of test set 32197.2504903118\n"
     ]
    }
   ],
   "source": [
    "# evaluate RMSE of Lasso regression model\n",
    "print(\"RMSE (Lasso) of train set \" + str(np.sqrt(mean_squared_error(y_train, lasso.predict(X_train_scaled)))))\n",
    "print(\"RMSE (Lasso) of test set \" + str(np.sqrt(mean_squared_error(y_test,lasso.predict(X_test_scaled)))))\n",
    "#print(\"RMSE (Lasso) estimate of model using train set \" + str(np.sqrt(lasso_cv_mse_scores.mean())))"
   ]
  },
  {
   "cell_type": "code",
   "execution_count": 35,
   "metadata": {},
   "outputs": [
    {
     "data": {
      "image/png": "[encoded data removed]",
      "text/plain": [
       "<Figure size 1080x504 with 1 Axes>"
      ]
     },
     "metadata": {
      "needs_background": "light"
     },
     "output_type": "display_data"
    }
   ],
   "source": [
    "# features with higher scores are more useful in predicting, sorting will be easier to see\n",
    "col_names = X_train.columns.tolist()\n",
    "pd.Series(lasso.coef_, index=col_names).sort_values(ascending=False).plot.bar(figsize=(15,7)).grid(zorder=0);"
   ]
  },
  {
   "cell_type": "markdown",
   "metadata": {},
   "source": [
    "**Observation**\n",
    "\n",
    "Lasso regression penalizes the model for having large coefficients where as alpha increases, coefficients decreases even to the point of zero. Lasso alpha acts as a \"tuning\" parameter. From the plot above, features such as `OverallQual``1stFlrSF``GrLivArea` would be penalized the most, while features such as `GarageType_Detchd` `Exterior2nd_VinylSd` `MasVnrType_BrkFace` would be penalized to zero. Which also mean that they could be removed from the model."
   ]
  },
  {
   "cell_type": "code",
   "execution_count": 36,
   "metadata": {},
   "outputs": [
    {
     "data": {
      "text/plain": [
       "array([16583.20708259,  8882.38469398,  7603.57554685,  3983.56508202,\n",
       "        5109.99674168,  4402.32905143,  5144.04637978, 10587.07548209,\n",
       "          -0.        ,  1289.78835177,  6800.80877655,     0.        ,\n",
       "          -0.        , 10567.07649706,  2598.88057684,  8495.45218854,\n",
       "           0.        ,    -0.        ,     0.        ,  2677.5685436 ,\n",
       "         988.30280903,  6380.17923198,   -73.94966049,    -0.        ,\n",
       "        1167.68632711, -1287.83046419, -1364.87513253,  5997.29065487,\n",
       "        -302.20874647,  8799.64728701])"
      ]
     },
     "execution_count": 36,
     "metadata": {},
     "output_type": "execute_result"
    }
   ],
   "source": [
    "lasso_coefficients = lasso.coef_\n",
    "lasso_coefficients"
   ]
  },
  {
   "cell_type": "code",
   "execution_count": 37,
   "metadata": {},
   "outputs": [
    {
     "name": "stdout",
     "output_type": "stream",
     "text": [
      "30\n"
     ]
    },
    {
     "data": {
      "text/html": [
       "<div>\n",
       "<style scoped>\n",
       "    .dataframe tbody tr th:only-of-type {\n",
       "        vertical-align: middle;\n",
       "    }\n",
       "\n",
       "    .dataframe tbody tr th {\n",
       "        vertical-align: top;\n",
       "    }\n",
       "\n",
       "    .dataframe thead th {\n",
       "        text-align: right;\n",
       "    }\n",
       "</style>\n",
       "<table border=\"1\" class=\"dataframe\">\n",
       "  <thead>\n",
       "    <tr style=\"text-align: right;\">\n",
       "      <th></th>\n",
       "      <th>predictors</th>\n",
       "      <th>coefficients</th>\n",
       "    </tr>\n",
       "  </thead>\n",
       "  <tbody>\n",
       "    <tr>\n",
       "      <th>0</th>\n",
       "      <td>OverallQual</td>\n",
       "      <td>16583.207083</td>\n",
       "    </tr>\n",
       "    <tr>\n",
       "      <th>1</th>\n",
       "      <td>ExterQual</td>\n",
       "      <td>8882.384694</td>\n",
       "    </tr>\n",
       "    <tr>\n",
       "      <th>2</th>\n",
       "      <td>KitchenQual</td>\n",
       "      <td>7603.575547</td>\n",
       "    </tr>\n",
       "    <tr>\n",
       "      <th>3</th>\n",
       "      <td>GarageCars</td>\n",
       "      <td>3983.565082</td>\n",
       "    </tr>\n",
       "    <tr>\n",
       "      <th>4</th>\n",
       "      <td>GrLivArea</td>\n",
       "      <td>5109.996742</td>\n",
       "    </tr>\n",
       "    <tr>\n",
       "      <th>5</th>\n",
       "      <td>BsmtQual</td>\n",
       "      <td>4402.329051</td>\n",
       "    </tr>\n",
       "    <tr>\n",
       "      <th>6</th>\n",
       "      <td>GarageArea</td>\n",
       "      <td>5144.046380</td>\n",
       "    </tr>\n",
       "    <tr>\n",
       "      <th>7</th>\n",
       "      <td>1stFlrSF</td>\n",
       "      <td>10587.075482</td>\n",
       "    </tr>\n",
       "    <tr>\n",
       "      <th>8</th>\n",
       "      <td>fe_Age</td>\n",
       "      <td>-0.000000</td>\n",
       "    </tr>\n",
       "    <tr>\n",
       "      <th>9</th>\n",
       "      <td>GarageFinish</td>\n",
       "      <td>1289.788352</td>\n",
       "    </tr>\n",
       "    <tr>\n",
       "      <th>10</th>\n",
       "      <td>FireplaceQu</td>\n",
       "      <td>6800.808777</td>\n",
       "    </tr>\n",
       "    <tr>\n",
       "      <th>11</th>\n",
       "      <td>FullBath</td>\n",
       "      <td>0.000000</td>\n",
       "    </tr>\n",
       "    <tr>\n",
       "      <th>12</th>\n",
       "      <td>Foundation_PConc</td>\n",
       "      <td>-0.000000</td>\n",
       "    </tr>\n",
       "    <tr>\n",
       "      <th>13</th>\n",
       "      <td>TotRmsAbvGrd</td>\n",
       "      <td>10567.076497</td>\n",
       "    </tr>\n",
       "    <tr>\n",
       "      <th>14</th>\n",
       "      <td>HeatingQC</td>\n",
       "      <td>2598.880577</td>\n",
       "    </tr>\n",
       "    <tr>\n",
       "      <th>15</th>\n",
       "      <td>Neighborhood_NridgHt</td>\n",
       "      <td>8495.452189</td>\n",
       "    </tr>\n",
       "    <tr>\n",
       "      <th>16</th>\n",
       "      <td>MasVnrType_None</td>\n",
       "      <td>0.000000</td>\n",
       "    </tr>\n",
       "    <tr>\n",
       "      <th>17</th>\n",
       "      <td>GarageType_Detchd</td>\n",
       "      <td>-0.000000</td>\n",
       "    </tr>\n",
       "    <tr>\n",
       "      <th>18</th>\n",
       "      <td>GarageType_Attchd</td>\n",
       "      <td>0.000000</td>\n",
       "    </tr>\n",
       "    <tr>\n",
       "      <th>19</th>\n",
       "      <td>MSSubClass_60</td>\n",
       "      <td>2677.568544</td>\n",
       "    </tr>\n",
       "    <tr>\n",
       "      <th>20</th>\n",
       "      <td>Foundation_CBlock</td>\n",
       "      <td>988.302809</td>\n",
       "    </tr>\n",
       "    <tr>\n",
       "      <th>21</th>\n",
       "      <td>BsmtFinType1</td>\n",
       "      <td>6380.179232</td>\n",
       "    </tr>\n",
       "    <tr>\n",
       "      <th>22</th>\n",
       "      <td>Exterior1st_VinylSd</td>\n",
       "      <td>-73.949660</td>\n",
       "    </tr>\n",
       "    <tr>\n",
       "      <th>23</th>\n",
       "      <td>Exterior2nd_VinylSd</td>\n",
       "      <td>-0.000000</td>\n",
       "    </tr>\n",
       "    <tr>\n",
       "      <th>24</th>\n",
       "      <td>MasVnrType_Stone</td>\n",
       "      <td>1167.686327</td>\n",
       "    </tr>\n",
       "    <tr>\n",
       "      <th>25</th>\n",
       "      <td>LotShape</td>\n",
       "      <td>-1287.830464</td>\n",
       "    </tr>\n",
       "    <tr>\n",
       "      <th>26</th>\n",
       "      <td>MSZoning_RM</td>\n",
       "      <td>-1364.875133</td>\n",
       "    </tr>\n",
       "    <tr>\n",
       "      <th>27</th>\n",
       "      <td>Neighborhood_NoRidge</td>\n",
       "      <td>5997.290655</td>\n",
       "    </tr>\n",
       "    <tr>\n",
       "      <th>28</th>\n",
       "      <td>MasVnrType_BrkFace</td>\n",
       "      <td>-302.208746</td>\n",
       "    </tr>\n",
       "    <tr>\n",
       "      <th>29</th>\n",
       "      <td>Neighborhood_StoneBr</td>\n",
       "      <td>8799.647287</td>\n",
       "    </tr>\n",
       "  </tbody>\n",
       "</table>\n",
       "</div>"
      ],
      "text/plain": [
       "              predictors  coefficients\n",
       "0            OverallQual  16583.207083\n",
       "1              ExterQual   8882.384694\n",
       "2            KitchenQual   7603.575547\n",
       "3             GarageCars   3983.565082\n",
       "4              GrLivArea   5109.996742\n",
       "5               BsmtQual   4402.329051\n",
       "6             GarageArea   5144.046380\n",
       "7               1stFlrSF  10587.075482\n",
       "8                 fe_Age     -0.000000\n",
       "9           GarageFinish   1289.788352\n",
       "10           FireplaceQu   6800.808777\n",
       "11              FullBath      0.000000\n",
       "12      Foundation_PConc     -0.000000\n",
       "13          TotRmsAbvGrd  10567.076497\n",
       "14             HeatingQC   2598.880577\n",
       "15  Neighborhood_NridgHt   8495.452189\n",
       "16       MasVnrType_None      0.000000\n",
       "17     GarageType_Detchd     -0.000000\n",
       "18     GarageType_Attchd      0.000000\n",
       "19         MSSubClass_60   2677.568544\n",
       "20     Foundation_CBlock    988.302809\n",
       "21          BsmtFinType1   6380.179232\n",
       "22   Exterior1st_VinylSd    -73.949660\n",
       "23   Exterior2nd_VinylSd     -0.000000\n",
       "24      MasVnrType_Stone   1167.686327\n",
       "25              LotShape  -1287.830464\n",
       "26           MSZoning_RM  -1364.875133\n",
       "27  Neighborhood_NoRidge   5997.290655\n",
       "28    MasVnrType_BrkFace   -302.208746\n",
       "29  Neighborhood_StoneBr   8799.647287"
      ]
     },
     "execution_count": 37,
     "metadata": {},
     "output_type": "execute_result"
    }
   ],
   "source": [
    "# put the coef into a dataframe\n",
    "lasso_coef_df = pd.DataFrame({'predictors': [col for col in col_names],\n",
    "                              'coefficients': lasso_coefficients})\n",
    "print(len(lasso_coef_df))\n",
    "lasso_coef_df"
   ]
  },
  {
   "cell_type": "code",
   "execution_count": 38,
   "metadata": {},
   "outputs": [
    {
     "name": "stdout",
     "output_type": "stream",
     "text": [
      "7\n",
      "['fe_Age', 'FullBath', 'Foundation_PConc', 'MasVnrType_None', 'GarageType_Detchd', 'GarageType_Attchd', 'Exterior2nd_VinylSd']\n"
     ]
    }
   ],
   "source": [
    "# coef with zero to drop\n",
    "lasso_coef_to_drop = lasso_coef_df.loc[lasso_coef_df.coefficients==0, ['predictors', 'coefficients']]\n",
    "lasso_coef_to_drop_list = lasso_coef_to_drop.predictors.tolist()\n",
    "print(len(lasso_coef_to_drop_list))\n",
    "print(lasso_coef_to_drop_list)"
   ]
  },
  {
   "cell_type": "markdown",
   "metadata": {},
   "source": [
    "### ElasticNet Regression"
   ]
  },
  {
   "cell_type": "code",
   "execution_count": 39,
   "metadata": {},
   "outputs": [],
   "source": [
    "# set parameters\n",
    "enet_alphas = np.arange(0.1, 1.0, 0.01) #elasticnet range usually very small scale\n",
    "enet_ratio = 0.5"
   ]
  },
  {
   "cell_type": "code",
   "execution_count": 40,
   "metadata": {},
   "outputs": [
    {
     "data": {
      "text/plain": [
       "ElasticNetCV(alphas=array([0.1 , 0.11, 0.12, 0.13, 0.14, 0.15, 0.16, 0.17, 0.18, 0.19, 0.2 ,\n",
       "       0.21, 0.22, 0.23, 0.24, 0.25, 0.26, 0.27, 0.28, 0.29, 0.3 , 0.31,\n",
       "       0.32, 0.33, 0.34, 0.35, 0.36, 0.37, 0.38, 0.39, 0.4 , 0.41, 0.42,\n",
       "       0.43, 0.44, 0.45, 0.46, 0.47, 0.48, 0.49, 0.5 , 0.51, 0.52, 0.53,\n",
       "       0.54, 0.55, 0.56, 0.57, 0.58, 0.59, 0.6 , 0.61, 0.62, 0.63, 0.64,\n",
       "       0.65, 0.66, 0.67, 0.68, 0.69, 0.7 , 0.71, 0.72, 0.73, 0.74, 0.75,\n",
       "       0.76, 0.77, 0.78, 0.79, 0.8 , 0.81, 0.82, 0.83, 0.84, 0.85, 0.86,\n",
       "       0.87, 0.88, 0.89, 0.9 , 0.91, 0.92, 0.93, 0.94, 0.95, 0.96, 0.97,\n",
       "       0.98, 0.99]),\n",
       "             cv=5)"
      ]
     },
     "execution_count": 40,
     "metadata": {},
     "output_type": "execute_result"
    }
   ],
   "source": [
    "# fit to ElasticNet regression model\n",
    "enet.fit(X_train_scaled, y_train)"
   ]
  },
  {
   "cell_type": "code",
   "execution_count": 41,
   "metadata": {},
   "outputs": [
    {
     "data": {
      "text/plain": [
       "0.20999999999999996"
      ]
     },
     "execution_count": 41,
     "metadata": {},
     "output_type": "execute_result"
    }
   ],
   "source": [
    "# Here is the optimal value of alpha\n",
    "enet_optimal_alpha = enet.alpha_\n",
    "enet_optimal_alpha"
   ]
  },
  {
   "cell_type": "code",
   "execution_count": 42,
   "metadata": {},
   "outputs": [
    {
     "name": "stdout",
     "output_type": "stream",
     "text": [
      "R2 (ENet) of train set 0.8268690062379883\n",
      "R2 (ENet) of test set 0.8341216965446614\n"
     ]
    }
   ],
   "source": [
    "# evaluate R2 of elasticnet regression model\n",
    "print(\"R2 (ENet) of train set \" + str(enet.score(X_train_scaled,y_train)))\n",
    "print(\"R2 (ENet) of test set \" + str(enet.score(X_test_scaled,y_test)))"
   ]
  },
  {
   "cell_type": "code",
   "execution_count": 43,
   "metadata": {},
   "outputs": [
    {
     "name": "stdout",
     "output_type": "stream",
     "text": [
      "RMSE (ENet) of train set 32978.10290265757\n",
      "RMSE (ENet) of test set 32243.545007259432\n"
     ]
    }
   ],
   "source": [
    "# evaluate RMSE of Lasso regression model\n",
    "print(\"RMSE (ENet) of train set \" + str(np.sqrt(mean_squared_error(y_train, enet.predict(X_train_scaled)))))\n",
    "print(\"RMSE (ENet) of test set \" + str(np.sqrt(mean_squared_error(y_test,enet.predict(X_test_scaled)))))"
   ]
  },
  {
   "cell_type": "code",
   "execution_count": 44,
   "metadata": {},
   "outputs": [
    {
     "data": {
      "image/png": "[encoded data removed]",
      "text/plain": [
       "<Figure size 1080x504 with 1 Axes>"
      ]
     },
     "metadata": {
      "needs_background": "light"
     },
     "output_type": "display_data"
    }
   ],
   "source": [
    "# features with higher scores are more useful in predicting, sorting will be easier to see\n",
    "col_names = X_train.columns.tolist()\n",
    "pd.Series(enet.coef_, index=col_names).sort_values(ascending=False).plot.bar(figsize=(15,7)).grid(zorder=0);"
   ]
  },
  {
   "cell_type": "markdown",
   "metadata": {},
   "source": [
    "**Observation**\n",
    "\n",
    "Elastic net combines Ridge and Lasso penalties with both Ridge alpha and Lasso alpha acting as \"tuning\" parameters. Elastic Net allows for learning a sparse model where few of the weights are non-zero like Lasso, while still maintaining the regularization properties of Ridge. From the plot above, features such as `OverallQual``1stFlrSF``GrLivArea` would be penalized the most by Ridge, while features such as `Exterior2nd_VinylSd` would be penalized to zero by Lasso which also mean that it could be removed from the model."
   ]
  },
  {
   "cell_type": "code",
   "execution_count": 45,
   "metadata": {},
   "outputs": [
    {
     "data": {
      "text/plain": [
       "array([14060.64357557,  8691.02073792,  7829.37485374,  4341.57657851,\n",
       "        6006.011871  ,  5103.25905843,  5480.92417769,  9722.54511353,\n",
       "        -484.26371205,  1907.17155409,  6877.89320313,   661.70885374,\n",
       "        -294.41778392,  9701.20154911,  3182.49400271,  8274.40178891,\n",
       "         725.28220684,   -94.7949482 ,   229.52626456,  2505.07694625,\n",
       "         930.80178535,  5988.69607093,  -765.04542522,   -93.32526933,\n",
       "        2067.7533485 , -1574.83550304, -1598.74785447,  5988.72547158,\n",
       "         182.85575783,  8533.13106998])"
      ]
     },
     "execution_count": 45,
     "metadata": {},
     "output_type": "execute_result"
    }
   ],
   "source": [
    "enet_coefficients = enet.coef_\n",
    "enet_coefficients"
   ]
  },
  {
   "cell_type": "code",
   "execution_count": 46,
   "metadata": {},
   "outputs": [
    {
     "data": {
      "text/html": [
       "<div>\n",
       "<style scoped>\n",
       "    .dataframe tbody tr th:only-of-type {\n",
       "        vertical-align: middle;\n",
       "    }\n",
       "\n",
       "    .dataframe tbody tr th {\n",
       "        vertical-align: top;\n",
       "    }\n",
       "\n",
       "    .dataframe thead th {\n",
       "        text-align: right;\n",
       "    }\n",
       "</style>\n",
       "<table border=\"1\" class=\"dataframe\">\n",
       "  <thead>\n",
       "    <tr style=\"text-align: right;\">\n",
       "      <th></th>\n",
       "      <th>predictors</th>\n",
       "      <th>coefficients</th>\n",
       "    </tr>\n",
       "  </thead>\n",
       "  <tbody>\n",
       "    <tr>\n",
       "      <th>0</th>\n",
       "      <td>OverallQual</td>\n",
       "      <td>14060.643576</td>\n",
       "    </tr>\n",
       "    <tr>\n",
       "      <th>1</th>\n",
       "      <td>ExterQual</td>\n",
       "      <td>8691.020738</td>\n",
       "    </tr>\n",
       "    <tr>\n",
       "      <th>2</th>\n",
       "      <td>KitchenQual</td>\n",
       "      <td>7829.374854</td>\n",
       "    </tr>\n",
       "    <tr>\n",
       "      <th>3</th>\n",
       "      <td>GarageCars</td>\n",
       "      <td>4341.576579</td>\n",
       "    </tr>\n",
       "    <tr>\n",
       "      <th>4</th>\n",
       "      <td>GrLivArea</td>\n",
       "      <td>6006.011871</td>\n",
       "    </tr>\n",
       "    <tr>\n",
       "      <th>5</th>\n",
       "      <td>BsmtQual</td>\n",
       "      <td>5103.259058</td>\n",
       "    </tr>\n",
       "    <tr>\n",
       "      <th>6</th>\n",
       "      <td>GarageArea</td>\n",
       "      <td>5480.924178</td>\n",
       "    </tr>\n",
       "    <tr>\n",
       "      <th>7</th>\n",
       "      <td>1stFlrSF</td>\n",
       "      <td>9722.545114</td>\n",
       "    </tr>\n",
       "    <tr>\n",
       "      <th>8</th>\n",
       "      <td>fe_Age</td>\n",
       "      <td>-484.263712</td>\n",
       "    </tr>\n",
       "    <tr>\n",
       "      <th>9</th>\n",
       "      <td>GarageFinish</td>\n",
       "      <td>1907.171554</td>\n",
       "    </tr>\n",
       "    <tr>\n",
       "      <th>10</th>\n",
       "      <td>FireplaceQu</td>\n",
       "      <td>6877.893203</td>\n",
       "    </tr>\n",
       "    <tr>\n",
       "      <th>11</th>\n",
       "      <td>FullBath</td>\n",
       "      <td>661.708854</td>\n",
       "    </tr>\n",
       "    <tr>\n",
       "      <th>12</th>\n",
       "      <td>Foundation_PConc</td>\n",
       "      <td>-294.417784</td>\n",
       "    </tr>\n",
       "    <tr>\n",
       "      <th>13</th>\n",
       "      <td>TotRmsAbvGrd</td>\n",
       "      <td>9701.201549</td>\n",
       "    </tr>\n",
       "    <tr>\n",
       "      <th>14</th>\n",
       "      <td>HeatingQC</td>\n",
       "      <td>3182.494003</td>\n",
       "    </tr>\n",
       "    <tr>\n",
       "      <th>15</th>\n",
       "      <td>Neighborhood_NridgHt</td>\n",
       "      <td>8274.401789</td>\n",
       "    </tr>\n",
       "    <tr>\n",
       "      <th>16</th>\n",
       "      <td>MasVnrType_None</td>\n",
       "      <td>725.282207</td>\n",
       "    </tr>\n",
       "    <tr>\n",
       "      <th>17</th>\n",
       "      <td>GarageType_Detchd</td>\n",
       "      <td>-94.794948</td>\n",
       "    </tr>\n",
       "    <tr>\n",
       "      <th>18</th>\n",
       "      <td>GarageType_Attchd</td>\n",
       "      <td>229.526265</td>\n",
       "    </tr>\n",
       "    <tr>\n",
       "      <th>19</th>\n",
       "      <td>MSSubClass_60</td>\n",
       "      <td>2505.076946</td>\n",
       "    </tr>\n",
       "    <tr>\n",
       "      <th>20</th>\n",
       "      <td>Foundation_CBlock</td>\n",
       "      <td>930.801785</td>\n",
       "    </tr>\n",
       "    <tr>\n",
       "      <th>21</th>\n",
       "      <td>BsmtFinType1</td>\n",
       "      <td>5988.696071</td>\n",
       "    </tr>\n",
       "    <tr>\n",
       "      <th>22</th>\n",
       "      <td>Exterior1st_VinylSd</td>\n",
       "      <td>-765.045425</td>\n",
       "    </tr>\n",
       "    <tr>\n",
       "      <th>23</th>\n",
       "      <td>Exterior2nd_VinylSd</td>\n",
       "      <td>-93.325269</td>\n",
       "    </tr>\n",
       "    <tr>\n",
       "      <th>24</th>\n",
       "      <td>MasVnrType_Stone</td>\n",
       "      <td>2067.753348</td>\n",
       "    </tr>\n",
       "    <tr>\n",
       "      <th>25</th>\n",
       "      <td>LotShape</td>\n",
       "      <td>-1574.835503</td>\n",
       "    </tr>\n",
       "    <tr>\n",
       "      <th>26</th>\n",
       "      <td>MSZoning_RM</td>\n",
       "      <td>-1598.747854</td>\n",
       "    </tr>\n",
       "    <tr>\n",
       "      <th>27</th>\n",
       "      <td>Neighborhood_NoRidge</td>\n",
       "      <td>5988.725472</td>\n",
       "    </tr>\n",
       "    <tr>\n",
       "      <th>28</th>\n",
       "      <td>MasVnrType_BrkFace</td>\n",
       "      <td>182.855758</td>\n",
       "    </tr>\n",
       "    <tr>\n",
       "      <th>29</th>\n",
       "      <td>Neighborhood_StoneBr</td>\n",
       "      <td>8533.131070</td>\n",
       "    </tr>\n",
       "  </tbody>\n",
       "</table>\n",
       "</div>"
      ],
      "text/plain": [
       "              predictors  coefficients\n",
       "0            OverallQual  14060.643576\n",
       "1              ExterQual   8691.020738\n",
       "2            KitchenQual   7829.374854\n",
       "3             GarageCars   4341.576579\n",
       "4              GrLivArea   6006.011871\n",
       "5               BsmtQual   5103.259058\n",
       "6             GarageArea   5480.924178\n",
       "7               1stFlrSF   9722.545114\n",
       "8                 fe_Age   -484.263712\n",
       "9           GarageFinish   1907.171554\n",
       "10           FireplaceQu   6877.893203\n",
       "11              FullBath    661.708854\n",
       "12      Foundation_PConc   -294.417784\n",
       "13          TotRmsAbvGrd   9701.201549\n",
       "14             HeatingQC   3182.494003\n",
       "15  Neighborhood_NridgHt   8274.401789\n",
       "16       MasVnrType_None    725.282207\n",
       "17     GarageType_Detchd    -94.794948\n",
       "18     GarageType_Attchd    229.526265\n",
       "19         MSSubClass_60   2505.076946\n",
       "20     Foundation_CBlock    930.801785\n",
       "21          BsmtFinType1   5988.696071\n",
       "22   Exterior1st_VinylSd   -765.045425\n",
       "23   Exterior2nd_VinylSd    -93.325269\n",
       "24      MasVnrType_Stone   2067.753348\n",
       "25              LotShape  -1574.835503\n",
       "26           MSZoning_RM  -1598.747854\n",
       "27  Neighborhood_NoRidge   5988.725472\n",
       "28    MasVnrType_BrkFace    182.855758\n",
       "29  Neighborhood_StoneBr   8533.131070"
      ]
     },
     "execution_count": 46,
     "metadata": {},
     "output_type": "execute_result"
    }
   ],
   "source": [
    "enet_coef_df = pd.DataFrame({'predictors': [col for col in col_names],\n",
    "                              'coefficients': enet_coefficients})\n",
    "enet_coef_df"
   ]
  },
  {
   "cell_type": "code",
   "execution_count": 47,
   "metadata": {},
   "outputs": [
    {
     "name": "stdout",
     "output_type": "stream",
     "text": [
      "0\n",
      "[]\n"
     ]
    }
   ],
   "source": [
    "# coef with zero to drop\n",
    "enet_coef_to_drop = enet_coef_df.loc[enet_coef_df.coefficients==0, ['predictors', 'coefficients']]\n",
    "enet_coef_to_drop_list = enet_coef_to_drop.predictors.tolist()\n",
    "print(len(enet_coef_to_drop_list))\n",
    "print(enet_coef_to_drop_list)"
   ]
  },
  {
   "cell_type": "markdown",
   "metadata": {},
   "source": [
    "### Interpretation of model's evaluation\n",
    "\n",
    "\n",
    "|Model Type|Validation Method|R2|RMSE|R2(+/-5%) vs cross validation?|RMSE better vs cross validation?|Result vs cross validation|\n",
    "|:---|:---|:---|:---|:---:|:---:|:---|\n",
    "|Baseline (Unseen data)|LR cross validation|      0.8248| \t 33,261|---|---|---|\n",
    "|---|---|---|---|---|---|---|\n",
    "|LR on Train bloc|cross validation|\t 0.8108| \t 34,415|Yes|No|Lower bias, Increase variance|\n",
    "|Ridge on Train bloc|cross validation|\t 0.8134| \t 34,206|Yes|No|Lower bias, Increase variance|\n",
    "|Lasso on Train bloc|cross validation|\t 0.8125| \t 34,274|Yes|No|Lower bias, Increase variance|\n",
    "|ElasticNet on Train bloc|cross validation|\t 0.8131| \t 34,233|Yes|No|Lower bias, Increase variance|\n",
    "|---|---|---|---|---|---|---|\n",
    "|LR on Train bloc|fit and score|\t 0.8282| \t 32,850|Yes|Yes|Increase bias, Lower variance|\n",
    "|Ridge on Train bloc|fit and score|\t 0.8272| \t 32,947|Yes|Yes|Increase bias, Lower variance|\n",
    "|Lasso on Train bloc|fit and score|\t 0.8274| \t 32,924|Yes|Yes|Increase bias, Lower variance|\n",
    "|ElasticNet on Train bloc|fit and score|\t 0.8269| \t 32,978|Yes|Yes|Increase bias, Lower variance|\n",
    "|---|---|---|---|---|---|---|\n",
    "|LR on Test bloc|fit and score|\t  0.8344| \t 32,216|Yes|Yes|Increase bias, Lower variance|\n",
    "|Ridge on Test bloc|fit and score|\t 0.8343| \t 32,228|Yes|Yes|Increase bias, Lower variance|\n",
    "|Lasso on Test bloc| fit and score|\t 0.8346| \t 32,197 |Yes|Yes|Increase bias, Lower variance|\n",
    "|ElasticNet on Test bloc|fit and score|\t 0.8341| \t 32,244|Yes|Yes|Increase bias, Lower variance|\n"
   ]
  },
  {
   "cell_type": "markdown",
   "metadata": {},
   "source": [
    "**Observation**\n",
    "\n",
    "**1. Train bloc Fit and Score vs Train bloc Cross Validation:**\n",
    "- Although there was an increase in bias (R2), it was within tolerance.\n",
    "- Variance had decreased considerably across models using default hyperparameters and optimal alphas. AMong the models, Lasso Regression had the largest reduction in RMSE of -3.94% (32924/34274).\n",
    "\n",
    "**2. Test bloc Fit and Score vs Train bloc Fit and Score**\n",
    "- Consistent in increase in bias but within tolerance and decreased variance considerably across all models. Again, among the models, Lasso Regression registered the largest reduction in RMSE of -6.06% (32197/34274).\n",
    "\n",
    "**3. Train and Test bloc vs Baseline Cross Validation**\n",
    "- In comparison to baseline, all the models had lower RMSE than baseline. This is encouraging as it proved that the models are all working to outperform baseline, we just need to choose the best one.\n",
    "- Both the train and test bloc results were consistent against baseline as well.\n",
    "\n",
    "**MODEL SELECTED**\n",
    "\n",
    "Based on the results, although all models performed better. Lasso Regression produced the best result of reducing variance, RMSE score by -6.06% while maintaining with 5% tolerance of R2. We also observed that there are 3 features that Lasso zeroed their coefficients which meant that we could removed these 3 features from the model.\n",
    "\n",
    "The optimal alpha was calculated at 413.952047798533 Thus, we decided to fine-tune the Lasso model by removing the 7 features and re-run it at optimal alpha, then setting it as the selected production model."
   ]
  },
  {
   "cell_type": "markdown",
   "metadata": {},
   "source": [
    "## Re-run Lasso with reduced features"
   ]
  },
  {
   "cell_type": "code",
   "execution_count": 48,
   "metadata": {},
   "outputs": [
    {
     "name": "stdout",
     "output_type": "stream",
     "text": [
      "(2050, 23)\n",
      "(2050,)\n"
     ]
    }
   ],
   "source": [
    "# now we drop the features recommended by lasso at optimal alpha and create a reduced dataframe for model benchmark\n",
    "\n",
    "X_reduced = X.drop(columns=lasso_coef_to_drop_list, axis=1, inplace=False)\n",
    "y_reduced = final_train_df[\"SalePrice\"]\n",
    "print(X_reduced.shape)\n",
    "print(y_reduced.shape)"
   ]
  },
  {
   "cell_type": "code",
   "execution_count": 49,
   "metadata": {},
   "outputs": [
    {
     "name": "stdout",
     "output_type": "stream",
     "text": [
      "(1537, 23) (513, 23)\n",
      "(1537,) (513,)\n"
     ]
    }
   ],
   "source": [
    "# re-create train-test-split as the number of columns had changed\n",
    "X_train, X_test, y_train, y_test = train_test_split(X_reduced, y_reduced, random_state=42)\n",
    "print(X_train.shape, X_test.shape)\n",
    "print(y_train.shape, y_test.shape)"
   ]
  },
  {
   "cell_type": "code",
   "execution_count": 50,
   "metadata": {},
   "outputs": [],
   "source": [
    "# re-instantiate\n",
    "ss = StandardScaler()\n",
    "\n",
    "# re-fit X\n",
    "ss.fit(X_train)\n",
    "\n",
    "X_train_scaled = ss.transform(X_train)\n",
    "X_test_scaled = ss.transform(X_test)"
   ]
  },
  {
   "cell_type": "code",
   "execution_count": 51,
   "metadata": {},
   "outputs": [],
   "source": [
    "# Lasso Model with the recommended optima alpha in earlier step\n",
    "lasso = Lasso(alpha = 413.95204779853304)"
   ]
  },
  {
   "cell_type": "code",
   "execution_count": 52,
   "metadata": {},
   "outputs": [
    {
     "data": {
      "text/plain": [
       "Lasso(alpha=413.95204779853304)"
      ]
     },
     "execution_count": 52,
     "metadata": {},
     "output_type": "execute_result"
    }
   ],
   "source": [
    "# fit to lasso regression model\n",
    "lasso.fit(X_train_scaled,y_train)"
   ]
  },
  {
   "cell_type": "code",
   "execution_count": 53,
   "metadata": {},
   "outputs": [
    {
     "name": "stdout",
     "output_type": "stream",
     "text": [
      "R2 (Lasso) of train set 0.827435034513293\n",
      "R2 (Lasso) of test set 0.8345978188214529\n"
     ]
    }
   ],
   "source": [
    "# evaluate R2 of Lasso regression model\n",
    "print(\"R2 (Lasso) of train set \" + str(lasso.score(X_train_scaled,y_train)))\n",
    "print(\"R2 (Lasso) of test set \" + str(lasso.score(X_test_scaled,y_test)))\n",
    "#print(\"R2 (Lasso) estimate of model using train set \" + str(lasso_cv_scores.mean()))"
   ]
  },
  {
   "cell_type": "code",
   "execution_count": 54,
   "metadata": {},
   "outputs": [
    {
     "name": "stdout",
     "output_type": "stream",
     "text": [
      "RMSE (Lasso) of train set 32924.150053942874\n",
      "RMSE (Lasso) of test set 32197.23725712459\n"
     ]
    }
   ],
   "source": [
    "# evaluate RMSE of Lasso regression model\n",
    "print(\"RMSE (Lasso) of train set \" + str(np.sqrt(mean_squared_error(y_train, lasso.predict(X_train_scaled)))))\n",
    "print(\"RMSE (Lasso) of test set \" + str(np.sqrt(mean_squared_error(y_test,lasso.predict(X_test_scaled)))))\n",
    "#print(\"RMSE (Lasso) estimate of model using train set \" + str(np.sqrt(lasso_cv_mse_scores.mean())))"
   ]
  },
  {
   "cell_type": "code",
   "execution_count": 55,
   "metadata": {},
   "outputs": [
    {
     "data": {
      "image/png": "[encoded data removed]",
      "text/plain": [
       "<Figure size 1080x504 with 1 Axes>"
      ]
     },
     "metadata": {
      "needs_background": "light"
     },
     "output_type": "display_data"
    }
   ],
   "source": [
    "# features with higher scores are more useful in predicting, sorting will be easier to see\n",
    "col_names = X_train.columns.tolist()\n",
    "pd.Series(lasso.coef_, index=col_names).sort_values(ascending=False).plot.bar(figsize=(15,7)).grid(zorder=0);"
   ]
  },
  {
   "cell_type": "markdown",
   "metadata": {},
   "source": [
    "**Observation**\n",
    "\n",
    "Based on the selected features and after going through regularization (constraint to the limits of the range of tests for alphas). The best predictors are depicted in the Lasso model that minimized the RMSE the most. This production model shall be the basis for predicting sale prices of the Kaggle's Test data file."
   ]
  },
  {
   "cell_type": "code",
   "execution_count": 56,
   "metadata": {},
   "outputs": [
    {
     "data": {
      "text/plain": [
       "array([16583.79823338,  8882.71617005,  7603.69916669,  3984.03571745,\n",
       "        5109.99380316,  4402.07664891,  5143.66689887, 10587.00379935,\n",
       "        1289.46467737,  6800.63959805, 10566.970932  ,  2598.67447587,\n",
       "        8495.34313035,  2677.54192353,   988.46998902,  6380.15778233,\n",
       "         -73.93254316,  1167.63887393, -1287.8228495 , -1364.88880293,\n",
       "        5997.2755258 ,  -302.27468453,  8799.54142233])"
      ]
     },
     "execution_count": 56,
     "metadata": {},
     "output_type": "execute_result"
    }
   ],
   "source": [
    "lasso_coefficients = lasso.coef_\n",
    "lasso_coefficients"
   ]
  },
  {
   "cell_type": "code",
   "execution_count": 57,
   "metadata": {},
   "outputs": [
    {
     "name": "stdout",
     "output_type": "stream",
     "text": [
      "23\n"
     ]
    },
    {
     "data": {
      "text/html": [
       "<div>\n",
       "<style scoped>\n",
       "    .dataframe tbody tr th:only-of-type {\n",
       "        vertical-align: middle;\n",
       "    }\n",
       "\n",
       "    .dataframe tbody tr th {\n",
       "        vertical-align: top;\n",
       "    }\n",
       "\n",
       "    .dataframe thead th {\n",
       "        text-align: right;\n",
       "    }\n",
       "</style>\n",
       "<table border=\"1\" class=\"dataframe\">\n",
       "  <thead>\n",
       "    <tr style=\"text-align: right;\">\n",
       "      <th></th>\n",
       "      <th>predictors</th>\n",
       "      <th>coefficients</th>\n",
       "    </tr>\n",
       "  </thead>\n",
       "  <tbody>\n",
       "    <tr>\n",
       "      <th>0</th>\n",
       "      <td>OverallQual</td>\n",
       "      <td>16583.798233</td>\n",
       "    </tr>\n",
       "    <tr>\n",
       "      <th>1</th>\n",
       "      <td>ExterQual</td>\n",
       "      <td>8882.716170</td>\n",
       "    </tr>\n",
       "    <tr>\n",
       "      <th>2</th>\n",
       "      <td>KitchenQual</td>\n",
       "      <td>7603.699167</td>\n",
       "    </tr>\n",
       "    <tr>\n",
       "      <th>3</th>\n",
       "      <td>GarageCars</td>\n",
       "      <td>3984.035717</td>\n",
       "    </tr>\n",
       "    <tr>\n",
       "      <th>4</th>\n",
       "      <td>GrLivArea</td>\n",
       "      <td>5109.993803</td>\n",
       "    </tr>\n",
       "    <tr>\n",
       "      <th>5</th>\n",
       "      <td>BsmtQual</td>\n",
       "      <td>4402.076649</td>\n",
       "    </tr>\n",
       "    <tr>\n",
       "      <th>6</th>\n",
       "      <td>GarageArea</td>\n",
       "      <td>5143.666899</td>\n",
       "    </tr>\n",
       "    <tr>\n",
       "      <th>7</th>\n",
       "      <td>1stFlrSF</td>\n",
       "      <td>10587.003799</td>\n",
       "    </tr>\n",
       "    <tr>\n",
       "      <th>8</th>\n",
       "      <td>GarageFinish</td>\n",
       "      <td>1289.464677</td>\n",
       "    </tr>\n",
       "    <tr>\n",
       "      <th>9</th>\n",
       "      <td>FireplaceQu</td>\n",
       "      <td>6800.639598</td>\n",
       "    </tr>\n",
       "    <tr>\n",
       "      <th>10</th>\n",
       "      <td>TotRmsAbvGrd</td>\n",
       "      <td>10566.970932</td>\n",
       "    </tr>\n",
       "    <tr>\n",
       "      <th>11</th>\n",
       "      <td>HeatingQC</td>\n",
       "      <td>2598.674476</td>\n",
       "    </tr>\n",
       "    <tr>\n",
       "      <th>12</th>\n",
       "      <td>Neighborhood_NridgHt</td>\n",
       "      <td>8495.343130</td>\n",
       "    </tr>\n",
       "    <tr>\n",
       "      <th>13</th>\n",
       "      <td>MSSubClass_60</td>\n",
       "      <td>2677.541924</td>\n",
       "    </tr>\n",
       "    <tr>\n",
       "      <th>14</th>\n",
       "      <td>Foundation_CBlock</td>\n",
       "      <td>988.469989</td>\n",
       "    </tr>\n",
       "    <tr>\n",
       "      <th>15</th>\n",
       "      <td>BsmtFinType1</td>\n",
       "      <td>6380.157782</td>\n",
       "    </tr>\n",
       "    <tr>\n",
       "      <th>16</th>\n",
       "      <td>Exterior1st_VinylSd</td>\n",
       "      <td>-73.932543</td>\n",
       "    </tr>\n",
       "    <tr>\n",
       "      <th>17</th>\n",
       "      <td>MasVnrType_Stone</td>\n",
       "      <td>1167.638874</td>\n",
       "    </tr>\n",
       "    <tr>\n",
       "      <th>18</th>\n",
       "      <td>LotShape</td>\n",
       "      <td>-1287.822849</td>\n",
       "    </tr>\n",
       "    <tr>\n",
       "      <th>19</th>\n",
       "      <td>MSZoning_RM</td>\n",
       "      <td>-1364.888803</td>\n",
       "    </tr>\n",
       "    <tr>\n",
       "      <th>20</th>\n",
       "      <td>Neighborhood_NoRidge</td>\n",
       "      <td>5997.275526</td>\n",
       "    </tr>\n",
       "    <tr>\n",
       "      <th>21</th>\n",
       "      <td>MasVnrType_BrkFace</td>\n",
       "      <td>-302.274685</td>\n",
       "    </tr>\n",
       "    <tr>\n",
       "      <th>22</th>\n",
       "      <td>Neighborhood_StoneBr</td>\n",
       "      <td>8799.541422</td>\n",
       "    </tr>\n",
       "  </tbody>\n",
       "</table>\n",
       "</div>"
      ],
      "text/plain": [
       "              predictors  coefficients\n",
       "0            OverallQual  16583.798233\n",
       "1              ExterQual   8882.716170\n",
       "2            KitchenQual   7603.699167\n",
       "3             GarageCars   3984.035717\n",
       "4              GrLivArea   5109.993803\n",
       "5               BsmtQual   4402.076649\n",
       "6             GarageArea   5143.666899\n",
       "7               1stFlrSF  10587.003799\n",
       "8           GarageFinish   1289.464677\n",
       "9            FireplaceQu   6800.639598\n",
       "10          TotRmsAbvGrd  10566.970932\n",
       "11             HeatingQC   2598.674476\n",
       "12  Neighborhood_NridgHt   8495.343130\n",
       "13         MSSubClass_60   2677.541924\n",
       "14     Foundation_CBlock    988.469989\n",
       "15          BsmtFinType1   6380.157782\n",
       "16   Exterior1st_VinylSd    -73.932543\n",
       "17      MasVnrType_Stone   1167.638874\n",
       "18              LotShape  -1287.822849\n",
       "19           MSZoning_RM  -1364.888803\n",
       "20  Neighborhood_NoRidge   5997.275526\n",
       "21    MasVnrType_BrkFace   -302.274685\n",
       "22  Neighborhood_StoneBr   8799.541422"
      ]
     },
     "execution_count": 57,
     "metadata": {},
     "output_type": "execute_result"
    }
   ],
   "source": [
    "# put the coef into a dataframe\n",
    "lasso_coef_df = pd.DataFrame({'predictors': [col for col in col_names],\n",
    "                              'coefficients': lasso_coefficients})\n",
    "print(len(lasso_coef_df))\n",
    "lasso_coef_df"
   ]
  },
  {
   "cell_type": "markdown",
   "metadata": {},
   "source": [
    "# Finalizing Production Model\n",
    "\n",
    "Here we performed the final preparation of the dataset for training our Lasso production model. There were 27 columns in total consisting of 26 features and the SalePrice column. There were 2050 rows of data."
   ]
  },
  {
   "cell_type": "code",
   "execution_count": 58,
   "metadata": {},
   "outputs": [
    {
     "name": "stdout",
     "output_type": "stream",
     "text": [
      "(2050, 23)\n",
      "24\n",
      "['OverallQual', 'ExterQual', 'KitchenQual', 'GarageCars', 'GrLivArea', 'BsmtQual', 'GarageArea', '1stFlrSF', 'GarageFinish', 'FireplaceQu', 'TotRmsAbvGrd', 'HeatingQC', 'Neighborhood_NridgHt', 'MSSubClass_60', 'Foundation_CBlock', 'BsmtFinType1', 'Exterior1st_VinylSd', 'MasVnrType_Stone', 'LotShape', 'MSZoning_RM', 'Neighborhood_NoRidge', 'MasVnrType_BrkFace', 'Neighborhood_StoneBr', 'SalePrice']\n"
     ]
    }
   ],
   "source": [
    "# update production model feature list\n",
    "prod_feat_list = X_reduced.columns.tolist()\n",
    "print(X_reduced.shape)\n",
    "prod_feat_list.append(\"SalePrice\") #adding back salesprice\n",
    "print(len(prod_feat_list))\n",
    "print(prod_feat_list)"
   ]
  },
  {
   "cell_type": "code",
   "execution_count": 59,
   "metadata": {},
   "outputs": [
    {
     "name": "stdout",
     "output_type": "stream",
     "text": [
      "(2050, 24)\n"
     ]
    },
    {
     "data": {
      "text/html": [
       "<div>\n",
       "<style scoped>\n",
       "    .dataframe tbody tr th:only-of-type {\n",
       "        vertical-align: middle;\n",
       "    }\n",
       "\n",
       "    .dataframe tbody tr th {\n",
       "        vertical-align: top;\n",
       "    }\n",
       "\n",
       "    .dataframe thead th {\n",
       "        text-align: right;\n",
       "    }\n",
       "</style>\n",
       "<table border=\"1\" class=\"dataframe\">\n",
       "  <thead>\n",
       "    <tr style=\"text-align: right;\">\n",
       "      <th></th>\n",
       "      <th>OverallQual</th>\n",
       "      <th>ExterQual</th>\n",
       "      <th>KitchenQual</th>\n",
       "      <th>GarageCars</th>\n",
       "      <th>GrLivArea</th>\n",
       "      <th>BsmtQual</th>\n",
       "      <th>GarageArea</th>\n",
       "      <th>1stFlrSF</th>\n",
       "      <th>GarageFinish</th>\n",
       "      <th>FireplaceQu</th>\n",
       "      <th>TotRmsAbvGrd</th>\n",
       "      <th>HeatingQC</th>\n",
       "      <th>Neighborhood_NridgHt</th>\n",
       "      <th>MSSubClass_60</th>\n",
       "      <th>Foundation_CBlock</th>\n",
       "      <th>BsmtFinType1</th>\n",
       "      <th>Exterior1st_VinylSd</th>\n",
       "      <th>MasVnrType_Stone</th>\n",
       "      <th>LotShape</th>\n",
       "      <th>MSZoning_RM</th>\n",
       "      <th>Neighborhood_NoRidge</th>\n",
       "      <th>MasVnrType_BrkFace</th>\n",
       "      <th>Neighborhood_StoneBr</th>\n",
       "      <th>SalePrice</th>\n",
       "    </tr>\n",
       "  </thead>\n",
       "  <tbody>\n",
       "    <tr>\n",
       "      <th>0</th>\n",
       "      <td>6</td>\n",
       "      <td>4</td>\n",
       "      <td>4</td>\n",
       "      <td>2.0</td>\n",
       "      <td>1479.0</td>\n",
       "      <td>4</td>\n",
       "      <td>475.0</td>\n",
       "      <td>725.0</td>\n",
       "      <td>3</td>\n",
       "      <td>1</td>\n",
       "      <td>6</td>\n",
       "      <td>5</td>\n",
       "      <td>0</td>\n",
       "      <td>1</td>\n",
       "      <td>1</td>\n",
       "      <td>7</td>\n",
       "      <td>0</td>\n",
       "      <td>0</td>\n",
       "      <td>3</td>\n",
       "      <td>0</td>\n",
       "      <td>0</td>\n",
       "      <td>1</td>\n",
       "      <td>0</td>\n",
       "      <td>130500</td>\n",
       "    </tr>\n",
       "    <tr>\n",
       "      <th>1</th>\n",
       "      <td>7</td>\n",
       "      <td>4</td>\n",
       "      <td>4</td>\n",
       "      <td>2.0</td>\n",
       "      <td>2122.0</td>\n",
       "      <td>5</td>\n",
       "      <td>559.0</td>\n",
       "      <td>913.0</td>\n",
       "      <td>3</td>\n",
       "      <td>4</td>\n",
       "      <td>8</td>\n",
       "      <td>5</td>\n",
       "      <td>0</td>\n",
       "      <td>1</td>\n",
       "      <td>0</td>\n",
       "      <td>7</td>\n",
       "      <td>1</td>\n",
       "      <td>0</td>\n",
       "      <td>3</td>\n",
       "      <td>0</td>\n",
       "      <td>0</td>\n",
       "      <td>1</td>\n",
       "      <td>0</td>\n",
       "      <td>220000</td>\n",
       "    </tr>\n",
       "    <tr>\n",
       "      <th>2</th>\n",
       "      <td>5</td>\n",
       "      <td>3</td>\n",
       "      <td>4</td>\n",
       "      <td>1.0</td>\n",
       "      <td>1057.0</td>\n",
       "      <td>4</td>\n",
       "      <td>246.0</td>\n",
       "      <td>1057.0</td>\n",
       "      <td>2</td>\n",
       "      <td>1</td>\n",
       "      <td>5</td>\n",
       "      <td>3</td>\n",
       "      <td>0</td>\n",
       "      <td>0</td>\n",
       "      <td>1</td>\n",
       "      <td>7</td>\n",
       "      <td>1</td>\n",
       "      <td>0</td>\n",
       "      <td>4</td>\n",
       "      <td>0</td>\n",
       "      <td>0</td>\n",
       "      <td>0</td>\n",
       "      <td>0</td>\n",
       "      <td>109000</td>\n",
       "    </tr>\n",
       "    <tr>\n",
       "      <th>3</th>\n",
       "      <td>5</td>\n",
       "      <td>3</td>\n",
       "      <td>3</td>\n",
       "      <td>2.0</td>\n",
       "      <td>1444.0</td>\n",
       "      <td>5</td>\n",
       "      <td>400.0</td>\n",
       "      <td>744.0</td>\n",
       "      <td>4</td>\n",
       "      <td>1</td>\n",
       "      <td>7</td>\n",
       "      <td>4</td>\n",
       "      <td>0</td>\n",
       "      <td>1</td>\n",
       "      <td>0</td>\n",
       "      <td>2</td>\n",
       "      <td>1</td>\n",
       "      <td>0</td>\n",
       "      <td>4</td>\n",
       "      <td>0</td>\n",
       "      <td>0</td>\n",
       "      <td>0</td>\n",
       "      <td>0</td>\n",
       "      <td>174000</td>\n",
       "    </tr>\n",
       "    <tr>\n",
       "      <th>4</th>\n",
       "      <td>6</td>\n",
       "      <td>3</td>\n",
       "      <td>3</td>\n",
       "      <td>2.0</td>\n",
       "      <td>1445.0</td>\n",
       "      <td>3</td>\n",
       "      <td>484.0</td>\n",
       "      <td>831.0</td>\n",
       "      <td>2</td>\n",
       "      <td>1</td>\n",
       "      <td>6</td>\n",
       "      <td>3</td>\n",
       "      <td>0</td>\n",
       "      <td>0</td>\n",
       "      <td>0</td>\n",
       "      <td>2</td>\n",
       "      <td>0</td>\n",
       "      <td>0</td>\n",
       "      <td>3</td>\n",
       "      <td>0</td>\n",
       "      <td>0</td>\n",
       "      <td>0</td>\n",
       "      <td>0</td>\n",
       "      <td>138500</td>\n",
       "    </tr>\n",
       "  </tbody>\n",
       "</table>\n",
       "</div>"
      ],
      "text/plain": [
       "   OverallQual  ExterQual  KitchenQual  GarageCars  GrLivArea  BsmtQual  \\\n",
       "0            6          4            4         2.0     1479.0         4   \n",
       "1            7          4            4         2.0     2122.0         5   \n",
       "2            5          3            4         1.0     1057.0         4   \n",
       "3            5          3            3         2.0     1444.0         5   \n",
       "4            6          3            3         2.0     1445.0         3   \n",
       "\n",
       "   GarageArea  1stFlrSF  GarageFinish  FireplaceQu  TotRmsAbvGrd  HeatingQC  \\\n",
       "0       475.0     725.0             3            1             6          5   \n",
       "1       559.0     913.0             3            4             8          5   \n",
       "2       246.0    1057.0             2            1             5          3   \n",
       "3       400.0     744.0             4            1             7          4   \n",
       "4       484.0     831.0             2            1             6          3   \n",
       "\n",
       "   Neighborhood_NridgHt  MSSubClass_60  Foundation_CBlock  BsmtFinType1  \\\n",
       "0                     0              1                  1             7   \n",
       "1                     0              1                  0             7   \n",
       "2                     0              0                  1             7   \n",
       "3                     0              1                  0             2   \n",
       "4                     0              0                  0             2   \n",
       "\n",
       "   Exterior1st_VinylSd  MasVnrType_Stone  LotShape  MSZoning_RM  \\\n",
       "0                    0                 0         3            0   \n",
       "1                    1                 0         3            0   \n",
       "2                    1                 0         4            0   \n",
       "3                    1                 0         4            0   \n",
       "4                    0                 0         3            0   \n",
       "\n",
       "   Neighborhood_NoRidge  MasVnrType_BrkFace  Neighborhood_StoneBr  SalePrice  \n",
       "0                     0                   1                     0     130500  \n",
       "1                     0                   1                     0     220000  \n",
       "2                     0                   0                     0     109000  \n",
       "3                     0                   0                     0     174000  \n",
       "4                     0                   0                     0     138500  "
      ]
     },
     "execution_count": 59,
     "metadata": {},
     "output_type": "execute_result"
    }
   ],
   "source": [
    "prod_df = final_train_df[prod_feat_list]\n",
    "print(prod_df.shape)\n",
    "prod_df.head()"
   ]
  },
  {
   "cell_type": "markdown",
   "metadata": {},
   "source": [
    "# Exporting Production model data to next step (prod_df dataset to a csv file)"
   ]
  },
  {
   "cell_type": "code",
   "execution_count": 60,
   "metadata": {},
   "outputs": [],
   "source": [
    "prod_df.to_csv('../datasets/prod_df.csv', index=False)"
   ]
  },
  {
   "cell_type": "markdown",
   "metadata": {},
   "source": [
    "## We will continue in the next code file so we don't have to keep waiting for re-run processing of plots everytime."
   ]
  }
 ],
 "metadata": {
  "kernelspec": {
   "display_name": "Python 3",
   "language": "python",
   "name": "python3"
  },
  "language_info": {
   "codemirror_mode": {
    "name": "ipython",
    "version": 3
   },
   "file_extension": ".py",
   "mimetype": "text/x-python",
   "name": "python",
   "nbconvert_exporter": "python",
   "pygments_lexer": "ipython3",
   "version": "3.8.5"
  },
  "toc": {
   "base_numbering": 1,
   "nav_menu": {},
   "number_sections": true,
   "sideBar": true,
   "skip_h1_title": false,
   "title_cell": "Table of Contents",
   "title_sidebar": "Contents",
   "toc_cell": false,
   "toc_position": {
    "height": "calc(100% - 180px)",
    "left": "10px",
    "top": "150px",
    "width": "254px"
   },
   "toc_section_display": true,
   "toc_window_display": true
  }
 },
 "nbformat": 4,
 "nbformat_minor": 4
}
