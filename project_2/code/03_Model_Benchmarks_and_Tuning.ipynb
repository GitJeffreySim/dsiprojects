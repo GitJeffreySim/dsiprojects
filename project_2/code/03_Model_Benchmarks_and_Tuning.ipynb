{
 "cells": [
  {
   "cell_type": "markdown",
   "metadata": {},
   "source": [
    "# MODEL BENCHMARKING AND TUNING"
   ]
  },
  {
   "cell_type": "markdown",
   "metadata": {},
   "source": [
    "# Importing packages"
   ]
  },
  {
   "cell_type": "code",
   "execution_count": 121,
   "metadata": {},
   "outputs": [],
   "source": [
    "import pandas as pd\n",
    "import seaborn as sns\n",
    "import numpy as np\n",
    "import matplotlib.pyplot as plt\n",
    "\n",
    "from sklearn.linear_model import LinearRegression\n",
    "from sklearn.model_selection import train_test_split, cross_val_score\n",
    "from sklearn.preprocessing import StandardScaler, PolynomialFeatures\n",
    "\n",
    "from sklearn.feature_selection import RFE\n",
    "from sklearn.linear_model import RidgeCV, LassoCV, ElasticNetCV, Ridge, Lasso, ElasticNet\n",
    "from sklearn.metrics import mean_squared_error, r2_score\n",
    "\n",
    "\n",
    "# setting some parameters\n",
    "pd.options.display.max_columns = 100\n",
    "pd.options.display.max_rows = 200"
   ]
  },
  {
   "cell_type": "markdown",
   "metadata": {},
   "source": [
    "# Importing data"
   ]
  },
  {
   "cell_type": "code",
   "execution_count": 122,
   "metadata": {},
   "outputs": [
    {
     "name": "stdout",
     "output_type": "stream",
     "text": [
      "(1646, 31)\n"
     ]
    },
    {
     "data": {
      "text/html": [
       "<div>\n",
       "<style scoped>\n",
       "    .dataframe tbody tr th:only-of-type {\n",
       "        vertical-align: middle;\n",
       "    }\n",
       "\n",
       "    .dataframe tbody tr th {\n",
       "        vertical-align: top;\n",
       "    }\n",
       "\n",
       "    .dataframe thead th {\n",
       "        text-align: right;\n",
       "    }\n",
       "</style>\n",
       "<table border=\"1\" class=\"dataframe\">\n",
       "  <thead>\n",
       "    <tr style=\"text-align: right;\">\n",
       "      <th></th>\n",
       "      <th>OverallQual</th>\n",
       "      <th>ExterQual</th>\n",
       "      <th>KitchenQual</th>\n",
       "      <th>GrLivArea</th>\n",
       "      <th>fe_Age</th>\n",
       "      <th>BsmtQual</th>\n",
       "      <th>GarageArea</th>\n",
       "      <th>GarageFinish</th>\n",
       "      <th>TotalBsmtSF</th>\n",
       "      <th>Foundation_PConc</th>\n",
       "      <th>1stFlrSF</th>\n",
       "      <th>FullBath</th>\n",
       "      <th>HeatingQC</th>\n",
       "      <th>FireplaceQu</th>\n",
       "      <th>GarageType_Attchd</th>\n",
       "      <th>Exterior1st_VinylSd</th>\n",
       "      <th>Exterior2nd_VinylSd</th>\n",
       "      <th>MasVnrType_None</th>\n",
       "      <th>MSSubClass_60</th>\n",
       "      <th>GarageType_Detchd</th>\n",
       "      <th>BsmtFinType1</th>\n",
       "      <th>Foundation_CBlock</th>\n",
       "      <th>Neighborhood_NridgHt</th>\n",
       "      <th>MSZoning_RM</th>\n",
       "      <th>LotShape</th>\n",
       "      <th>MasVnrType_Stone</th>\n",
       "      <th>MSSubClass_30</th>\n",
       "      <th>Foundation_BrkTil</th>\n",
       "      <th>MasVnrType_BrkFace</th>\n",
       "      <th>GarageType_None</th>\n",
       "      <th>SalePrice</th>\n",
       "    </tr>\n",
       "  </thead>\n",
       "  <tbody>\n",
       "    <tr>\n",
       "      <th>0</th>\n",
       "      <td>6</td>\n",
       "      <td>4</td>\n",
       "      <td>4</td>\n",
       "      <td>1479</td>\n",
       "      <td>44</td>\n",
       "      <td>4</td>\n",
       "      <td>475.0</td>\n",
       "      <td>3</td>\n",
       "      <td>725.0</td>\n",
       "      <td>0</td>\n",
       "      <td>725</td>\n",
       "      <td>2</td>\n",
       "      <td>5</td>\n",
       "      <td>1</td>\n",
       "      <td>1</td>\n",
       "      <td>0</td>\n",
       "      <td>0</td>\n",
       "      <td>0</td>\n",
       "      <td>1</td>\n",
       "      <td>0</td>\n",
       "      <td>7</td>\n",
       "      <td>1</td>\n",
       "      <td>0</td>\n",
       "      <td>0</td>\n",
       "      <td>3</td>\n",
       "      <td>0</td>\n",
       "      <td>0</td>\n",
       "      <td>0</td>\n",
       "      <td>1</td>\n",
       "      <td>0</td>\n",
       "      <td>130500</td>\n",
       "    </tr>\n",
       "    <tr>\n",
       "      <th>1</th>\n",
       "      <td>7</td>\n",
       "      <td>4</td>\n",
       "      <td>4</td>\n",
       "      <td>2122</td>\n",
       "      <td>24</td>\n",
       "      <td>5</td>\n",
       "      <td>559.0</td>\n",
       "      <td>3</td>\n",
       "      <td>913.0</td>\n",
       "      <td>1</td>\n",
       "      <td>913</td>\n",
       "      <td>2</td>\n",
       "      <td>5</td>\n",
       "      <td>4</td>\n",
       "      <td>1</td>\n",
       "      <td>1</td>\n",
       "      <td>1</td>\n",
       "      <td>0</td>\n",
       "      <td>1</td>\n",
       "      <td>0</td>\n",
       "      <td>7</td>\n",
       "      <td>0</td>\n",
       "      <td>0</td>\n",
       "      <td>0</td>\n",
       "      <td>3</td>\n",
       "      <td>0</td>\n",
       "      <td>0</td>\n",
       "      <td>0</td>\n",
       "      <td>1</td>\n",
       "      <td>0</td>\n",
       "      <td>220000</td>\n",
       "    </tr>\n",
       "    <tr>\n",
       "      <th>2</th>\n",
       "      <td>5</td>\n",
       "      <td>3</td>\n",
       "      <td>4</td>\n",
       "      <td>1057</td>\n",
       "      <td>67</td>\n",
       "      <td>4</td>\n",
       "      <td>246.0</td>\n",
       "      <td>2</td>\n",
       "      <td>1057.0</td>\n",
       "      <td>0</td>\n",
       "      <td>1057</td>\n",
       "      <td>1</td>\n",
       "      <td>3</td>\n",
       "      <td>1</td>\n",
       "      <td>0</td>\n",
       "      <td>1</td>\n",
       "      <td>1</td>\n",
       "      <td>1</td>\n",
       "      <td>0</td>\n",
       "      <td>1</td>\n",
       "      <td>7</td>\n",
       "      <td>1</td>\n",
       "      <td>0</td>\n",
       "      <td>0</td>\n",
       "      <td>4</td>\n",
       "      <td>0</td>\n",
       "      <td>0</td>\n",
       "      <td>0</td>\n",
       "      <td>0</td>\n",
       "      <td>0</td>\n",
       "      <td>109000</td>\n",
       "    </tr>\n",
       "    <tr>\n",
       "      <th>3</th>\n",
       "      <td>5</td>\n",
       "      <td>3</td>\n",
       "      <td>3</td>\n",
       "      <td>1444</td>\n",
       "      <td>14</td>\n",
       "      <td>5</td>\n",
       "      <td>400.0</td>\n",
       "      <td>4</td>\n",
       "      <td>384.0</td>\n",
       "      <td>1</td>\n",
       "      <td>744</td>\n",
       "      <td>2</td>\n",
       "      <td>4</td>\n",
       "      <td>1</td>\n",
       "      <td>0</td>\n",
       "      <td>1</td>\n",
       "      <td>1</td>\n",
       "      <td>1</td>\n",
       "      <td>1</td>\n",
       "      <td>0</td>\n",
       "      <td>2</td>\n",
       "      <td>0</td>\n",
       "      <td>0</td>\n",
       "      <td>0</td>\n",
       "      <td>4</td>\n",
       "      <td>0</td>\n",
       "      <td>0</td>\n",
       "      <td>0</td>\n",
       "      <td>0</td>\n",
       "      <td>0</td>\n",
       "      <td>174000</td>\n",
       "    </tr>\n",
       "    <tr>\n",
       "      <th>4</th>\n",
       "      <td>6</td>\n",
       "      <td>3</td>\n",
       "      <td>3</td>\n",
       "      <td>1445</td>\n",
       "      <td>120</td>\n",
       "      <td>3</td>\n",
       "      <td>484.0</td>\n",
       "      <td>2</td>\n",
       "      <td>676.0</td>\n",
       "      <td>1</td>\n",
       "      <td>831</td>\n",
       "      <td>2</td>\n",
       "      <td>3</td>\n",
       "      <td>1</td>\n",
       "      <td>0</td>\n",
       "      <td>0</td>\n",
       "      <td>0</td>\n",
       "      <td>1</td>\n",
       "      <td>0</td>\n",
       "      <td>1</td>\n",
       "      <td>2</td>\n",
       "      <td>0</td>\n",
       "      <td>0</td>\n",
       "      <td>0</td>\n",
       "      <td>3</td>\n",
       "      <td>0</td>\n",
       "      <td>0</td>\n",
       "      <td>0</td>\n",
       "      <td>0</td>\n",
       "      <td>0</td>\n",
       "      <td>138500</td>\n",
       "    </tr>\n",
       "  </tbody>\n",
       "</table>\n",
       "</div>"
      ],
      "text/plain": [
       "   OverallQual  ExterQual  KitchenQual  GrLivArea  fe_Age  BsmtQual  \\\n",
       "0            6          4            4       1479      44         4   \n",
       "1            7          4            4       2122      24         5   \n",
       "2            5          3            4       1057      67         4   \n",
       "3            5          3            3       1444      14         5   \n",
       "4            6          3            3       1445     120         3   \n",
       "\n",
       "   GarageArea  GarageFinish  TotalBsmtSF  Foundation_PConc  1stFlrSF  \\\n",
       "0       475.0             3        725.0                 0       725   \n",
       "1       559.0             3        913.0                 1       913   \n",
       "2       246.0             2       1057.0                 0      1057   \n",
       "3       400.0             4        384.0                 1       744   \n",
       "4       484.0             2        676.0                 1       831   \n",
       "\n",
       "   FullBath  HeatingQC  FireplaceQu  GarageType_Attchd  Exterior1st_VinylSd  \\\n",
       "0         2          5            1                  1                    0   \n",
       "1         2          5            4                  1                    1   \n",
       "2         1          3            1                  0                    1   \n",
       "3         2          4            1                  0                    1   \n",
       "4         2          3            1                  0                    0   \n",
       "\n",
       "   Exterior2nd_VinylSd  MasVnrType_None  MSSubClass_60  GarageType_Detchd  \\\n",
       "0                    0                0              1                  0   \n",
       "1                    1                0              1                  0   \n",
       "2                    1                1              0                  1   \n",
       "3                    1                1              1                  0   \n",
       "4                    0                1              0                  1   \n",
       "\n",
       "   BsmtFinType1  Foundation_CBlock  Neighborhood_NridgHt  MSZoning_RM  \\\n",
       "0             7                  1                     0            0   \n",
       "1             7                  0                     0            0   \n",
       "2             7                  1                     0            0   \n",
       "3             2                  0                     0            0   \n",
       "4             2                  0                     0            0   \n",
       "\n",
       "   LotShape  MasVnrType_Stone  MSSubClass_30  Foundation_BrkTil  \\\n",
       "0         3                 0              0                  0   \n",
       "1         3                 0              0                  0   \n",
       "2         4                 0              0                  0   \n",
       "3         4                 0              0                  0   \n",
       "4         3                 0              0                  0   \n",
       "\n",
       "   MasVnrType_BrkFace  GarageType_None  SalePrice  \n",
       "0                   1                0     130500  \n",
       "1                   1                0     220000  \n",
       "2                   0                0     109000  \n",
       "3                   0                0     174000  \n",
       "4                   0                0     138500  "
      ]
     },
     "execution_count": 122,
     "metadata": {},
     "output_type": "execute_result"
    }
   ],
   "source": [
    "final_train_df = pd.read_csv('../datasets/final_train_df.csv')\n",
    "print(final_train_df.shape)\n",
    "final_train_df.head()"
   ]
  },
  {
   "cell_type": "markdown",
   "metadata": {},
   "source": [
    "# Model Preparation on Kaggle's train data"
   ]
  },
  {
   "cell_type": "markdown",
   "metadata": {},
   "source": [
    "## Model Prep: Train-Test-Split of Kaggle's train data set using Scikit-Learn's `train_test_split` function\n",
    "\n",
    "Here we applied Train-Test-Split to the Kaggles's train data set."
   ]
  },
  {
   "cell_type": "code",
   "execution_count": 123,
   "metadata": {},
   "outputs": [
    {
     "name": "stdout",
     "output_type": "stream",
     "text": [
      "(1646,)\n",
      "(1646, 30)\n"
     ]
    }
   ],
   "source": [
    "# Set up X and y\n",
    "X =  final_train_df.drop([\"SalePrice\"], axis=1, inplace=False)\n",
    "y =  final_train_df[\"SalePrice\"]\n",
    "print(y.shape)\n",
    "print(X.shape)"
   ]
  },
  {
   "cell_type": "code",
   "execution_count": 124,
   "metadata": {},
   "outputs": [],
   "source": [
    "# train test split\n",
    "X_train, X_test, y_train, y_test = train_test_split(X, y, random_state=42)"
   ]
  },
  {
   "cell_type": "code",
   "execution_count": 125,
   "metadata": {},
   "outputs": [
    {
     "name": "stdout",
     "output_type": "stream",
     "text": [
      "(1234, 30)\n",
      "(412, 30)\n"
     ]
    },
    {
     "data": {
      "text/html": [
       "<div>\n",
       "<style scoped>\n",
       "    .dataframe tbody tr th:only-of-type {\n",
       "        vertical-align: middle;\n",
       "    }\n",
       "\n",
       "    .dataframe tbody tr th {\n",
       "        vertical-align: top;\n",
       "    }\n",
       "\n",
       "    .dataframe thead th {\n",
       "        text-align: right;\n",
       "    }\n",
       "</style>\n",
       "<table border=\"1\" class=\"dataframe\">\n",
       "  <thead>\n",
       "    <tr style=\"text-align: right;\">\n",
       "      <th></th>\n",
       "      <th>OverallQual</th>\n",
       "      <th>ExterQual</th>\n",
       "      <th>KitchenQual</th>\n",
       "      <th>GrLivArea</th>\n",
       "      <th>fe_Age</th>\n",
       "      <th>BsmtQual</th>\n",
       "      <th>GarageArea</th>\n",
       "      <th>GarageFinish</th>\n",
       "      <th>TotalBsmtSF</th>\n",
       "      <th>Foundation_PConc</th>\n",
       "      <th>1stFlrSF</th>\n",
       "      <th>FullBath</th>\n",
       "      <th>HeatingQC</th>\n",
       "      <th>FireplaceQu</th>\n",
       "      <th>GarageType_Attchd</th>\n",
       "      <th>Exterior1st_VinylSd</th>\n",
       "      <th>Exterior2nd_VinylSd</th>\n",
       "      <th>MasVnrType_None</th>\n",
       "      <th>MSSubClass_60</th>\n",
       "      <th>GarageType_Detchd</th>\n",
       "      <th>BsmtFinType1</th>\n",
       "      <th>Foundation_CBlock</th>\n",
       "      <th>Neighborhood_NridgHt</th>\n",
       "      <th>MSZoning_RM</th>\n",
       "      <th>LotShape</th>\n",
       "      <th>MasVnrType_Stone</th>\n",
       "      <th>MSSubClass_30</th>\n",
       "      <th>Foundation_BrkTil</th>\n",
       "      <th>MasVnrType_BrkFace</th>\n",
       "      <th>GarageType_None</th>\n",
       "    </tr>\n",
       "  </thead>\n",
       "  <tbody>\n",
       "    <tr>\n",
       "      <th>1539</th>\n",
       "      <td>5</td>\n",
       "      <td>3</td>\n",
       "      <td>3</td>\n",
       "      <td>810</td>\n",
       "      <td>49</td>\n",
       "      <td>5</td>\n",
       "      <td>576.0</td>\n",
       "      <td>2</td>\n",
       "      <td>782.0</td>\n",
       "      <td>1</td>\n",
       "      <td>810</td>\n",
       "      <td>1</td>\n",
       "      <td>5</td>\n",
       "      <td>1</td>\n",
       "      <td>0</td>\n",
       "      <td>0</td>\n",
       "      <td>0</td>\n",
       "      <td>0</td>\n",
       "      <td>0</td>\n",
       "      <td>1</td>\n",
       "      <td>7</td>\n",
       "      <td>0</td>\n",
       "      <td>0</td>\n",
       "      <td>0</td>\n",
       "      <td>4</td>\n",
       "      <td>0</td>\n",
       "      <td>0</td>\n",
       "      <td>0</td>\n",
       "      <td>1</td>\n",
       "      <td>0</td>\n",
       "    </tr>\n",
       "    <tr>\n",
       "      <th>495</th>\n",
       "      <td>6</td>\n",
       "      <td>4</td>\n",
       "      <td>4</td>\n",
       "      <td>1218</td>\n",
       "      <td>11</td>\n",
       "      <td>5</td>\n",
       "      <td>676.0</td>\n",
       "      <td>4</td>\n",
       "      <td>1218.0</td>\n",
       "      <td>1</td>\n",
       "      <td>1218</td>\n",
       "      <td>2</td>\n",
       "      <td>5</td>\n",
       "      <td>1</td>\n",
       "      <td>1</td>\n",
       "      <td>1</td>\n",
       "      <td>1</td>\n",
       "      <td>1</td>\n",
       "      <td>0</td>\n",
       "      <td>0</td>\n",
       "      <td>7</td>\n",
       "      <td>0</td>\n",
       "      <td>0</td>\n",
       "      <td>0</td>\n",
       "      <td>3</td>\n",
       "      <td>0</td>\n",
       "      <td>0</td>\n",
       "      <td>0</td>\n",
       "      <td>0</td>\n",
       "      <td>0</td>\n",
       "    </tr>\n",
       "    <tr>\n",
       "      <th>1260</th>\n",
       "      <td>6</td>\n",
       "      <td>3</td>\n",
       "      <td>3</td>\n",
       "      <td>1855</td>\n",
       "      <td>66</td>\n",
       "      <td>4</td>\n",
       "      <td>325.0</td>\n",
       "      <td>2</td>\n",
       "      <td>994.0</td>\n",
       "      <td>0</td>\n",
       "      <td>1216</td>\n",
       "      <td>2</td>\n",
       "      <td>4</td>\n",
       "      <td>1</td>\n",
       "      <td>1</td>\n",
       "      <td>0</td>\n",
       "      <td>0</td>\n",
       "      <td>1</td>\n",
       "      <td>0</td>\n",
       "      <td>0</td>\n",
       "      <td>4</td>\n",
       "      <td>1</td>\n",
       "      <td>0</td>\n",
       "      <td>0</td>\n",
       "      <td>4</td>\n",
       "      <td>0</td>\n",
       "      <td>0</td>\n",
       "      <td>0</td>\n",
       "      <td>0</td>\n",
       "      <td>0</td>\n",
       "    </tr>\n",
       "    <tr>\n",
       "      <th>832</th>\n",
       "      <td>6</td>\n",
       "      <td>3</td>\n",
       "      <td>3</td>\n",
       "      <td>1384</td>\n",
       "      <td>23</td>\n",
       "      <td>5</td>\n",
       "      <td>390.0</td>\n",
       "      <td>4</td>\n",
       "      <td>384.0</td>\n",
       "      <td>1</td>\n",
       "      <td>754</td>\n",
       "      <td>2</td>\n",
       "      <td>4</td>\n",
       "      <td>4</td>\n",
       "      <td>0</td>\n",
       "      <td>1</td>\n",
       "      <td>1</td>\n",
       "      <td>1</td>\n",
       "      <td>0</td>\n",
       "      <td>0</td>\n",
       "      <td>2</td>\n",
       "      <td>0</td>\n",
       "      <td>0</td>\n",
       "      <td>0</td>\n",
       "      <td>3</td>\n",
       "      <td>0</td>\n",
       "      <td>0</td>\n",
       "      <td>0</td>\n",
       "      <td>0</td>\n",
       "      <td>0</td>\n",
       "    </tr>\n",
       "    <tr>\n",
       "      <th>380</th>\n",
       "      <td>8</td>\n",
       "      <td>4</td>\n",
       "      <td>4</td>\n",
       "      <td>1513</td>\n",
       "      <td>21</td>\n",
       "      <td>5</td>\n",
       "      <td>521.0</td>\n",
       "      <td>4</td>\n",
       "      <td>1462.0</td>\n",
       "      <td>1</td>\n",
       "      <td>1513</td>\n",
       "      <td>2</td>\n",
       "      <td>5</td>\n",
       "      <td>4</td>\n",
       "      <td>1</td>\n",
       "      <td>1</td>\n",
       "      <td>1</td>\n",
       "      <td>0</td>\n",
       "      <td>0</td>\n",
       "      <td>0</td>\n",
       "      <td>7</td>\n",
       "      <td>0</td>\n",
       "      <td>0</td>\n",
       "      <td>0</td>\n",
       "      <td>4</td>\n",
       "      <td>0</td>\n",
       "      <td>0</td>\n",
       "      <td>0</td>\n",
       "      <td>1</td>\n",
       "      <td>0</td>\n",
       "    </tr>\n",
       "  </tbody>\n",
       "</table>\n",
       "</div>"
      ],
      "text/plain": [
       "      OverallQual  ExterQual  KitchenQual  GrLivArea  fe_Age  BsmtQual  \\\n",
       "1539            5          3            3        810      49         5   \n",
       "495             6          4            4       1218      11         5   \n",
       "1260            6          3            3       1855      66         4   \n",
       "832             6          3            3       1384      23         5   \n",
       "380             8          4            4       1513      21         5   \n",
       "\n",
       "      GarageArea  GarageFinish  TotalBsmtSF  Foundation_PConc  1stFlrSF  \\\n",
       "1539       576.0             2        782.0                 1       810   \n",
       "495        676.0             4       1218.0                 1      1218   \n",
       "1260       325.0             2        994.0                 0      1216   \n",
       "832        390.0             4        384.0                 1       754   \n",
       "380        521.0             4       1462.0                 1      1513   \n",
       "\n",
       "      FullBath  HeatingQC  FireplaceQu  GarageType_Attchd  \\\n",
       "1539         1          5            1                  0   \n",
       "495          2          5            1                  1   \n",
       "1260         2          4            1                  1   \n",
       "832          2          4            4                  0   \n",
       "380          2          5            4                  1   \n",
       "\n",
       "      Exterior1st_VinylSd  Exterior2nd_VinylSd  MasVnrType_None  \\\n",
       "1539                    0                    0                0   \n",
       "495                     1                    1                1   \n",
       "1260                    0                    0                1   \n",
       "832                     1                    1                1   \n",
       "380                     1                    1                0   \n",
       "\n",
       "      MSSubClass_60  GarageType_Detchd  BsmtFinType1  Foundation_CBlock  \\\n",
       "1539              0                  1             7                  0   \n",
       "495               0                  0             7                  0   \n",
       "1260              0                  0             4                  1   \n",
       "832               0                  0             2                  0   \n",
       "380               0                  0             7                  0   \n",
       "\n",
       "      Neighborhood_NridgHt  MSZoning_RM  LotShape  MasVnrType_Stone  \\\n",
       "1539                     0            0         4                 0   \n",
       "495                      0            0         3                 0   \n",
       "1260                     0            0         4                 0   \n",
       "832                      0            0         3                 0   \n",
       "380                      0            0         4                 0   \n",
       "\n",
       "      MSSubClass_30  Foundation_BrkTil  MasVnrType_BrkFace  GarageType_None  \n",
       "1539              0                  0                   1                0  \n",
       "495               0                  0                   0                0  \n",
       "1260              0                  0                   0                0  \n",
       "832               0                  0                   0                0  \n",
       "380               0                  0                   1                0  "
      ]
     },
     "execution_count": 125,
     "metadata": {},
     "output_type": "execute_result"
    }
   ],
   "source": [
    "# checking\n",
    "print(X_train.shape)\n",
    "print(X_test.shape)\n",
    "X_train.head()"
   ]
  },
  {
   "cell_type": "code",
   "execution_count": 126,
   "metadata": {},
   "outputs": [
    {
     "name": "stdout",
     "output_type": "stream",
     "text": [
      "(1234,)\n",
      "(412,)\n"
     ]
    },
    {
     "data": {
      "text/plain": [
       "1539    130000\n",
       "495     208300\n",
       "1260    136900\n",
       "832     161500\n",
       "380     220000\n",
       "Name: SalePrice, dtype: int64"
      ]
     },
     "execution_count": 126,
     "metadata": {},
     "output_type": "execute_result"
    }
   ],
   "source": [
    "# checking\n",
    "print(y_train.shape)\n",
    "print(y_test.shape)\n",
    "y_train.head()"
   ]
  },
  {
   "cell_type": "markdown",
   "metadata": {},
   "source": [
    "## Model Prep: Scaling using sklearn StandardScaler\n",
    "\n",
    "Here we ensured that the data were scaled correctly."
   ]
  },
  {
   "cell_type": "code",
   "execution_count": 127,
   "metadata": {},
   "outputs": [
    {
     "data": {
      "text/plain": [
       "StandardScaler()"
      ]
     },
     "execution_count": 127,
     "metadata": {},
     "output_type": "execute_result"
    }
   ],
   "source": [
    "# instantiate\n",
    "ss = StandardScaler()\n",
    "\n",
    "# fit X\n",
    "ss.fit(X_train)"
   ]
  },
  {
   "cell_type": "code",
   "execution_count": 128,
   "metadata": {},
   "outputs": [],
   "source": [
    "X_train_scaled = ss.transform(X_train)\n",
    "X_test_scaled = ss.transform(X_test)"
   ]
  },
  {
   "cell_type": "markdown",
   "metadata": {},
   "source": [
    "## Model Prep: Instantiate our model\n",
    "\n",
    "Here we instantiated all the models that we used in model evalaution."
   ]
  },
  {
   "cell_type": "code",
   "execution_count": 129,
   "metadata": {},
   "outputs": [],
   "source": [
    "# Linear Model\n",
    "lr = LinearRegression()"
   ]
  },
  {
   "cell_type": "code",
   "execution_count": 130,
   "metadata": {},
   "outputs": [],
   "source": [
    "# Ridge Model\n",
    "ridge = RidgeCV(alphas=np.linspace(1,1000,100)) # specifiy the range of iterations"
   ]
  },
  {
   "cell_type": "code",
   "execution_count": 131,
   "metadata": {},
   "outputs": [],
   "source": [
    "# Lasso Model\n",
    "lasso = LassoCV(n_alphas=100) # specifiy the range of iterations"
   ]
  },
  {
   "cell_type": "code",
   "execution_count": 132,
   "metadata": {},
   "outputs": [],
   "source": [
    "# ElasticNet Model\n",
    "enet_alphas = np.arange(0.1, 1.0, 0.01) # elasticnet range usually very small scale\n",
    "enet_ratio = 0.5\n",
    "enet = ElasticNetCV(alphas=enet_alphas, l1_ratio=enet_ratio, cv=5)"
   ]
  },
  {
   "cell_type": "markdown",
   "metadata": {},
   "source": [
    "## Model Cross Validation\n",
    "\n",
    "Here we used cross_val_score to evaluate our models.\n",
    "- train data set = data set given by kaggle that was cleaned and processed in previous steps.\n",
    "- train bloc = portion of the train data set use to train the model\n",
    "- test bloc = portion of the train data set use to validate the model"
   ]
  },
  {
   "cell_type": "code",
   "execution_count": 133,
   "metadata": {},
   "outputs": [
    {
     "name": "stdout",
     "output_type": "stream",
     "text": [
      "(1234, 30)\n",
      "(1234,)\n"
     ]
    }
   ],
   "source": [
    "print(X_train_scaled.shape)\n",
    "print(y_train.shape)"
   ]
  },
  {
   "cell_type": "markdown",
   "metadata": {},
   "source": [
    "### Model Linear Regression"
   ]
  },
  {
   "cell_type": "code",
   "execution_count": 134,
   "metadata": {},
   "outputs": [
    {
     "name": "stdout",
     "output_type": "stream",
     "text": [
      "Model train bloc R2 (LR) = 0.8564793653234325\n",
      "Model train bloc RMSE (LR) = 22543.249267242787\n"
     ]
    }
   ],
   "source": [
    "# Estimate of model using LR cross validation\n",
    "print(\"Model train bloc R2 (LR) =\", cross_val_score(lr, X_train_scaled, y_train, cv=5).mean())\n",
    "#print(\"Model train bloc MSE(LR) =\", -cross_val_score(lr, X_train_scaled, y_train, cv=5, scoring='neg_mean_squared_error').mean())\n",
    "print(\"Model train bloc RMSE (LR) =\", np.sqrt(-cross_val_score(lr, X_train_scaled, y_train, cv=5, scoring='neg_mean_squared_error').mean()))\n",
    "\n",
    "# variable for referencing use later\n",
    "lr_cv_mean_mse = np.sqrt(-cross_val_score(lr, X_train_scaled, y_train, cv=5, scoring='neg_mean_squared_error').mean())"
   ]
  },
  {
   "cell_type": "markdown",
   "metadata": {},
   "source": [
    "### Model Ridge Regression"
   ]
  },
  {
   "cell_type": "code",
   "execution_count": 135,
   "metadata": {},
   "outputs": [
    {
     "name": "stdout",
     "output_type": "stream",
     "text": [
      "Model train bloc R2 (Ridge) = 0.8571014323224689\n",
      "Model train bloc RMSE (Ridge) = 22497.17341564948\n"
     ]
    }
   ],
   "source": [
    "# Ridge R2 of train set\n",
    "print(\"Model train bloc R2 (Ridge) =\", cross_val_score(ridge,X_train_scaled,y_train,cv=5).mean())\n",
    "#print(\"Model train bloc MSE (Ridge) =\", -cross_val_score(ridge,X_train_scaled,y_train,cv=5, scoring ='neg_mean_squared_error').mean()\n",
    "print(\"Model train bloc RMSE (Ridge) =\", np.sqrt(-cross_val_score(ridge,X_train_scaled,y_train,cv=5, scoring ='neg_mean_squared_error').mean()))"
   ]
  },
  {
   "cell_type": "markdown",
   "metadata": {},
   "source": [
    "### Model Lasso Regression"
   ]
  },
  {
   "cell_type": "code",
   "execution_count": 136,
   "metadata": {},
   "outputs": [
    {
     "name": "stdout",
     "output_type": "stream",
     "text": [
      "Model train bloc R2 (Lasso) = 0.8565984259196882\n",
      "Model train bloc RMSE (Lasso) = 22535.72565160185\n"
     ]
    }
   ],
   "source": [
    "# Lasso R2 of train set\n",
    "print(\"Model train bloc R2 (Lasso) =\", cross_val_score(lasso,X_train_scaled,y_train,cv=5).mean())\n",
    "#print(\"Model train bloc MSE (Lasso) =\", -cross_val_score(lasso,X_train_scaled,y_train,cv=5, scoring ='neg_mean_squared_error').mean()\n",
    "print(\"Model train bloc RMSE (Lasso) =\", np.sqrt(-cross_val_score(lasso,X_train_scaled,y_train,cv=5, scoring ='neg_mean_squared_error').mean()))"
   ]
  },
  {
   "cell_type": "markdown",
   "metadata": {},
   "source": [
    "### Model ElasticNet Regression"
   ]
  },
  {
   "cell_type": "code",
   "execution_count": 137,
   "metadata": {},
   "outputs": [
    {
     "name": "stdout",
     "output_type": "stream",
     "text": [
      "Model train bloc R2 (ENet) = 0.857012571283047\n",
      "Model train bloc RMSE (ENet) = 22506.52967103197\n"
     ]
    }
   ],
   "source": [
    "# Lasso R2 of train set\n",
    "print(\"Model train bloc R2 (ENet) =\", cross_val_score(enet,X_train_scaled,y_train,cv=5).mean())\n",
    "#print(\"Model train block MSE (ENet) =\", -cross_val_score(enet,X_train_scaled,y_train,cv=5, scoring ='neg_mean_squared_error').mean()\n",
    "print(\"Model train bloc RMSE (ENet) =\", np.sqrt(-cross_val_score(enet,X_train_scaled,y_train,cv=5, scoring ='neg_mean_squared_error').mean()))"
   ]
  },
  {
   "attachments": {},
   "cell_type": "markdown",
   "metadata": {},
   "source": [
    "### Interpretation of model's cross validation scores\n",
    "\n",
    "\n",
    "|Model Type|Validation Method|R2|RMSE|R2 var +/- 5%|RMSE better?|Remarks|\n",
    "|:---|:---|:---|:---|:---:|:---:|:---|\n",
    "|Baseline (Unseen data)|LR cross validation|       0.8577| \t  22,146|---|---|---|\n",
    "|---|---|---|---|---|---|---|\n",
    "|Train bloc|LR cross validation|\t  0.8565| \t 22,543|Yes|No|Lower bias, Increase variance|\n",
    "|Train bloc|Ridge cross validation|\t 0.8571| \t 22,497|Yes|No|Lower bias, Increase variance|\n",
    "|Train bloc|Lasso cross validation|\t 0.8566| \t 22,536|Yes|No|Lower bias, Increase variance|\n",
    "|Train bloc|ElasticNet cross validation|\t 0.8570| \t 22,507|Yes|No|Lower bias, Increase variance|"
   ]
  },
  {
   "cell_type": "markdown",
   "metadata": {},
   "source": [
    "**Observation**\n",
    "\n",
    "When we applied the basic models (without tuning) to the train bloc and comparing it against the baseline. We saw that all the models had lower bias (R2) but it is within the tolerance (+/- 5%) that we set. We also saw an increase in variance (RMSE) but not by a large margin. This was more or less expected as the number of rows had decreased by almost 1/3 of the total train data set rows.\n",
    "\n",
    "This was a typical case of overfitting where the models matches the training data \"too closely”. Learning from the noise in the data, rather than just the signal. This happened because we are evaluating the models by testing it on the same data that was used to train it. Hence, creating a model that is \"too complex\".\n",
    "\n",
    "The impact of overfitting was that the models will do well on the training data, but won't generalize to out-of-sample\n",
    "data. The models will have low bias, but high variance which is exactly what we had observed here.\n",
    "\n",
    "This observation brought out the need for Regularization. Regularization is a method for \"constraining\" or \"regularizing\" the size of the coefficients, thus \"shrinking\" them towards zero. It reduces model variance and thus minimizes overfitting.\n",
    "If the model is too complex, it tends to reduce variance more than it increases bias, resulting in a model that is more likely to generalize. Our goal was to locate the optimum model complexity, and thus regularization is useful when we believe our model is too complex. We shall observed this in the next step.\n",
    "\n",
    "Note: we added ElasticNet here as we intent to determine in next step if it will produce a better result."
   ]
  },
  {
   "cell_type": "markdown",
   "metadata": {},
   "source": [
    "## Model Fitting, Evaluation and Tuning\n",
    "\n",
    "Fit the model to the train bloc, and evaluate the train and test bloc scores."
   ]
  },
  {
   "cell_type": "code",
   "execution_count": 138,
   "metadata": {},
   "outputs": [
    {
     "name": "stdout",
     "output_type": "stream",
     "text": [
      "(1234, 30)\n",
      "(1234,)\n",
      "(412, 30)\n",
      "(412,)\n"
     ]
    }
   ],
   "source": [
    "print(X_train_scaled.shape)\n",
    "print(y_train.shape)\n",
    "print(X_test_scaled.shape)\n",
    "print(y_test.shape)"
   ]
  },
  {
   "cell_type": "markdown",
   "metadata": {},
   "source": [
    "### Model Linear Regression"
   ]
  },
  {
   "cell_type": "code",
   "execution_count": 139,
   "metadata": {},
   "outputs": [
    {
     "name": "stdout",
     "output_type": "stream",
     "text": [
      "R2 (LR) of train bloc 0.8657152430545847\n",
      "R2 (LR) of test bloc 0.8516819836427656\n"
     ]
    }
   ],
   "source": [
    "# fit to linear regression model\n",
    "lr.fit(X_train_scaled,y_train)\n",
    "\n",
    "# evaluate R2 of linear regression model\n",
    "print(\"R2 (LR) of train bloc \" + str(lr.score(X_train_scaled,y_train)))\n",
    "print(\"R2 (LR) of test bloc \" + str(lr.score(X_test_scaled,y_test)))\n",
    "#print(\"R2 (LR) estimate of model using train bloc \" + str(lr_cv_scores.mean()))"
   ]
  },
  {
   "cell_type": "code",
   "execution_count": 140,
   "metadata": {},
   "outputs": [],
   "source": [
    "# evaluate MSE of linear regression model\n",
    "# print(\"MSE (LR) of train bloc \" + str(mean_squared_error(y_train, lr.predict(X_train_scaled))))\n",
    "# print(\"MSE (LR) of test bloc \" + str(mean_squared_error(y_test,lr.predict(X_test_scaled))))\n",
    "# print(\"MSE (LR) estimate of model using train bloc \" + str(lr_cv_mse_scores.mean()))"
   ]
  },
  {
   "cell_type": "code",
   "execution_count": 141,
   "metadata": {},
   "outputs": [
    {
     "name": "stdout",
     "output_type": "stream",
     "text": [
      "RMSE (LR) of train bloc 21871.119649589273\n",
      "RMSE (LR) of test bloc 20783.236629146384\n"
     ]
    }
   ],
   "source": [
    "# evaluate RMSE of linear regression model\n",
    "print(\"RMSE (LR) of train bloc \" + str(np.sqrt(mean_squared_error(y_train, lr.predict(X_train_scaled)))))\n",
    "print(\"RMSE (LR) of test bloc \" + str(np.sqrt(mean_squared_error(y_test,lr.predict(X_test_scaled)))))\n",
    "# print(\"RMSE (LR) estimate of model using train bloc \" + str(np.sqrt(lr_cv_mse_scores.mean())))"
   ]
  },
  {
   "cell_type": "markdown",
   "metadata": {},
   "source": [
    "### Ridge Regression"
   ]
  },
  {
   "cell_type": "code",
   "execution_count": 142,
   "metadata": {},
   "outputs": [
    {
     "data": {
      "text/plain": [
       "RidgeCV(alphas=array([   1.        ,   11.09090909,   21.18181818,   31.27272727,\n",
       "         41.36363636,   51.45454545,   61.54545455,   71.63636364,\n",
       "         81.72727273,   91.81818182,  101.90909091,  112.        ,\n",
       "        122.09090909,  132.18181818,  142.27272727,  152.36363636,\n",
       "        162.45454545,  172.54545455,  182.63636364,  192.72727273,\n",
       "        202.81818182,  212.90909091,  223.        ,  233.09090909,\n",
       "        243.18181818,  253.27272727,  263.36363636,  273.45454545...\n",
       "        687.18181818,  697.27272727,  707.36363636,  717.45454545,\n",
       "        727.54545455,  737.63636364,  747.72727273,  757.81818182,\n",
       "        767.90909091,  778.        ,  788.09090909,  798.18181818,\n",
       "        808.27272727,  818.36363636,  828.45454545,  838.54545455,\n",
       "        848.63636364,  858.72727273,  868.81818182,  878.90909091,\n",
       "        889.        ,  899.09090909,  909.18181818,  919.27272727,\n",
       "        929.36363636,  939.45454545,  949.54545455,  959.63636364,\n",
       "        969.72727273,  979.81818182,  989.90909091, 1000.        ]))"
      ]
     },
     "execution_count": 142,
     "metadata": {},
     "output_type": "execute_result"
    }
   ],
   "source": [
    "# fit to ridge regression model\n",
    "ridge.fit(X_train_scaled,y_train)"
   ]
  },
  {
   "cell_type": "code",
   "execution_count": 143,
   "metadata": {},
   "outputs": [
    {
     "data": {
      "text/plain": [
       "31.272727272727273"
      ]
     },
     "execution_count": 143,
     "metadata": {},
     "output_type": "execute_result"
    }
   ],
   "source": [
    "ridge.alpha_ # optimal alpha based on range specified"
   ]
  },
  {
   "cell_type": "code",
   "execution_count": 144,
   "metadata": {},
   "outputs": [
    {
     "name": "stdout",
     "output_type": "stream",
     "text": [
      "R2 (Ridge) of train bloc 0.865325739531122\n",
      "R2 (Ridge) of test bloc 0.851493530974442\n"
     ]
    }
   ],
   "source": [
    "# evaluate R2 of ridge regression model\n",
    "print(\"R2 (Ridge) of train bloc \" + str(ridge.score(X_train_scaled,y_train)))\n",
    "print(\"R2 (Ridge) of test bloc \" + str(ridge.score(X_test_scaled,y_test)))\n",
    "#print(\"R2(Ridge) estimate of model using train bloc \" + str(ridge_cv_scores.mean()))"
   ]
  },
  {
   "cell_type": "code",
   "execution_count": 145,
   "metadata": {},
   "outputs": [],
   "source": [
    "# evaluate MSE of ridge regression model\n",
    "# print(\"MSE (Ridge) of train bloc \" + str(mean_squared_error(y_train, ridge.predict(X_train_scaled))))\n",
    "# print(\"MSE (Ridge) of test bloc \" + str(mean_squared_error(y_test,ridge.predict(X_test_scaled))))\n",
    "# print(\"MSE(Ridge) estimate of model using train bloc \" + str(ridge_cv_mse_scores.mean()))"
   ]
  },
  {
   "cell_type": "code",
   "execution_count": 146,
   "metadata": {},
   "outputs": [
    {
     "name": "stdout",
     "output_type": "stream",
     "text": [
      "RMSE(Ridge) of train bloc 21902.81613503797\n",
      "RMSE(Ridge) of test bloc 20796.43601368687\n"
     ]
    }
   ],
   "source": [
    "# evaluate RMSE of ridge regression model\n",
    "print(\"RMSE(Ridge) of train bloc \" + str(np.sqrt(mean_squared_error(y_train, ridge.predict(X_train_scaled)))))\n",
    "print(\"RMSE(Ridge) of test bloc \" + str(np.sqrt(mean_squared_error(y_test,ridge.predict(X_test_scaled)))))\n",
    "#print(\"RMSE(Ridge) estimate of model using train bloc \" + str(np.sqrt(ridge_cv_mse_scores.mean())))"
   ]
  },
  {
   "cell_type": "code",
   "execution_count": 147,
   "metadata": {},
   "outputs": [
    {
     "data": {
      "image/png": "[encoded data removed]",
      "text/plain": [
       "<Figure size 1080x504 with 1 Axes>"
      ]
     },
     "metadata": {
      "needs_background": "light"
     },
     "output_type": "display_data"
    }
   ],
   "source": [
    "# features with higher scores are more useful in predicting, sorting will be easier to see\n",
    "col_names = X_train.columns.tolist()\n",
    "pd.Series(ridge.coef_, index=col_names).sort_values(ascending=False).plot.bar(figsize=(15,7)).grid(zorder=0);"
   ]
  },
  {
   "cell_type": "markdown",
   "metadata": {},
   "source": [
    "**Observation**\n",
    "\n",
    "Ridge regression penalizes the model for having large coefficients. It shrinks the regression coefficients where as alpha increases, coefficients decreases. Ridge alpha acts as a \"tuning\" parameter\". From the plot above, features such as `OverallQual``1stFlrSF``GrLivArea` would be penalized the most."
   ]
  },
  {
   "cell_type": "code",
   "execution_count": 148,
   "metadata": {},
   "outputs": [
    {
     "data": {
      "text/plain": [
       "array([14216.55224153,  4498.70379159,  5835.92174849, 13775.77805358,\n",
       "       -2219.0222923 ,  2387.23597832,  5778.09121547,  3443.5305655 ,\n",
       "        4655.34637344, -1179.00463168,  6699.35066782, -1500.2380157 ,\n",
       "        2268.90930395,  4549.08911581,   613.42018595, -3219.80636644,\n",
       "        1511.71624346,   116.06830021,  3935.15298198,   994.90876626,\n",
       "        6237.9920433 , -3062.043096  ,  1997.40110488, -2431.55858079,\n",
       "       -1281.06456296,  1687.26838913,  -472.02745343, -2123.35697085,\n",
       "        -172.39345683,  2692.57365563])"
      ]
     },
     "execution_count": 148,
     "metadata": {},
     "output_type": "execute_result"
    }
   ],
   "source": [
    "ridge_coefficients = ridge.coef_\n",
    "ridge_coefficients"
   ]
  },
  {
   "cell_type": "code",
   "execution_count": 149,
   "metadata": {},
   "outputs": [
    {
     "data": {
      "text/html": [
       "<div>\n",
       "<style scoped>\n",
       "    .dataframe tbody tr th:only-of-type {\n",
       "        vertical-align: middle;\n",
       "    }\n",
       "\n",
       "    .dataframe tbody tr th {\n",
       "        vertical-align: top;\n",
       "    }\n",
       "\n",
       "    .dataframe thead th {\n",
       "        text-align: right;\n",
       "    }\n",
       "</style>\n",
       "<table border=\"1\" class=\"dataframe\">\n",
       "  <thead>\n",
       "    <tr style=\"text-align: right;\">\n",
       "      <th></th>\n",
       "      <th>predictors</th>\n",
       "      <th>coefficients</th>\n",
       "    </tr>\n",
       "  </thead>\n",
       "  <tbody>\n",
       "    <tr>\n",
       "      <th>0</th>\n",
       "      <td>OverallQual</td>\n",
       "      <td>14216.552242</td>\n",
       "    </tr>\n",
       "    <tr>\n",
       "      <th>1</th>\n",
       "      <td>ExterQual</td>\n",
       "      <td>4498.703792</td>\n",
       "    </tr>\n",
       "    <tr>\n",
       "      <th>2</th>\n",
       "      <td>KitchenQual</td>\n",
       "      <td>5835.921748</td>\n",
       "    </tr>\n",
       "    <tr>\n",
       "      <th>3</th>\n",
       "      <td>GrLivArea</td>\n",
       "      <td>13775.778054</td>\n",
       "    </tr>\n",
       "    <tr>\n",
       "      <th>4</th>\n",
       "      <td>fe_Age</td>\n",
       "      <td>-2219.022292</td>\n",
       "    </tr>\n",
       "    <tr>\n",
       "      <th>5</th>\n",
       "      <td>BsmtQual</td>\n",
       "      <td>2387.235978</td>\n",
       "    </tr>\n",
       "    <tr>\n",
       "      <th>6</th>\n",
       "      <td>GarageArea</td>\n",
       "      <td>5778.091215</td>\n",
       "    </tr>\n",
       "    <tr>\n",
       "      <th>7</th>\n",
       "      <td>GarageFinish</td>\n",
       "      <td>3443.530565</td>\n",
       "    </tr>\n",
       "    <tr>\n",
       "      <th>8</th>\n",
       "      <td>TotalBsmtSF</td>\n",
       "      <td>4655.346373</td>\n",
       "    </tr>\n",
       "    <tr>\n",
       "      <th>9</th>\n",
       "      <td>Foundation_PConc</td>\n",
       "      <td>-1179.004632</td>\n",
       "    </tr>\n",
       "    <tr>\n",
       "      <th>10</th>\n",
       "      <td>1stFlrSF</td>\n",
       "      <td>6699.350668</td>\n",
       "    </tr>\n",
       "    <tr>\n",
       "      <th>11</th>\n",
       "      <td>FullBath</td>\n",
       "      <td>-1500.238016</td>\n",
       "    </tr>\n",
       "    <tr>\n",
       "      <th>12</th>\n",
       "      <td>HeatingQC</td>\n",
       "      <td>2268.909304</td>\n",
       "    </tr>\n",
       "    <tr>\n",
       "      <th>13</th>\n",
       "      <td>FireplaceQu</td>\n",
       "      <td>4549.089116</td>\n",
       "    </tr>\n",
       "    <tr>\n",
       "      <th>14</th>\n",
       "      <td>GarageType_Attchd</td>\n",
       "      <td>613.420186</td>\n",
       "    </tr>\n",
       "    <tr>\n",
       "      <th>15</th>\n",
       "      <td>Exterior1st_VinylSd</td>\n",
       "      <td>-3219.806366</td>\n",
       "    </tr>\n",
       "    <tr>\n",
       "      <th>16</th>\n",
       "      <td>Exterior2nd_VinylSd</td>\n",
       "      <td>1511.716243</td>\n",
       "    </tr>\n",
       "    <tr>\n",
       "      <th>17</th>\n",
       "      <td>MasVnrType_None</td>\n",
       "      <td>116.068300</td>\n",
       "    </tr>\n",
       "    <tr>\n",
       "      <th>18</th>\n",
       "      <td>MSSubClass_60</td>\n",
       "      <td>3935.152982</td>\n",
       "    </tr>\n",
       "    <tr>\n",
       "      <th>19</th>\n",
       "      <td>GarageType_Detchd</td>\n",
       "      <td>994.908766</td>\n",
       "    </tr>\n",
       "    <tr>\n",
       "      <th>20</th>\n",
       "      <td>BsmtFinType1</td>\n",
       "      <td>6237.992043</td>\n",
       "    </tr>\n",
       "    <tr>\n",
       "      <th>21</th>\n",
       "      <td>Foundation_CBlock</td>\n",
       "      <td>-3062.043096</td>\n",
       "    </tr>\n",
       "    <tr>\n",
       "      <th>22</th>\n",
       "      <td>Neighborhood_NridgHt</td>\n",
       "      <td>1997.401105</td>\n",
       "    </tr>\n",
       "    <tr>\n",
       "      <th>23</th>\n",
       "      <td>MSZoning_RM</td>\n",
       "      <td>-2431.558581</td>\n",
       "    </tr>\n",
       "    <tr>\n",
       "      <th>24</th>\n",
       "      <td>LotShape</td>\n",
       "      <td>-1281.064563</td>\n",
       "    </tr>\n",
       "    <tr>\n",
       "      <th>25</th>\n",
       "      <td>MasVnrType_Stone</td>\n",
       "      <td>1687.268389</td>\n",
       "    </tr>\n",
       "    <tr>\n",
       "      <th>26</th>\n",
       "      <td>MSSubClass_30</td>\n",
       "      <td>-472.027453</td>\n",
       "    </tr>\n",
       "    <tr>\n",
       "      <th>27</th>\n",
       "      <td>Foundation_BrkTil</td>\n",
       "      <td>-2123.356971</td>\n",
       "    </tr>\n",
       "    <tr>\n",
       "      <th>28</th>\n",
       "      <td>MasVnrType_BrkFace</td>\n",
       "      <td>-172.393457</td>\n",
       "    </tr>\n",
       "    <tr>\n",
       "      <th>29</th>\n",
       "      <td>GarageType_None</td>\n",
       "      <td>2692.573656</td>\n",
       "    </tr>\n",
       "  </tbody>\n",
       "</table>\n",
       "</div>"
      ],
      "text/plain": [
       "              predictors  coefficients\n",
       "0            OverallQual  14216.552242\n",
       "1              ExterQual   4498.703792\n",
       "2            KitchenQual   5835.921748\n",
       "3              GrLivArea  13775.778054\n",
       "4                 fe_Age  -2219.022292\n",
       "5               BsmtQual   2387.235978\n",
       "6             GarageArea   5778.091215\n",
       "7           GarageFinish   3443.530565\n",
       "8            TotalBsmtSF   4655.346373\n",
       "9       Foundation_PConc  -1179.004632\n",
       "10              1stFlrSF   6699.350668\n",
       "11              FullBath  -1500.238016\n",
       "12             HeatingQC   2268.909304\n",
       "13           FireplaceQu   4549.089116\n",
       "14     GarageType_Attchd    613.420186\n",
       "15   Exterior1st_VinylSd  -3219.806366\n",
       "16   Exterior2nd_VinylSd   1511.716243\n",
       "17       MasVnrType_None    116.068300\n",
       "18         MSSubClass_60   3935.152982\n",
       "19     GarageType_Detchd    994.908766\n",
       "20          BsmtFinType1   6237.992043\n",
       "21     Foundation_CBlock  -3062.043096\n",
       "22  Neighborhood_NridgHt   1997.401105\n",
       "23           MSZoning_RM  -2431.558581\n",
       "24              LotShape  -1281.064563\n",
       "25      MasVnrType_Stone   1687.268389\n",
       "26         MSSubClass_30   -472.027453\n",
       "27     Foundation_BrkTil  -2123.356971\n",
       "28    MasVnrType_BrkFace   -172.393457\n",
       "29       GarageType_None   2692.573656"
      ]
     },
     "execution_count": 149,
     "metadata": {},
     "output_type": "execute_result"
    }
   ],
   "source": [
    "ridge_coef_df = pd.DataFrame({'predictors': [col for col in col_names],\n",
    "                              'coefficients': ridge_coefficients})\n",
    "ridge_coef_df"
   ]
  },
  {
   "cell_type": "markdown",
   "metadata": {},
   "source": [
    "### Lasso Regression"
   ]
  },
  {
   "cell_type": "code",
   "execution_count": 150,
   "metadata": {},
   "outputs": [
    {
     "data": {
      "text/plain": [
       "LassoCV()"
      ]
     },
     "execution_count": 150,
     "metadata": {},
     "output_type": "execute_result"
    }
   ],
   "source": [
    "# fit to lasso regression model\n",
    "lasso.fit(X_train_scaled,y_train)"
   ]
  },
  {
   "cell_type": "code",
   "execution_count": 151,
   "metadata": {},
   "outputs": [
    {
     "data": {
      "text/plain": [
       "111.20097954703498"
      ]
     },
     "execution_count": 151,
     "metadata": {},
     "output_type": "execute_result"
    }
   ],
   "source": [
    "# optimal alpha based on range specified\n",
    "lasso_optimal_alpha = lasso.alpha_\n",
    "lasso_optimal_alpha"
   ]
  },
  {
   "cell_type": "code",
   "execution_count": 152,
   "metadata": {},
   "outputs": [
    {
     "name": "stdout",
     "output_type": "stream",
     "text": [
      "R2 (Lasso) of train set 0.8650620589060484\n",
      "R2 (Lasso) of test set 0.8509717524761509\n"
     ]
    }
   ],
   "source": [
    "# evaluate R2 of Lasso regression model\n",
    "print(\"R2 (Lasso) of train set \" + str(lasso.score(X_train_scaled,y_train)))\n",
    "print(\"R2 (Lasso) of test set \" + str(lasso.score(X_test_scaled,y_test)))\n",
    "#print(\"R2 (Lasso) estimate of model using train set \" + str(lasso_cv_scores.mean()))"
   ]
  },
  {
   "cell_type": "code",
   "execution_count": 153,
   "metadata": {},
   "outputs": [],
   "source": [
    "# evaluate MSE of Lasso regression model\n",
    "# print(\"MSE (Lasso) of train set \" + str(mean_squared_error(y_train, lasso.predict(X_train_scaled))))\n",
    "# print(\"MSE (Lasso) of test set \" + str(mean_squared_error(y_test,lasso.predict(X_test_scaled))))\n",
    "# print(\"MSE (Lasso) estimate of model using train set \" + str(lasso_cv_mse_scores.mean()))"
   ]
  },
  {
   "cell_type": "code",
   "execution_count": 154,
   "metadata": {},
   "outputs": [
    {
     "name": "stdout",
     "output_type": "stream",
     "text": [
      "RMSE (Lasso) of train set 21924.24756552978\n",
      "RMSE (Lasso) of test set 20832.938189481214\n"
     ]
    }
   ],
   "source": [
    "# evaluate RMSE of Lasso regression model\n",
    "print(\"RMSE (Lasso) of train set \" + str(np.sqrt(mean_squared_error(y_train, lasso.predict(X_train_scaled)))))\n",
    "print(\"RMSE (Lasso) of test set \" + str(np.sqrt(mean_squared_error(y_test,lasso.predict(X_test_scaled)))))\n",
    "#print(\"RMSE (Lasso) estimate of model using train set \" + str(np.sqrt(lasso_cv_mse_scores.mean())))"
   ]
  },
  {
   "cell_type": "code",
   "execution_count": 155,
   "metadata": {},
   "outputs": [
    {
     "data": {
      "image/png": "[encoded data removed]",
      "text/plain": [
       "<Figure size 1080x504 with 1 Axes>"
      ]
     },
     "metadata": {
      "needs_background": "light"
     },
     "output_type": "display_data"
    }
   ],
   "source": [
    "# features with higher scores are more useful in predicting, sorting will be easier to see\n",
    "col_names = X_train.columns.tolist()\n",
    "pd.Series(lasso.coef_, index=col_names).sort_values(ascending=False).plot.bar(figsize=(15,7)).grid(zorder=0);"
   ]
  },
  {
   "cell_type": "markdown",
   "metadata": {},
   "source": [
    "**Observation**\n",
    "\n",
    "Lasso regression penalizes the model for having large coefficients where as alpha increases, coefficients decreases even to the point of zero. Lasso alpha acts as a \"tuning\" parameter. From the plot above, features such as `OverallQual``1stFlrSF``GrLivArea` would be penalized the most, while features such as `GarageType_Detchd` `Exterior2nd_VinylSd` `MasVnrType_BrkFace` would be penalized to zero. Which also mean that they could be removed from the model."
   ]
  },
  {
   "cell_type": "code",
   "execution_count": 156,
   "metadata": {},
   "outputs": [
    {
     "data": {
      "text/plain": [
       "array([14908.59466401,  4320.24162087,  5839.98453035, 14247.07058732,\n",
       "       -2245.23381629,  1913.83611143,  5735.091118  ,  3311.16035216,\n",
       "        4614.5752404 ,    -0.        ,  6649.03893776, -1544.28633341,\n",
       "        2150.98163002,  4374.7486271 ,     0.        , -1623.58336728,\n",
       "           0.        ,     0.        ,  3660.44708284,   246.21908417,\n",
       "        6394.87672569, -1822.66572675,  1854.06841447, -2422.2581767 ,\n",
       "       -1141.45502433,  1543.91109277,  -143.74454489, -1377.43157813,\n",
       "        -266.15801696,  2299.14512953])"
      ]
     },
     "execution_count": 156,
     "metadata": {},
     "output_type": "execute_result"
    }
   ],
   "source": [
    "lasso_coefficients = lasso.coef_\n",
    "lasso_coefficients"
   ]
  },
  {
   "cell_type": "code",
   "execution_count": 157,
   "metadata": {},
   "outputs": [
    {
     "name": "stdout",
     "output_type": "stream",
     "text": [
      "30\n"
     ]
    },
    {
     "data": {
      "text/html": [
       "<div>\n",
       "<style scoped>\n",
       "    .dataframe tbody tr th:only-of-type {\n",
       "        vertical-align: middle;\n",
       "    }\n",
       "\n",
       "    .dataframe tbody tr th {\n",
       "        vertical-align: top;\n",
       "    }\n",
       "\n",
       "    .dataframe thead th {\n",
       "        text-align: right;\n",
       "    }\n",
       "</style>\n",
       "<table border=\"1\" class=\"dataframe\">\n",
       "  <thead>\n",
       "    <tr style=\"text-align: right;\">\n",
       "      <th></th>\n",
       "      <th>predictors</th>\n",
       "      <th>coefficients</th>\n",
       "    </tr>\n",
       "  </thead>\n",
       "  <tbody>\n",
       "    <tr>\n",
       "      <th>0</th>\n",
       "      <td>OverallQual</td>\n",
       "      <td>14908.594664</td>\n",
       "    </tr>\n",
       "    <tr>\n",
       "      <th>1</th>\n",
       "      <td>ExterQual</td>\n",
       "      <td>4320.241621</td>\n",
       "    </tr>\n",
       "    <tr>\n",
       "      <th>2</th>\n",
       "      <td>KitchenQual</td>\n",
       "      <td>5839.984530</td>\n",
       "    </tr>\n",
       "    <tr>\n",
       "      <th>3</th>\n",
       "      <td>GrLivArea</td>\n",
       "      <td>14247.070587</td>\n",
       "    </tr>\n",
       "    <tr>\n",
       "      <th>4</th>\n",
       "      <td>fe_Age</td>\n",
       "      <td>-2245.233816</td>\n",
       "    </tr>\n",
       "    <tr>\n",
       "      <th>5</th>\n",
       "      <td>BsmtQual</td>\n",
       "      <td>1913.836111</td>\n",
       "    </tr>\n",
       "    <tr>\n",
       "      <th>6</th>\n",
       "      <td>GarageArea</td>\n",
       "      <td>5735.091118</td>\n",
       "    </tr>\n",
       "    <tr>\n",
       "      <th>7</th>\n",
       "      <td>GarageFinish</td>\n",
       "      <td>3311.160352</td>\n",
       "    </tr>\n",
       "    <tr>\n",
       "      <th>8</th>\n",
       "      <td>TotalBsmtSF</td>\n",
       "      <td>4614.575240</td>\n",
       "    </tr>\n",
       "    <tr>\n",
       "      <th>9</th>\n",
       "      <td>Foundation_PConc</td>\n",
       "      <td>-0.000000</td>\n",
       "    </tr>\n",
       "    <tr>\n",
       "      <th>10</th>\n",
       "      <td>1stFlrSF</td>\n",
       "      <td>6649.038938</td>\n",
       "    </tr>\n",
       "    <tr>\n",
       "      <th>11</th>\n",
       "      <td>FullBath</td>\n",
       "      <td>-1544.286333</td>\n",
       "    </tr>\n",
       "    <tr>\n",
       "      <th>12</th>\n",
       "      <td>HeatingQC</td>\n",
       "      <td>2150.981630</td>\n",
       "    </tr>\n",
       "    <tr>\n",
       "      <th>13</th>\n",
       "      <td>FireplaceQu</td>\n",
       "      <td>4374.748627</td>\n",
       "    </tr>\n",
       "    <tr>\n",
       "      <th>14</th>\n",
       "      <td>GarageType_Attchd</td>\n",
       "      <td>0.000000</td>\n",
       "    </tr>\n",
       "    <tr>\n",
       "      <th>15</th>\n",
       "      <td>Exterior1st_VinylSd</td>\n",
       "      <td>-1623.583367</td>\n",
       "    </tr>\n",
       "    <tr>\n",
       "      <th>16</th>\n",
       "      <td>Exterior2nd_VinylSd</td>\n",
       "      <td>0.000000</td>\n",
       "    </tr>\n",
       "    <tr>\n",
       "      <th>17</th>\n",
       "      <td>MasVnrType_None</td>\n",
       "      <td>0.000000</td>\n",
       "    </tr>\n",
       "    <tr>\n",
       "      <th>18</th>\n",
       "      <td>MSSubClass_60</td>\n",
       "      <td>3660.447083</td>\n",
       "    </tr>\n",
       "    <tr>\n",
       "      <th>19</th>\n",
       "      <td>GarageType_Detchd</td>\n",
       "      <td>246.219084</td>\n",
       "    </tr>\n",
       "    <tr>\n",
       "      <th>20</th>\n",
       "      <td>BsmtFinType1</td>\n",
       "      <td>6394.876726</td>\n",
       "    </tr>\n",
       "    <tr>\n",
       "      <th>21</th>\n",
       "      <td>Foundation_CBlock</td>\n",
       "      <td>-1822.665727</td>\n",
       "    </tr>\n",
       "    <tr>\n",
       "      <th>22</th>\n",
       "      <td>Neighborhood_NridgHt</td>\n",
       "      <td>1854.068414</td>\n",
       "    </tr>\n",
       "    <tr>\n",
       "      <th>23</th>\n",
       "      <td>MSZoning_RM</td>\n",
       "      <td>-2422.258177</td>\n",
       "    </tr>\n",
       "    <tr>\n",
       "      <th>24</th>\n",
       "      <td>LotShape</td>\n",
       "      <td>-1141.455024</td>\n",
       "    </tr>\n",
       "    <tr>\n",
       "      <th>25</th>\n",
       "      <td>MasVnrType_Stone</td>\n",
       "      <td>1543.911093</td>\n",
       "    </tr>\n",
       "    <tr>\n",
       "      <th>26</th>\n",
       "      <td>MSSubClass_30</td>\n",
       "      <td>-143.744545</td>\n",
       "    </tr>\n",
       "    <tr>\n",
       "      <th>27</th>\n",
       "      <td>Foundation_BrkTil</td>\n",
       "      <td>-1377.431578</td>\n",
       "    </tr>\n",
       "    <tr>\n",
       "      <th>28</th>\n",
       "      <td>MasVnrType_BrkFace</td>\n",
       "      <td>-266.158017</td>\n",
       "    </tr>\n",
       "    <tr>\n",
       "      <th>29</th>\n",
       "      <td>GarageType_None</td>\n",
       "      <td>2299.145130</td>\n",
       "    </tr>\n",
       "  </tbody>\n",
       "</table>\n",
       "</div>"
      ],
      "text/plain": [
       "              predictors  coefficients\n",
       "0            OverallQual  14908.594664\n",
       "1              ExterQual   4320.241621\n",
       "2            KitchenQual   5839.984530\n",
       "3              GrLivArea  14247.070587\n",
       "4                 fe_Age  -2245.233816\n",
       "5               BsmtQual   1913.836111\n",
       "6             GarageArea   5735.091118\n",
       "7           GarageFinish   3311.160352\n",
       "8            TotalBsmtSF   4614.575240\n",
       "9       Foundation_PConc     -0.000000\n",
       "10              1stFlrSF   6649.038938\n",
       "11              FullBath  -1544.286333\n",
       "12             HeatingQC   2150.981630\n",
       "13           FireplaceQu   4374.748627\n",
       "14     GarageType_Attchd      0.000000\n",
       "15   Exterior1st_VinylSd  -1623.583367\n",
       "16   Exterior2nd_VinylSd      0.000000\n",
       "17       MasVnrType_None      0.000000\n",
       "18         MSSubClass_60   3660.447083\n",
       "19     GarageType_Detchd    246.219084\n",
       "20          BsmtFinType1   6394.876726\n",
       "21     Foundation_CBlock  -1822.665727\n",
       "22  Neighborhood_NridgHt   1854.068414\n",
       "23           MSZoning_RM  -2422.258177\n",
       "24              LotShape  -1141.455024\n",
       "25      MasVnrType_Stone   1543.911093\n",
       "26         MSSubClass_30   -143.744545\n",
       "27     Foundation_BrkTil  -1377.431578\n",
       "28    MasVnrType_BrkFace   -266.158017\n",
       "29       GarageType_None   2299.145130"
      ]
     },
     "execution_count": 157,
     "metadata": {},
     "output_type": "execute_result"
    }
   ],
   "source": [
    "# put the coef into a dataframe\n",
    "lasso_coef_df = pd.DataFrame({'predictors': [col for col in col_names],\n",
    "                              'coefficients': lasso_coefficients})\n",
    "print(len(lasso_coef_df))\n",
    "lasso_coef_df"
   ]
  },
  {
   "cell_type": "code",
   "execution_count": 158,
   "metadata": {},
   "outputs": [
    {
     "name": "stdout",
     "output_type": "stream",
     "text": [
      "4\n",
      "['Foundation_PConc', 'GarageType_Attchd', 'Exterior2nd_VinylSd', 'MasVnrType_None']\n"
     ]
    }
   ],
   "source": [
    "# coef with zero to drop\n",
    "lasso_coef_to_drop = lasso_coef_df.loc[lasso_coef_df.coefficients==0, ['predictors', 'coefficients']]\n",
    "lasso_coef_to_drop_list = lasso_coef_to_drop.predictors.tolist()\n",
    "print(len(lasso_coef_to_drop_list))\n",
    "print(lasso_coef_to_drop_list)"
   ]
  },
  {
   "cell_type": "markdown",
   "metadata": {},
   "source": [
    "### ElasticNet Regression"
   ]
  },
  {
   "cell_type": "code",
   "execution_count": 159,
   "metadata": {},
   "outputs": [],
   "source": [
    "# set parameters\n",
    "enet_alphas = np.arange(0.1, 1.0, 0.01) #elasticnet range usually very small scale\n",
    "enet_ratio = 0.5"
   ]
  },
  {
   "cell_type": "code",
   "execution_count": 160,
   "metadata": {},
   "outputs": [
    {
     "data": {
      "text/plain": [
       "ElasticNetCV(alphas=array([0.1 , 0.11, 0.12, 0.13, 0.14, 0.15, 0.16, 0.17, 0.18, 0.19, 0.2 ,\n",
       "       0.21, 0.22, 0.23, 0.24, 0.25, 0.26, 0.27, 0.28, 0.29, 0.3 , 0.31,\n",
       "       0.32, 0.33, 0.34, 0.35, 0.36, 0.37, 0.38, 0.39, 0.4 , 0.41, 0.42,\n",
       "       0.43, 0.44, 0.45, 0.46, 0.47, 0.48, 0.49, 0.5 , 0.51, 0.52, 0.53,\n",
       "       0.54, 0.55, 0.56, 0.57, 0.58, 0.59, 0.6 , 0.61, 0.62, 0.63, 0.64,\n",
       "       0.65, 0.66, 0.67, 0.68, 0.69, 0.7 , 0.71, 0.72, 0.73, 0.74, 0.75,\n",
       "       0.76, 0.77, 0.78, 0.79, 0.8 , 0.81, 0.82, 0.83, 0.84, 0.85, 0.86,\n",
       "       0.87, 0.88, 0.89, 0.9 , 0.91, 0.92, 0.93, 0.94, 0.95, 0.96, 0.97,\n",
       "       0.98, 0.99]),\n",
       "             cv=5)"
      ]
     },
     "execution_count": 160,
     "metadata": {},
     "output_type": "execute_result"
    }
   ],
   "source": [
    "# fit to ElasticNet regression model\n",
    "enet.fit(X_train_scaled, y_train)"
   ]
  },
  {
   "cell_type": "code",
   "execution_count": 161,
   "metadata": {},
   "outputs": [
    {
     "data": {
      "text/plain": [
       "0.1"
      ]
     },
     "execution_count": 161,
     "metadata": {},
     "output_type": "execute_result"
    }
   ],
   "source": [
    "# Here is the optimal value of alpha\n",
    "enet_optimal_alpha = enet.alpha_\n",
    "enet_optimal_alpha"
   ]
  },
  {
   "cell_type": "code",
   "execution_count": 162,
   "metadata": {},
   "outputs": [
    {
     "name": "stdout",
     "output_type": "stream",
     "text": [
      "R2 (ENet) of train set 0.8648126971614287\n",
      "R2 (ENet) of test set 0.8516798287207844\n"
     ]
    }
   ],
   "source": [
    "# evaluate R2 of elasticnet regression model\n",
    "print(\"R2 (ENet) of train set \" + str(enet.score(X_train_scaled,y_train)))\n",
    "print(\"R2 (ENet) of test set \" + str(enet.score(X_test_scaled,y_test)))"
   ]
  },
  {
   "cell_type": "code",
   "execution_count": 163,
   "metadata": {},
   "outputs": [
    {
     "name": "stdout",
     "output_type": "stream",
     "text": [
      "RMSE (ENet) of train set 21944.495929924702\n",
      "RMSE (ENet) of test set 20783.387609087582\n"
     ]
    }
   ],
   "source": [
    "# evaluate RMSE of Lasso regression model\n",
    "print(\"RMSE (ENet) of train set \" + str(np.sqrt(mean_squared_error(y_train, enet.predict(X_train_scaled)))))\n",
    "print(\"RMSE (ENet) of test set \" + str(np.sqrt(mean_squared_error(y_test,enet.predict(X_test_scaled)))))"
   ]
  },
  {
   "cell_type": "code",
   "execution_count": 164,
   "metadata": {},
   "outputs": [
    {
     "data": {
      "image/png": "[encoded data removed]",
      "text/plain": [
       "<Figure size 1080x504 with 1 Axes>"
      ]
     },
     "metadata": {
      "needs_background": "light"
     },
     "output_type": "display_data"
    }
   ],
   "source": [
    "# features with higher scores are more useful in predicting, sorting will be easier to see\n",
    "col_names = X_train.columns.tolist()\n",
    "pd.Series(enet.coef_, index=col_names).sort_values(ascending=False).plot.bar(figsize=(15,7)).grid(zorder=0);"
   ]
  },
  {
   "cell_type": "markdown",
   "metadata": {},
   "source": [
    "**Observation**\n",
    "\n",
    "Elastic net combines Ridge and Lasso penalties with both Ridge alpha and Lasso alpha acting as \"tuning\" parameters. Elastic Net allows for learning a sparse model where few of the weights are non-zero like Lasso, while still maintaining the regularization properties of Ridge. From the plot above, features such as `OverallQual``1stFlrSF``GrLivArea` would be penalized the most by Ridge, while features such as `Exterior2nd_VinylSd` would be penalized to zero by Lasso which also mean that it could be removed from the model."
   ]
  },
  {
   "cell_type": "code",
   "execution_count": 165,
   "metadata": {},
   "outputs": [
    {
     "data": {
      "text/plain": [
       "array([13652.1917759 ,  4646.107902  ,  5821.63406763, 13185.9906552 ,\n",
       "       -2039.46709919,  2432.00654144,  5691.13534733,  3311.47402916,\n",
       "        4630.49431992,  -247.25969527,  6766.8590846 , -1090.71998763,\n",
       "        2283.65134957,  4694.63503737,   454.31378396, -2366.56947629,\n",
       "         738.90197654,  -114.11108851,  3998.0139753 ,   677.8606372 ,\n",
       "        6076.8871831 , -2322.47927506,  1991.25496856, -2368.62122481,\n",
       "       -1306.24993581,  1607.87139433,  -657.06522555, -1593.55820434,\n",
       "        -250.06119039,  2330.25845516])"
      ]
     },
     "execution_count": 165,
     "metadata": {},
     "output_type": "execute_result"
    }
   ],
   "source": [
    "enet_coefficients = enet.coef_\n",
    "enet_coefficients"
   ]
  },
  {
   "cell_type": "code",
   "execution_count": 166,
   "metadata": {},
   "outputs": [
    {
     "data": {
      "text/html": [
       "<div>\n",
       "<style scoped>\n",
       "    .dataframe tbody tr th:only-of-type {\n",
       "        vertical-align: middle;\n",
       "    }\n",
       "\n",
       "    .dataframe tbody tr th {\n",
       "        vertical-align: top;\n",
       "    }\n",
       "\n",
       "    .dataframe thead th {\n",
       "        text-align: right;\n",
       "    }\n",
       "</style>\n",
       "<table border=\"1\" class=\"dataframe\">\n",
       "  <thead>\n",
       "    <tr style=\"text-align: right;\">\n",
       "      <th></th>\n",
       "      <th>predictors</th>\n",
       "      <th>coefficients</th>\n",
       "    </tr>\n",
       "  </thead>\n",
       "  <tbody>\n",
       "    <tr>\n",
       "      <th>0</th>\n",
       "      <td>OverallQual</td>\n",
       "      <td>13652.191776</td>\n",
       "    </tr>\n",
       "    <tr>\n",
       "      <th>1</th>\n",
       "      <td>ExterQual</td>\n",
       "      <td>4646.107902</td>\n",
       "    </tr>\n",
       "    <tr>\n",
       "      <th>2</th>\n",
       "      <td>KitchenQual</td>\n",
       "      <td>5821.634068</td>\n",
       "    </tr>\n",
       "    <tr>\n",
       "      <th>3</th>\n",
       "      <td>GrLivArea</td>\n",
       "      <td>13185.990655</td>\n",
       "    </tr>\n",
       "    <tr>\n",
       "      <th>4</th>\n",
       "      <td>fe_Age</td>\n",
       "      <td>-2039.467099</td>\n",
       "    </tr>\n",
       "    <tr>\n",
       "      <th>5</th>\n",
       "      <td>BsmtQual</td>\n",
       "      <td>2432.006541</td>\n",
       "    </tr>\n",
       "    <tr>\n",
       "      <th>6</th>\n",
       "      <td>GarageArea</td>\n",
       "      <td>5691.135347</td>\n",
       "    </tr>\n",
       "    <tr>\n",
       "      <th>7</th>\n",
       "      <td>GarageFinish</td>\n",
       "      <td>3311.474029</td>\n",
       "    </tr>\n",
       "    <tr>\n",
       "      <th>8</th>\n",
       "      <td>TotalBsmtSF</td>\n",
       "      <td>4630.494320</td>\n",
       "    </tr>\n",
       "    <tr>\n",
       "      <th>9</th>\n",
       "      <td>Foundation_PConc</td>\n",
       "      <td>-247.259695</td>\n",
       "    </tr>\n",
       "    <tr>\n",
       "      <th>10</th>\n",
       "      <td>1stFlrSF</td>\n",
       "      <td>6766.859085</td>\n",
       "    </tr>\n",
       "    <tr>\n",
       "      <th>11</th>\n",
       "      <td>FullBath</td>\n",
       "      <td>-1090.719988</td>\n",
       "    </tr>\n",
       "    <tr>\n",
       "      <th>12</th>\n",
       "      <td>HeatingQC</td>\n",
       "      <td>2283.651350</td>\n",
       "    </tr>\n",
       "    <tr>\n",
       "      <th>13</th>\n",
       "      <td>FireplaceQu</td>\n",
       "      <td>4694.635037</td>\n",
       "    </tr>\n",
       "    <tr>\n",
       "      <th>14</th>\n",
       "      <td>GarageType_Attchd</td>\n",
       "      <td>454.313784</td>\n",
       "    </tr>\n",
       "    <tr>\n",
       "      <th>15</th>\n",
       "      <td>Exterior1st_VinylSd</td>\n",
       "      <td>-2366.569476</td>\n",
       "    </tr>\n",
       "    <tr>\n",
       "      <th>16</th>\n",
       "      <td>Exterior2nd_VinylSd</td>\n",
       "      <td>738.901977</td>\n",
       "    </tr>\n",
       "    <tr>\n",
       "      <th>17</th>\n",
       "      <td>MasVnrType_None</td>\n",
       "      <td>-114.111089</td>\n",
       "    </tr>\n",
       "    <tr>\n",
       "      <th>18</th>\n",
       "      <td>MSSubClass_60</td>\n",
       "      <td>3998.013975</td>\n",
       "    </tr>\n",
       "    <tr>\n",
       "      <th>19</th>\n",
       "      <td>GarageType_Detchd</td>\n",
       "      <td>677.860637</td>\n",
       "    </tr>\n",
       "    <tr>\n",
       "      <th>20</th>\n",
       "      <td>BsmtFinType1</td>\n",
       "      <td>6076.887183</td>\n",
       "    </tr>\n",
       "    <tr>\n",
       "      <th>21</th>\n",
       "      <td>Foundation_CBlock</td>\n",
       "      <td>-2322.479275</td>\n",
       "    </tr>\n",
       "    <tr>\n",
       "      <th>22</th>\n",
       "      <td>Neighborhood_NridgHt</td>\n",
       "      <td>1991.254969</td>\n",
       "    </tr>\n",
       "    <tr>\n",
       "      <th>23</th>\n",
       "      <td>MSZoning_RM</td>\n",
       "      <td>-2368.621225</td>\n",
       "    </tr>\n",
       "    <tr>\n",
       "      <th>24</th>\n",
       "      <td>LotShape</td>\n",
       "      <td>-1306.249936</td>\n",
       "    </tr>\n",
       "    <tr>\n",
       "      <th>25</th>\n",
       "      <td>MasVnrType_Stone</td>\n",
       "      <td>1607.871394</td>\n",
       "    </tr>\n",
       "    <tr>\n",
       "      <th>26</th>\n",
       "      <td>MSSubClass_30</td>\n",
       "      <td>-657.065226</td>\n",
       "    </tr>\n",
       "    <tr>\n",
       "      <th>27</th>\n",
       "      <td>Foundation_BrkTil</td>\n",
       "      <td>-1593.558204</td>\n",
       "    </tr>\n",
       "    <tr>\n",
       "      <th>28</th>\n",
       "      <td>MasVnrType_BrkFace</td>\n",
       "      <td>-250.061190</td>\n",
       "    </tr>\n",
       "    <tr>\n",
       "      <th>29</th>\n",
       "      <td>GarageType_None</td>\n",
       "      <td>2330.258455</td>\n",
       "    </tr>\n",
       "  </tbody>\n",
       "</table>\n",
       "</div>"
      ],
      "text/plain": [
       "              predictors  coefficients\n",
       "0            OverallQual  13652.191776\n",
       "1              ExterQual   4646.107902\n",
       "2            KitchenQual   5821.634068\n",
       "3              GrLivArea  13185.990655\n",
       "4                 fe_Age  -2039.467099\n",
       "5               BsmtQual   2432.006541\n",
       "6             GarageArea   5691.135347\n",
       "7           GarageFinish   3311.474029\n",
       "8            TotalBsmtSF   4630.494320\n",
       "9       Foundation_PConc   -247.259695\n",
       "10              1stFlrSF   6766.859085\n",
       "11              FullBath  -1090.719988\n",
       "12             HeatingQC   2283.651350\n",
       "13           FireplaceQu   4694.635037\n",
       "14     GarageType_Attchd    454.313784\n",
       "15   Exterior1st_VinylSd  -2366.569476\n",
       "16   Exterior2nd_VinylSd    738.901977\n",
       "17       MasVnrType_None   -114.111089\n",
       "18         MSSubClass_60   3998.013975\n",
       "19     GarageType_Detchd    677.860637\n",
       "20          BsmtFinType1   6076.887183\n",
       "21     Foundation_CBlock  -2322.479275\n",
       "22  Neighborhood_NridgHt   1991.254969\n",
       "23           MSZoning_RM  -2368.621225\n",
       "24              LotShape  -1306.249936\n",
       "25      MasVnrType_Stone   1607.871394\n",
       "26         MSSubClass_30   -657.065226\n",
       "27     Foundation_BrkTil  -1593.558204\n",
       "28    MasVnrType_BrkFace   -250.061190\n",
       "29       GarageType_None   2330.258455"
      ]
     },
     "execution_count": 166,
     "metadata": {},
     "output_type": "execute_result"
    }
   ],
   "source": [
    "enet_coef_df = pd.DataFrame({'predictors': [col for col in col_names],\n",
    "                              'coefficients': enet_coefficients})\n",
    "enet_coef_df"
   ]
  },
  {
   "cell_type": "code",
   "execution_count": 167,
   "metadata": {},
   "outputs": [
    {
     "name": "stdout",
     "output_type": "stream",
     "text": [
      "0\n",
      "[]\n"
     ]
    }
   ],
   "source": [
    "# coef with zero to drop\n",
    "enet_coef_to_drop = enet_coef_df.loc[enet_coef_df.coefficients==0, ['predictors', 'coefficients']]\n",
    "enet_coef_to_drop_list = enet_coef_to_drop.predictors.tolist()\n",
    "print(len(enet_coef_to_drop_list))\n",
    "print(enet_coef_to_drop_list)"
   ]
  },
  {
   "attachments": {},
   "cell_type": "markdown",
   "metadata": {},
   "source": [
    "### Interpretation of model's evaluation\n",
    "\n",
    "\n",
    "|Model Type|Validation Method|R2|RMSE|R2 var +/- 5%|RMSE better?|Remarks|\n",
    "|:---|:---|:---|:---|:---:|:---:|:---|\n",
    "|Baseline (Unseen data)|LR cross validation|       0.8577| \t  22,146|---|---|---|\n",
    "|---|---|---|---|---|---|---|\n",
    "|Train bloc|LR cross validation|\t  0.8565| \t 22,543|Yes|No|Lower bias, Increase variance|\n",
    "|Train bloc|Ridge cross validation|\t 0.8571| \t 22,497|Yes|No|Lower bias, Increase variance|\n",
    "|Train bloc|Lasso cross validation|\t 0.8566| \t 22,536|Yes|No|Lower bias, Increase variance|\n",
    "|Train bloc|ElasticNet cross validation|\t 0.8570| \t 22,507|Yes|No|Lower bias, Increase variance|\n",
    "|---|---|---|---|---|---|---|\n",
    "|LR on Train bloc|fit and score|\t 0.8657| \t 21,871|Yes|Yes|Increase bias, Lower variance|\n",
    "|Ridge on Train bloc|fit and score|\t 0.8653| \t 21,903|Yes|Yes|Increase bias, Lower variance|\n",
    "|Lasso on Train bloc|fit and score|\t 0.8651| \t 21,924|Yes|Yes|Increase bias, Lower variance|\n",
    "|ElasticNet on Train bloc|fit and score|\t 0.8648| \t 21,944|Yes|Yes|Increase bias, Lower variance|\n",
    "|---|---|---|---|---|---|---|\n",
    "|LR on Test bloc|fit and score|\t  0.8517| \t 20,783|Yes|Yes|Increase bias, Lower variance|\n",
    "|Ridge on Test bloc|fit and score|\t 0.8515| \t 20,796|Yes|Yes|Increase bias, Lower variance|\n",
    "|Lasso on Test bloc| fit and score|\t 0.8510| \t 20,833 |Yes|Yes|Increase bias, Lower variance|\n",
    "|ElasticNet on Test bloc|fit and score|\t 0.8517| \t 20,783|Yes|Yes|Increase bias, Lower variance|"
   ]
  },
  {
   "cell_type": "markdown",
   "metadata": {},
   "source": [
    "**Observation**\n",
    "\n",
    "**1. Train bloc Fit and Score vs Train bloc Cross Validation:**\n",
    "- Although there was an increase in bias (R2), it was within tolerance.\n",
    "- Variance had decreased considerably across models using default hyperparameters and optimal alphas. Among the models, Lasso Regression had the largest reduction in RMSE of -2.71% (21924/22536).\n",
    "\n",
    "**2. Test bloc Fit and Score vs Train bloc Fit and Score**\n",
    "- Consistent in increase in bias but within tolerance and decreased variance considerably across all models. Again, among the models, Lasso Regression registered the largest reduction in RMSE of -7.56% (20833/22536).\n",
    "\n",
    "**3. Train and Test bloc vs Baseline Cross Validation**\n",
    "- In comparison to baseline, all the models had lower RMSE than baseline. This is encouraging as it proved that the models are all working to outperform baseline, we just need to choose the best one.\n",
    "- Both the train and test bloc results were consistent against baseline as well.\n",
    "\n",
    "**MODEL SELECTED**\n",
    "\n",
    "Based on the results, although all models performed better. Lasso Regression produced the best result of reducing variance, RMSE score while maintaining with 5% tolerance of R2. We also observed that there are 4 features that Lasso zeroed their coefficients which meant that we could removed these 4 features from the model.\n",
    "\n",
    "The optimal alpha was calculated at 111.200979547034. Thus, we decided to fine-tune the Lasso model by removing the 5 features and re-run it at optimal alpha, then setting it as the selected production model."
   ]
  },
  {
   "cell_type": "markdown",
   "metadata": {},
   "source": [
    "## Re-run Lasso with reduced features"
   ]
  },
  {
   "cell_type": "code",
   "execution_count": 168,
   "metadata": {},
   "outputs": [
    {
     "name": "stdout",
     "output_type": "stream",
     "text": [
      "(1646, 26)\n",
      "(1646,)\n"
     ]
    }
   ],
   "source": [
    "# now we drop the features recommended by lasso at optimal alpha and create a reduced dataframe for model benchmark\n",
    "\n",
    "X_reduced = X.drop(columns=lasso_coef_to_drop_list, axis=1, inplace=False)\n",
    "y_reduced = final_train_df[\"SalePrice\"]\n",
    "print(X_reduced.shape)\n",
    "print(y_reduced.shape)"
   ]
  },
  {
   "cell_type": "code",
   "execution_count": 169,
   "metadata": {},
   "outputs": [
    {
     "name": "stdout",
     "output_type": "stream",
     "text": [
      "(1234, 26) (412, 26)\n",
      "(1234,) (412,)\n"
     ]
    }
   ],
   "source": [
    "# re-create train-test-split as the number of columns had changed\n",
    "X_train, X_test, y_train, y_test = train_test_split(X_reduced, y_reduced, random_state=42)\n",
    "print(X_train.shape, X_test.shape)\n",
    "print(y_train.shape, y_test.shape)"
   ]
  },
  {
   "cell_type": "code",
   "execution_count": 170,
   "metadata": {},
   "outputs": [],
   "source": [
    "# re-instantiate\n",
    "ss = StandardScaler()\n",
    "\n",
    "# re-fit X\n",
    "ss.fit(X_train)\n",
    "\n",
    "X_train_scaled = ss.transform(X_train)\n",
    "X_test_scaled = ss.transform(X_test)"
   ]
  },
  {
   "cell_type": "code",
   "execution_count": 171,
   "metadata": {},
   "outputs": [],
   "source": [
    "# Lasso Model with the recommended optima alpha in earlier step\n",
    "lasso = Lasso(alpha = 111.200979547034)"
   ]
  },
  {
   "cell_type": "code",
   "execution_count": 172,
   "metadata": {},
   "outputs": [
    {
     "data": {
      "text/plain": [
       "Lasso(alpha=111.200979547034)"
      ]
     },
     "execution_count": 172,
     "metadata": {},
     "output_type": "execute_result"
    }
   ],
   "source": [
    "# fit to lasso regression model\n",
    "lasso.fit(X_train_scaled,y_train)"
   ]
  },
  {
   "cell_type": "code",
   "execution_count": 173,
   "metadata": {},
   "outputs": [
    {
     "name": "stdout",
     "output_type": "stream",
     "text": [
      "R2 (Lasso) of train set 0.8650614386408628\n",
      "R2 (Lasso) of test set 0.8509791082787601\n"
     ]
    }
   ],
   "source": [
    "# evaluate R2 of Lasso regression model\n",
    "print(\"R2 (Lasso) of train set \" + str(lasso.score(X_train_scaled,y_train)))\n",
    "print(\"R2 (Lasso) of test set \" + str(lasso.score(X_test_scaled,y_test)))\n",
    "#print(\"R2 (Lasso) estimate of model using train set \" + str(lasso_cv_scores.mean()))"
   ]
  },
  {
   "cell_type": "code",
   "execution_count": 174,
   "metadata": {},
   "outputs": [
    {
     "name": "stdout",
     "output_type": "stream",
     "text": [
      "RMSE (Lasso) of train set 21924.297954737383\n",
      "RMSE (Lasso) of test set 20832.42404241633\n"
     ]
    }
   ],
   "source": [
    "# evaluate RMSE of Lasso regression model\n",
    "print(\"RMSE (Lasso) of train set \" + str(np.sqrt(mean_squared_error(y_train, lasso.predict(X_train_scaled)))))\n",
    "print(\"RMSE (Lasso) of test set \" + str(np.sqrt(mean_squared_error(y_test,lasso.predict(X_test_scaled)))))\n",
    "#print(\"RMSE (Lasso) estimate of model using train set \" + str(np.sqrt(lasso_cv_mse_scores.mean())))"
   ]
  },
  {
   "cell_type": "code",
   "execution_count": 175,
   "metadata": {},
   "outputs": [
    {
     "data": {
      "image/png": "[encoded data removed]",
      "text/plain": [
       "<Figure size 1080x504 with 1 Axes>"
      ]
     },
     "metadata": {
      "needs_background": "light"
     },
     "output_type": "display_data"
    }
   ],
   "source": [
    "# features with higher scores are more useful in predicting, sorting will be easier to see\n",
    "col_names = X_train.columns.tolist()\n",
    "pd.Series(lasso.coef_, index=col_names).sort_values(ascending=False).plot.bar(figsize=(15,7)).grid(zorder=0);"
   ]
  },
  {
   "cell_type": "markdown",
   "metadata": {},
   "source": [
    "**Observation**\n",
    "\n",
    "Based on the selected features and after going through regularization (constraint to the limits of the range of tests for alphas). The best predictors are depicted in the Lasso model that minimized the RMSE the most. This production model shall be the basis for predicting sale prices of the Kaggle's Test data file."
   ]
  },
  {
   "cell_type": "code",
   "execution_count": 176,
   "metadata": {},
   "outputs": [
    {
     "data": {
      "text/plain": [
       "array([14916.29785578,  4323.62628634,  5838.97223231, 14238.02669258,\n",
       "       -2234.24311504,  1907.37318858,  5730.49621183,  3305.96615192,\n",
       "        4618.74639917,  6649.65237203, -1542.74098925,  2149.77720082,\n",
       "        4374.89555083, -1623.17970595,  3667.28227691,   244.06537841,\n",
       "        6396.45297423, -1827.61538052,  1854.11780841, -2422.43124897,\n",
       "       -1141.88807182,  1545.29789002,  -146.32828014, -1382.41416588,\n",
       "        -264.91033997,  2294.28135307])"
      ]
     },
     "execution_count": 176,
     "metadata": {},
     "output_type": "execute_result"
    }
   ],
   "source": [
    "lasso_coefficients = lasso.coef_\n",
    "lasso_coefficients"
   ]
  },
  {
   "cell_type": "code",
   "execution_count": 177,
   "metadata": {},
   "outputs": [
    {
     "name": "stdout",
     "output_type": "stream",
     "text": [
      "26\n"
     ]
    },
    {
     "data": {
      "text/html": [
       "<div>\n",
       "<style scoped>\n",
       "    .dataframe tbody tr th:only-of-type {\n",
       "        vertical-align: middle;\n",
       "    }\n",
       "\n",
       "    .dataframe tbody tr th {\n",
       "        vertical-align: top;\n",
       "    }\n",
       "\n",
       "    .dataframe thead th {\n",
       "        text-align: right;\n",
       "    }\n",
       "</style>\n",
       "<table border=\"1\" class=\"dataframe\">\n",
       "  <thead>\n",
       "    <tr style=\"text-align: right;\">\n",
       "      <th></th>\n",
       "      <th>predictors</th>\n",
       "      <th>coefficients</th>\n",
       "    </tr>\n",
       "  </thead>\n",
       "  <tbody>\n",
       "    <tr>\n",
       "      <th>0</th>\n",
       "      <td>OverallQual</td>\n",
       "      <td>14916.297856</td>\n",
       "    </tr>\n",
       "    <tr>\n",
       "      <th>1</th>\n",
       "      <td>ExterQual</td>\n",
       "      <td>4323.626286</td>\n",
       "    </tr>\n",
       "    <tr>\n",
       "      <th>2</th>\n",
       "      <td>KitchenQual</td>\n",
       "      <td>5838.972232</td>\n",
       "    </tr>\n",
       "    <tr>\n",
       "      <th>3</th>\n",
       "      <td>GrLivArea</td>\n",
       "      <td>14238.026693</td>\n",
       "    </tr>\n",
       "    <tr>\n",
       "      <th>4</th>\n",
       "      <td>fe_Age</td>\n",
       "      <td>-2234.243115</td>\n",
       "    </tr>\n",
       "    <tr>\n",
       "      <th>5</th>\n",
       "      <td>BsmtQual</td>\n",
       "      <td>1907.373189</td>\n",
       "    </tr>\n",
       "    <tr>\n",
       "      <th>6</th>\n",
       "      <td>GarageArea</td>\n",
       "      <td>5730.496212</td>\n",
       "    </tr>\n",
       "    <tr>\n",
       "      <th>7</th>\n",
       "      <td>GarageFinish</td>\n",
       "      <td>3305.966152</td>\n",
       "    </tr>\n",
       "    <tr>\n",
       "      <th>8</th>\n",
       "      <td>TotalBsmtSF</td>\n",
       "      <td>4618.746399</td>\n",
       "    </tr>\n",
       "    <tr>\n",
       "      <th>9</th>\n",
       "      <td>1stFlrSF</td>\n",
       "      <td>6649.652372</td>\n",
       "    </tr>\n",
       "    <tr>\n",
       "      <th>10</th>\n",
       "      <td>FullBath</td>\n",
       "      <td>-1542.740989</td>\n",
       "    </tr>\n",
       "    <tr>\n",
       "      <th>11</th>\n",
       "      <td>HeatingQC</td>\n",
       "      <td>2149.777201</td>\n",
       "    </tr>\n",
       "    <tr>\n",
       "      <th>12</th>\n",
       "      <td>FireplaceQu</td>\n",
       "      <td>4374.895551</td>\n",
       "    </tr>\n",
       "    <tr>\n",
       "      <th>13</th>\n",
       "      <td>Exterior1st_VinylSd</td>\n",
       "      <td>-1623.179706</td>\n",
       "    </tr>\n",
       "    <tr>\n",
       "      <th>14</th>\n",
       "      <td>MSSubClass_60</td>\n",
       "      <td>3667.282277</td>\n",
       "    </tr>\n",
       "    <tr>\n",
       "      <th>15</th>\n",
       "      <td>GarageType_Detchd</td>\n",
       "      <td>244.065378</td>\n",
       "    </tr>\n",
       "    <tr>\n",
       "      <th>16</th>\n",
       "      <td>BsmtFinType1</td>\n",
       "      <td>6396.452974</td>\n",
       "    </tr>\n",
       "    <tr>\n",
       "      <th>17</th>\n",
       "      <td>Foundation_CBlock</td>\n",
       "      <td>-1827.615381</td>\n",
       "    </tr>\n",
       "    <tr>\n",
       "      <th>18</th>\n",
       "      <td>Neighborhood_NridgHt</td>\n",
       "      <td>1854.117808</td>\n",
       "    </tr>\n",
       "    <tr>\n",
       "      <th>19</th>\n",
       "      <td>MSZoning_RM</td>\n",
       "      <td>-2422.431249</td>\n",
       "    </tr>\n",
       "    <tr>\n",
       "      <th>20</th>\n",
       "      <td>LotShape</td>\n",
       "      <td>-1141.888072</td>\n",
       "    </tr>\n",
       "    <tr>\n",
       "      <th>21</th>\n",
       "      <td>MasVnrType_Stone</td>\n",
       "      <td>1545.297890</td>\n",
       "    </tr>\n",
       "    <tr>\n",
       "      <th>22</th>\n",
       "      <td>MSSubClass_30</td>\n",
       "      <td>-146.328280</td>\n",
       "    </tr>\n",
       "    <tr>\n",
       "      <th>23</th>\n",
       "      <td>Foundation_BrkTil</td>\n",
       "      <td>-1382.414166</td>\n",
       "    </tr>\n",
       "    <tr>\n",
       "      <th>24</th>\n",
       "      <td>MasVnrType_BrkFace</td>\n",
       "      <td>-264.910340</td>\n",
       "    </tr>\n",
       "    <tr>\n",
       "      <th>25</th>\n",
       "      <td>GarageType_None</td>\n",
       "      <td>2294.281353</td>\n",
       "    </tr>\n",
       "  </tbody>\n",
       "</table>\n",
       "</div>"
      ],
      "text/plain": [
       "              predictors  coefficients\n",
       "0            OverallQual  14916.297856\n",
       "1              ExterQual   4323.626286\n",
       "2            KitchenQual   5838.972232\n",
       "3              GrLivArea  14238.026693\n",
       "4                 fe_Age  -2234.243115\n",
       "5               BsmtQual   1907.373189\n",
       "6             GarageArea   5730.496212\n",
       "7           GarageFinish   3305.966152\n",
       "8            TotalBsmtSF   4618.746399\n",
       "9               1stFlrSF   6649.652372\n",
       "10              FullBath  -1542.740989\n",
       "11             HeatingQC   2149.777201\n",
       "12           FireplaceQu   4374.895551\n",
       "13   Exterior1st_VinylSd  -1623.179706\n",
       "14         MSSubClass_60   3667.282277\n",
       "15     GarageType_Detchd    244.065378\n",
       "16          BsmtFinType1   6396.452974\n",
       "17     Foundation_CBlock  -1827.615381\n",
       "18  Neighborhood_NridgHt   1854.117808\n",
       "19           MSZoning_RM  -2422.431249\n",
       "20              LotShape  -1141.888072\n",
       "21      MasVnrType_Stone   1545.297890\n",
       "22         MSSubClass_30   -146.328280\n",
       "23     Foundation_BrkTil  -1382.414166\n",
       "24    MasVnrType_BrkFace   -264.910340\n",
       "25       GarageType_None   2294.281353"
      ]
     },
     "execution_count": 177,
     "metadata": {},
     "output_type": "execute_result"
    }
   ],
   "source": [
    "# put the coef into a dataframe\n",
    "lasso_coef_df = pd.DataFrame({'predictors': [col for col in col_names],\n",
    "                              'coefficients': lasso_coefficients})\n",
    "print(len(lasso_coef_df))\n",
    "lasso_coef_df"
   ]
  },
  {
   "cell_type": "markdown",
   "metadata": {},
   "source": [
    "# Finalizing Production Model\n",
    "\n",
    "Here we performed the final preparation of the dataset for training our Lasso production model. There were 27 columns in total consisting of 26 features and the SalePrice column. There were 2050 rows of data."
   ]
  },
  {
   "cell_type": "code",
   "execution_count": 178,
   "metadata": {},
   "outputs": [
    {
     "name": "stdout",
     "output_type": "stream",
     "text": [
      "(1646, 26)\n",
      "27\n",
      "['OverallQual', 'ExterQual', 'KitchenQual', 'GrLivArea', 'fe_Age', 'BsmtQual', 'GarageArea', 'GarageFinish', 'TotalBsmtSF', '1stFlrSF', 'FullBath', 'HeatingQC', 'FireplaceQu', 'Exterior1st_VinylSd', 'MSSubClass_60', 'GarageType_Detchd', 'BsmtFinType1', 'Foundation_CBlock', 'Neighborhood_NridgHt', 'MSZoning_RM', 'LotShape', 'MasVnrType_Stone', 'MSSubClass_30', 'Foundation_BrkTil', 'MasVnrType_BrkFace', 'GarageType_None', 'SalePrice']\n"
     ]
    }
   ],
   "source": [
    "# update production model feature list\n",
    "prod_feat_list = X_reduced.columns.tolist()\n",
    "print(X_reduced.shape)\n",
    "prod_feat_list.append(\"SalePrice\") #adding back salesprice\n",
    "print(len(prod_feat_list))\n",
    "print(prod_feat_list)"
   ]
  },
  {
   "cell_type": "code",
   "execution_count": 179,
   "metadata": {},
   "outputs": [
    {
     "name": "stdout",
     "output_type": "stream",
     "text": [
      "(1646, 27)\n"
     ]
    },
    {
     "data": {
      "text/html": [
       "<div>\n",
       "<style scoped>\n",
       "    .dataframe tbody tr th:only-of-type {\n",
       "        vertical-align: middle;\n",
       "    }\n",
       "\n",
       "    .dataframe tbody tr th {\n",
       "        vertical-align: top;\n",
       "    }\n",
       "\n",
       "    .dataframe thead th {\n",
       "        text-align: right;\n",
       "    }\n",
       "</style>\n",
       "<table border=\"1\" class=\"dataframe\">\n",
       "  <thead>\n",
       "    <tr style=\"text-align: right;\">\n",
       "      <th></th>\n",
       "      <th>OverallQual</th>\n",
       "      <th>ExterQual</th>\n",
       "      <th>KitchenQual</th>\n",
       "      <th>GrLivArea</th>\n",
       "      <th>fe_Age</th>\n",
       "      <th>BsmtQual</th>\n",
       "      <th>GarageArea</th>\n",
       "      <th>GarageFinish</th>\n",
       "      <th>TotalBsmtSF</th>\n",
       "      <th>1stFlrSF</th>\n",
       "      <th>FullBath</th>\n",
       "      <th>HeatingQC</th>\n",
       "      <th>FireplaceQu</th>\n",
       "      <th>Exterior1st_VinylSd</th>\n",
       "      <th>MSSubClass_60</th>\n",
       "      <th>GarageType_Detchd</th>\n",
       "      <th>BsmtFinType1</th>\n",
       "      <th>Foundation_CBlock</th>\n",
       "      <th>Neighborhood_NridgHt</th>\n",
       "      <th>MSZoning_RM</th>\n",
       "      <th>LotShape</th>\n",
       "      <th>MasVnrType_Stone</th>\n",
       "      <th>MSSubClass_30</th>\n",
       "      <th>Foundation_BrkTil</th>\n",
       "      <th>MasVnrType_BrkFace</th>\n",
       "      <th>GarageType_None</th>\n",
       "      <th>SalePrice</th>\n",
       "    </tr>\n",
       "  </thead>\n",
       "  <tbody>\n",
       "    <tr>\n",
       "      <th>0</th>\n",
       "      <td>6</td>\n",
       "      <td>4</td>\n",
       "      <td>4</td>\n",
       "      <td>1479</td>\n",
       "      <td>44</td>\n",
       "      <td>4</td>\n",
       "      <td>475.0</td>\n",
       "      <td>3</td>\n",
       "      <td>725.0</td>\n",
       "      <td>725</td>\n",
       "      <td>2</td>\n",
       "      <td>5</td>\n",
       "      <td>1</td>\n",
       "      <td>0</td>\n",
       "      <td>1</td>\n",
       "      <td>0</td>\n",
       "      <td>7</td>\n",
       "      <td>1</td>\n",
       "      <td>0</td>\n",
       "      <td>0</td>\n",
       "      <td>3</td>\n",
       "      <td>0</td>\n",
       "      <td>0</td>\n",
       "      <td>0</td>\n",
       "      <td>1</td>\n",
       "      <td>0</td>\n",
       "      <td>130500</td>\n",
       "    </tr>\n",
       "    <tr>\n",
       "      <th>1</th>\n",
       "      <td>7</td>\n",
       "      <td>4</td>\n",
       "      <td>4</td>\n",
       "      <td>2122</td>\n",
       "      <td>24</td>\n",
       "      <td>5</td>\n",
       "      <td>559.0</td>\n",
       "      <td>3</td>\n",
       "      <td>913.0</td>\n",
       "      <td>913</td>\n",
       "      <td>2</td>\n",
       "      <td>5</td>\n",
       "      <td>4</td>\n",
       "      <td>1</td>\n",
       "      <td>1</td>\n",
       "      <td>0</td>\n",
       "      <td>7</td>\n",
       "      <td>0</td>\n",
       "      <td>0</td>\n",
       "      <td>0</td>\n",
       "      <td>3</td>\n",
       "      <td>0</td>\n",
       "      <td>0</td>\n",
       "      <td>0</td>\n",
       "      <td>1</td>\n",
       "      <td>0</td>\n",
       "      <td>220000</td>\n",
       "    </tr>\n",
       "    <tr>\n",
       "      <th>2</th>\n",
       "      <td>5</td>\n",
       "      <td>3</td>\n",
       "      <td>4</td>\n",
       "      <td>1057</td>\n",
       "      <td>67</td>\n",
       "      <td>4</td>\n",
       "      <td>246.0</td>\n",
       "      <td>2</td>\n",
       "      <td>1057.0</td>\n",
       "      <td>1057</td>\n",
       "      <td>1</td>\n",
       "      <td>3</td>\n",
       "      <td>1</td>\n",
       "      <td>1</td>\n",
       "      <td>0</td>\n",
       "      <td>1</td>\n",
       "      <td>7</td>\n",
       "      <td>1</td>\n",
       "      <td>0</td>\n",
       "      <td>0</td>\n",
       "      <td>4</td>\n",
       "      <td>0</td>\n",
       "      <td>0</td>\n",
       "      <td>0</td>\n",
       "      <td>0</td>\n",
       "      <td>0</td>\n",
       "      <td>109000</td>\n",
       "    </tr>\n",
       "    <tr>\n",
       "      <th>3</th>\n",
       "      <td>5</td>\n",
       "      <td>3</td>\n",
       "      <td>3</td>\n",
       "      <td>1444</td>\n",
       "      <td>14</td>\n",
       "      <td>5</td>\n",
       "      <td>400.0</td>\n",
       "      <td>4</td>\n",
       "      <td>384.0</td>\n",
       "      <td>744</td>\n",
       "      <td>2</td>\n",
       "      <td>4</td>\n",
       "      <td>1</td>\n",
       "      <td>1</td>\n",
       "      <td>1</td>\n",
       "      <td>0</td>\n",
       "      <td>2</td>\n",
       "      <td>0</td>\n",
       "      <td>0</td>\n",
       "      <td>0</td>\n",
       "      <td>4</td>\n",
       "      <td>0</td>\n",
       "      <td>0</td>\n",
       "      <td>0</td>\n",
       "      <td>0</td>\n",
       "      <td>0</td>\n",
       "      <td>174000</td>\n",
       "    </tr>\n",
       "    <tr>\n",
       "      <th>4</th>\n",
       "      <td>6</td>\n",
       "      <td>3</td>\n",
       "      <td>3</td>\n",
       "      <td>1445</td>\n",
       "      <td>120</td>\n",
       "      <td>3</td>\n",
       "      <td>484.0</td>\n",
       "      <td>2</td>\n",
       "      <td>676.0</td>\n",
       "      <td>831</td>\n",
       "      <td>2</td>\n",
       "      <td>3</td>\n",
       "      <td>1</td>\n",
       "      <td>0</td>\n",
       "      <td>0</td>\n",
       "      <td>1</td>\n",
       "      <td>2</td>\n",
       "      <td>0</td>\n",
       "      <td>0</td>\n",
       "      <td>0</td>\n",
       "      <td>3</td>\n",
       "      <td>0</td>\n",
       "      <td>0</td>\n",
       "      <td>0</td>\n",
       "      <td>0</td>\n",
       "      <td>0</td>\n",
       "      <td>138500</td>\n",
       "    </tr>\n",
       "  </tbody>\n",
       "</table>\n",
       "</div>"
      ],
      "text/plain": [
       "   OverallQual  ExterQual  KitchenQual  GrLivArea  fe_Age  BsmtQual  \\\n",
       "0            6          4            4       1479      44         4   \n",
       "1            7          4            4       2122      24         5   \n",
       "2            5          3            4       1057      67         4   \n",
       "3            5          3            3       1444      14         5   \n",
       "4            6          3            3       1445     120         3   \n",
       "\n",
       "   GarageArea  GarageFinish  TotalBsmtSF  1stFlrSF  FullBath  HeatingQC  \\\n",
       "0       475.0             3        725.0       725         2          5   \n",
       "1       559.0             3        913.0       913         2          5   \n",
       "2       246.0             2       1057.0      1057         1          3   \n",
       "3       400.0             4        384.0       744         2          4   \n",
       "4       484.0             2        676.0       831         2          3   \n",
       "\n",
       "   FireplaceQu  Exterior1st_VinylSd  MSSubClass_60  GarageType_Detchd  \\\n",
       "0            1                    0              1                  0   \n",
       "1            4                    1              1                  0   \n",
       "2            1                    1              0                  1   \n",
       "3            1                    1              1                  0   \n",
       "4            1                    0              0                  1   \n",
       "\n",
       "   BsmtFinType1  Foundation_CBlock  Neighborhood_NridgHt  MSZoning_RM  \\\n",
       "0             7                  1                     0            0   \n",
       "1             7                  0                     0            0   \n",
       "2             7                  1                     0            0   \n",
       "3             2                  0                     0            0   \n",
       "4             2                  0                     0            0   \n",
       "\n",
       "   LotShape  MasVnrType_Stone  MSSubClass_30  Foundation_BrkTil  \\\n",
       "0         3                 0              0                  0   \n",
       "1         3                 0              0                  0   \n",
       "2         4                 0              0                  0   \n",
       "3         4                 0              0                  0   \n",
       "4         3                 0              0                  0   \n",
       "\n",
       "   MasVnrType_BrkFace  GarageType_None  SalePrice  \n",
       "0                   1                0     130500  \n",
       "1                   1                0     220000  \n",
       "2                   0                0     109000  \n",
       "3                   0                0     174000  \n",
       "4                   0                0     138500  "
      ]
     },
     "execution_count": 179,
     "metadata": {},
     "output_type": "execute_result"
    }
   ],
   "source": [
    "prod_df = final_train_df[prod_feat_list]\n",
    "print(prod_df.shape)\n",
    "prod_df.head()"
   ]
  },
  {
   "cell_type": "markdown",
   "metadata": {},
   "source": [
    "# Exporting Production model data to next step (prod_df dataset to a csv file)"
   ]
  },
  {
   "cell_type": "code",
   "execution_count": 180,
   "metadata": {},
   "outputs": [],
   "source": [
    "prod_df.to_csv('../datasets/prod_df.csv', index=False)"
   ]
  },
  {
   "cell_type": "markdown",
   "metadata": {},
   "source": [
    "## We will continue in the next code file so we don't have to keep waiting for re-run processing of plots everytime."
   ]
  }
 ],
 "metadata": {
  "kernelspec": {
   "display_name": "Python 3",
   "language": "python",
   "name": "python3"
  },
  "language_info": {
   "codemirror_mode": {
    "name": "ipython",
    "version": 3
   },
   "file_extension": ".py",
   "mimetype": "text/x-python",
   "name": "python",
   "nbconvert_exporter": "python",
   "pygments_lexer": "ipython3",
   "version": "3.8.5"
  },
  "toc": {
   "base_numbering": 1,
   "nav_menu": {},
   "number_sections": true,
   "sideBar": true,
   "skip_h1_title": false,
   "title_cell": "Table of Contents",
   "title_sidebar": "Contents",
   "toc_cell": false,
   "toc_position": {
    "height": "calc(100% - 180px)",
    "left": "10px",
    "top": "150px",
    "width": "254px"
   },
   "toc_section_display": true,
   "toc_window_display": true
  }
 },
 "nbformat": 4,
 "nbformat_minor": 4
}
